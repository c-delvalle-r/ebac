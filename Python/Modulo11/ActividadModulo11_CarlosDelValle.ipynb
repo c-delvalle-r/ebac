{
 "cells": [
  {
   "cell_type": "markdown",
   "metadata": {},
   "source": [
    "# Actividad Módulo 11: Funciones Avanzadas\n",
    "Por cada ejercicio es necesario realizar el código de python sin utlizar la función estudiada y el código utilizando la función estudiada"
   ]
  },
  {
   "cell_type": "markdown",
   "metadata": {},
   "source": [
    "### Función lambda para obtener la raíz cuadrada de un número"
   ]
  },
  {
   "cell_type": "code",
   "execution_count": 1,
   "metadata": {},
   "outputs": [
    {
     "data": {
      "text/plain": [
       "2.0"
      ]
     },
     "execution_count": 1,
     "metadata": {},
     "output_type": "execute_result"
    }
   ],
   "source": [
    "def raiz(num):\n",
    "    return num**(1/2)\n",
    "\n",
    "raiz(4)"
   ]
  },
  {
   "cell_type": "code",
   "execution_count": 2,
   "metadata": {},
   "outputs": [
    {
     "data": {
      "text/plain": [
       "2.0"
      ]
     },
     "execution_count": 2,
     "metadata": {},
     "output_type": "execute_result"
    }
   ],
   "source": [
    "(lambda num : num**(1/2))(4)"
   ]
  },
  {
   "cell_type": "markdown",
   "metadata": {},
   "source": [
    "### Función map para obtener el largo de una cadena de palabras"
   ]
  },
  {
   "cell_type": "code",
   "execution_count": 3,
   "metadata": {},
   "outputs": [
    {
     "data": {
      "text/plain": [
       "[5,\n",
       " 5,\n",
       " 5,\n",
       " 3,\n",
       " 5,\n",
       " 2,\n",
       " 10,\n",
       " 6,\n",
       " 2,\n",
       " 4,\n",
       " 7,\n",
       " 3,\n",
       " 11,\n",
       " 7,\n",
       " 3,\n",
       " 7,\n",
       " 5,\n",
       " 1,\n",
       " 6,\n",
       " 10,\n",
       " 1,\n",
       " 10,\n",
       " 9,\n",
       " 3,\n",
       " 5,\n",
       " 11]"
      ]
     },
     "execution_count": 3,
     "metadata": {},
     "output_type": "execute_result"
    }
   ],
   "source": [
    "# Definir la cadena u separarla en los espacios\n",
    "cadena = 'Lorem ipsum dolor sit amet. At distinctio dolore et sunt maiores sit consequatur laborum qui nostrum velit a magnam voluptatum a distinctio veritatis aut error voluptatem?'\n",
    "word_list = cadena.split(' ')\n",
    "\n",
    "lista_final = []\n",
    "\n",
    "for word in word_list:\n",
    "    lista_final.append(len(word))\n",
    "\n",
    "lista_final\n"
   ]
  },
  {
   "cell_type": "code",
   "execution_count": 4,
   "metadata": {},
   "outputs": [
    {
     "data": {
      "text/plain": [
       "[5,\n",
       " 5,\n",
       " 5,\n",
       " 3,\n",
       " 5,\n",
       " 2,\n",
       " 10,\n",
       " 6,\n",
       " 2,\n",
       " 4,\n",
       " 7,\n",
       " 3,\n",
       " 11,\n",
       " 7,\n",
       " 3,\n",
       " 7,\n",
       " 5,\n",
       " 1,\n",
       " 6,\n",
       " 10,\n",
       " 1,\n",
       " 10,\n",
       " 9,\n",
       " 3,\n",
       " 5,\n",
       " 11]"
      ]
     },
     "execution_count": 4,
     "metadata": {},
     "output_type": "execute_result"
    }
   ],
   "source": [
    "# Definir la cadena u separarla en los espacios\n",
    "cadena = 'Lorem ipsum dolor sit amet. At distinctio dolore et sunt maiores sit consequatur laborum qui nostrum velit a magnam voluptatum a distinctio veritatis aut error voluptatem?'\n",
    "word_list = list(cadena.split(' '))\n",
    "\n",
    "list(map(len, word_list))"
   ]
  },
  {
   "cell_type": "markdown",
   "metadata": {},
   "source": [
    "### Función reduce que sirva para calcular el producto de una lista"
   ]
  },
  {
   "cell_type": "code",
   "execution_count": 5,
   "metadata": {},
   "outputs": [],
   "source": [
    "# Números a utilizar: 1, 4, 4, 19, 98\n",
    "\n",
    "a = 1 * 4\n",
    "b = a * 4\n",
    "c = b * 19\n",
    "d = c * 98\n"
   ]
  },
  {
   "cell_type": "code",
   "execution_count": 6,
   "metadata": {},
   "outputs": [
    {
     "data": {
      "text/plain": [
       "29792"
      ]
     },
     "execution_count": 6,
     "metadata": {},
     "output_type": "execute_result"
    }
   ],
   "source": [
    "from functools import reduce\n",
    "\n",
    "numeros = [1, 4, 4, 19, 98]\n",
    "\n",
    "reduce(lambda a, b : a * b, numeros)\n"
   ]
  },
  {
   "cell_type": "markdown",
   "metadata": {},
   "source": [
    "### Función Filter que sirva para encontrar palabras que contengan mayúsculas o números en un listado"
   ]
  },
  {
   "cell_type": "code",
   "execution_count": 7,
   "metadata": {},
   "outputs": [
    {
     "name": "stdout",
     "output_type": "stream",
     "text": [
      "['Santiago', 'mAl escr1to', 'r2d2', 'C3PO']\n"
     ]
    }
   ],
   "source": [
    "palabras = ['Santiago', 'carro', 'agua', 'mAl escr1to', 'r2d2', 'C3PO']\n",
    "\n",
    "palabras_final = []\n",
    "\n",
    "for word in palabras:\n",
    "    if any(char.isupper() for char in word) or any(char.isnumeric() for char in word):\n",
    "        palabras_final.append(word)\n",
    "    \n",
    "    # Otra opción más sencilla sería la siguiente: \n",
    "    # for char in word:\n",
    "    #     if char.isupper() or char.isnumeric():\n",
    "    #         palabras_final.append(word)\n",
    "    #         break\n",
    "\n",
    "print(palabras_final)"
   ]
  },
  {
   "cell_type": "code",
   "execution_count": 8,
   "metadata": {},
   "outputs": [
    {
     "data": {
      "text/plain": [
       "['Santiago', 'mAl escr1to', 'r2d2', 'C3PO']"
      ]
     },
     "execution_count": 8,
     "metadata": {},
     "output_type": "execute_result"
    }
   ],
   "source": [
    "palabras = ['Santiago', 'carro', 'agua', 'mAl escr1to', 'r2d2', 'C3PO']\n",
    "\n",
    "list(filter(lambda word : any(char.isupper() for char in word) or any(char.isnumeric() for char in word), palabras))\n"
   ]
  }
 ],
 "metadata": {
  "kernelspec": {
   "display_name": "Python 3.10.8 64-bit",
   "language": "python",
   "name": "python3"
  },
  "language_info": {
   "codemirror_mode": {
    "name": "ipython",
    "version": 3
   },
   "file_extension": ".py",
   "mimetype": "text/x-python",
   "name": "python",
   "nbconvert_exporter": "python",
   "pygments_lexer": "ipython3",
   "version": "3.10.8"
  },
  "orig_nbformat": 4,
  "vscode": {
   "interpreter": {
    "hash": "6037bd2d30708e017a51e55f8b5e171bfa5b535cee312ced134e6013b304e57c"
   }
  }
 },
 "nbformat": 4,
 "nbformat_minor": 2
}
