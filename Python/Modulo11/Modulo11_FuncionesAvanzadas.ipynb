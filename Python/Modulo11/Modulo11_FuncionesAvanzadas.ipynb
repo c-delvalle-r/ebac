{
 "cells": [
  {
   "cell_type": "markdown",
   "metadata": {},
   "source": [
    "# Módulo 11: Funciones avanzadas de Python"
   ]
  },
  {
   "cell_type": "markdown",
   "metadata": {},
   "source": [
    " ## Funciones lambda"
   ]
  },
  {
   "cell_type": "markdown",
   "metadata": {},
   "source": [
    "- Las funciones lambda no pueden tener \"statements\" dentro. Como return, pass, raise, etc.\n",
    "- Se escriben como solamente una línea de ejecución\n",
    "- No soportan ningún tipo de anotaciones (comentarios). Estos tienen que ir antes o después de la línea de la función\n",
    "- Se puede invocar inmediatamente (ver la última celda de la sección)\n",
    "- Son anónimas\n",
    "- Pueden anidarse"
   ]
  },
  {
   "cell_type": "code",
   "execution_count": 2,
   "metadata": {},
   "outputs": [
    {
     "data": {
      "text/plain": [
       "3"
      ]
     },
     "execution_count": 2,
     "metadata": {},
     "output_type": "execute_result"
    }
   ],
   "source": [
    "add_one = lambda x: x+1\n",
    "add_one(2)"
   ]
  },
  {
   "cell_type": "code",
   "execution_count": 3,
   "metadata": {},
   "outputs": [
    {
     "data": {
      "text/plain": [
       "6"
      ]
     },
     "execution_count": 3,
     "metadata": {},
     "output_type": "execute_result"
    }
   ],
   "source": [
    "sum = lambda a, b, c: a + b + c\n",
    "sum(1,2,3)"
   ]
  },
  {
   "cell_type": "code",
   "execution_count": 4,
   "metadata": {},
   "outputs": [
    {
     "data": {
      "text/plain": [
       "12"
      ]
     },
     "execution_count": 4,
     "metadata": {},
     "output_type": "execute_result"
    }
   ],
   "source": [
    "# Correr una función lambda inmediatamente (IIFE: immediately invoked function execution)\n",
    "# Aquí no se tiene que assignar la función lambda a una variable para correrla\n",
    "\n",
    "(lambda x, y : x * y) (3, 4)"
   ]
  },
  {
   "cell_type": "markdown",
   "metadata": {},
   "source": [
    "## Función Map"
   ]
  },
  {
   "cell_type": "markdown",
   "metadata": {},
   "source": [
    "- La función map() retorna un objeto map (un iterador) de los resultados aplicados a cada uno de los items de un iterable, enviado como parámetro\n",
    "- Retorna una lista de los resultados, luego de aplicar la misma fgunción a todos los items de un mismo iterable\n",
    "- Uso: map(funciont, iterable, [iterable1, iterable2, ...])"
   ]
  },
  {
   "cell_type": "code",
   "execution_count": 5,
   "metadata": {},
   "outputs": [
    {
     "data": {
      "text/plain": [
       "[1, 8, 27, 64, 125]"
      ]
     },
     "execution_count": 5,
     "metadata": {},
     "output_type": "execute_result"
    }
   ],
   "source": [
    "# En este ejemplo se demuestra como se realizaría lo que puede hacer una función map() de manera manual (Sin usar map())\n",
    "\n",
    "# Declarar las listas a usar\n",
    "org_list = [1,2,3,4,5]    # Se va a iterar sobre esta lista\n",
    "final_list = []         # En esta lista se van a guardar los resultados\n",
    "\n",
    "# Aplicar una función a cada uno de los elementos de la lista original\n",
    "for x in org_list:\n",
    "    final_list.append(x ** 3)\n",
    "\n",
    "# Imprimir la lista final\n",
    "final_list"
   ]
  },
  {
   "cell_type": "code",
   "execution_count": 6,
   "metadata": {},
   "outputs": [
    {
     "data": {
      "text/plain": [
       "[1, 8, 27, 64, 125]"
      ]
     },
     "execution_count": 6,
     "metadata": {},
     "output_type": "execute_result"
    }
   ],
   "source": [
    "# Aquí se realiza exactamente la misma operación pero utilizando la función map()\n",
    "# Aquí se está utilizando una función lambda, pero tambien se puede utilizar una función no anónima\n",
    "\n",
    "list(map(lambda x : x ** 3, [1,2,3,4,5]))"
   ]
  },
  {
   "cell_type": "code",
   "execution_count": 7,
   "metadata": {},
   "outputs": [
    {
     "data": {
      "text/plain": [
       "[6, 6, 4]"
      ]
     },
     "execution_count": 7,
     "metadata": {},
     "output_type": "execute_result"
    }
   ],
   "source": [
    "# También se pueden utilizar funciones que ya vienen dentro de los paquetes de python\n",
    "\n",
    "org_list = ['Python', 'Vargas', 'Come']\n",
    "list(map(len, org_list))"
   ]
  },
  {
   "cell_type": "code",
   "execution_count": 8,
   "metadata": {},
   "outputs": [
    {
     "data": {
      "text/plain": [
       "[1, 64, 2187, 65536]"
      ]
     },
     "execution_count": 8,
     "metadata": {},
     "output_type": "execute_result"
    }
   ],
   "source": [
    "# Usando mas de un iterable\n",
    "\n",
    "# Para funciones donde se neceista más de un argumento, se puede usar más de un iterable en la función map\n",
    "\n",
    "list(map(lambda x, y: x**y, [1,2,3,4], [5,6,7,8]))"
   ]
  },
  {
   "cell_type": "markdown",
   "metadata": {},
   "source": [
    "## Función Filter\n",
    "Sirve para, a partir de un iterable, regresar una lista de los elementos que cumplen cierta condición\n",
    "\n",
    "- Sintaxis filter(function, iterable)\n",
    "- La función debe ser llamada sin paréntesis"
   ]
  },
  {
   "cell_type": "code",
   "execution_count": 11,
   "metadata": {},
   "outputs": [
    {
     "data": {
      "text/plain": [
       "[10, 50]"
      ]
     },
     "execution_count": 11,
     "metadata": {},
     "output_type": "execute_result"
    }
   ],
   "source": [
    "# Extraer números pares de una lista\n",
    "numbers = [1,3,10,45,5,50]\n",
    "\n",
    "list(filter(lambda x: x % 2 ==0, numbers))"
   ]
  },
  {
   "cell_type": "code",
   "execution_count": 13,
   "metadata": {},
   "outputs": [
    {
     "data": {
      "text/plain": [
       "[1, 2]"
      ]
     },
     "execution_count": 13,
     "metadata": {},
     "output_type": "execute_result"
    }
   ],
   "source": [
    "# Extraer números positivos\n",
    "numbers = [-2,-1,0,1,2]\n",
    "\n",
    "list(filter(lambda x : x > 0, numbers))"
   ]
  },
  {
   "cell_type": "code",
   "execution_count": 20,
   "metadata": {},
   "outputs": [
    {
     "name": "stdout",
     "output_type": "stream",
     "text": [
      "Media = 10.692  Bajo = -7.13  Alto = 28.51\n",
      "Lista de valores limpia: [10, 8, 10, 8, 2, 7, 9, 3, 9, 5, 9, 25]\n"
     ]
    }
   ],
   "source": [
    "# Filtrar outliers de una lista\n",
    "import statistics as st \n",
    "sample = [10, 8, 10, 8, 2, 7, 9, 3, 34, 9, 5, 9, 25]\n",
    "\n",
    "mean = st.mean(sample)\n",
    "stdev = st.stdev(sample)\n",
    "low = mean - 2 * stdev\n",
    "high = mean + 2 * stdev\n",
    "\n",
    "print('Media = {:.3f}'.format(mean), ' Bajo = {:.2f}'.format(low), ' Alto = {:.2f}'.format(high))\n",
    "\n",
    "print(f'Lista de valores limpia: {list(filter(lambda x : x <= high and x >= low, sample))}')\n"
   ]
  },
  {
   "cell_type": "code",
   "execution_count": 23,
   "metadata": {},
   "outputs": [
    {
     "data": {
      "text/plain": [
       "['ana', 'racecar', 'madam']"
      ]
     },
     "execution_count": 23,
     "metadata": {},
     "output_type": "execute_result"
    }
   ],
   "source": [
    "# Función para buscar palindromos\n",
    "\n",
    "words = ['filter', 'ana', 'Hello', 'racecar', 'madam' ,'Vargas']\n",
    "\n",
    "list(filter(lambda word : word.lower() == word.lower()[::-1], words))"
   ]
  },
  {
   "cell_type": "markdown",
   "metadata": {},
   "source": [
    "## Función Reduce\n",
    "- La función implementa una operación matemática llamada folding o reducción\n",
    "- Esta función es útil cuando se quiere aplicar una misma función a un elemento iterable y reducirla a un sólo número\n",
    "- Es popular entre developers qeu tienen una orientación a programar cfuncionalmente (romper un todo en sus partes)\n",
    "- La función tiene que ser utilizada desde la librería \"functools\"\n",
    "- Sintaxis reduce(funciton, iterable, [initializer])\n",
    "- Se realiza una función y el resultado de esa operación se toma como el valor inicial para la siguiente iteración:\n",
    "    - a + b = C\n",
    "    - C + d = E\n",
    "    - E + f = G"
   ]
  },
  {
   "cell_type": "code",
   "execution_count": 28,
   "metadata": {},
   "outputs": [
    {
     "name": "stdout",
     "output_type": "stream",
     "text": [
      "10 + 1 = 11\n",
      "11 + 2 = 13\n",
      "13 + 3 = 16\n",
      "16 + 4 = 20\n",
      "20 + 5 = 25\n"
     ]
    },
    {
     "data": {
      "text/plain": [
       "25"
      ]
     },
     "execution_count": 28,
     "metadata": {},
     "output_type": "execute_result"
    }
   ],
   "source": [
    "from functools import reduce\n",
    "\n",
    "numbers = [1,2,3,4,5]\n",
    "\n",
    "def my_sum(a,b):\n",
    "    print(f'{a} + {b} = {a+b}')\n",
    "    return a + b\n",
    "\n",
    "reduce(my_sum, numbers, 10)\n"
   ]
  },
  {
   "cell_type": "code",
   "execution_count": 29,
   "metadata": {},
   "outputs": [
    {
     "name": "stdout",
     "output_type": "stream",
     "text": [
      "A = 3, B = 4\n",
      "A = 4, B = 1\n",
      "A = 4, B = 98\n",
      "A = 98, B = 237\n",
      "A = 237, B = 12\n",
      "A = 237, B = 3\n",
      "A = 237, B = 5\n",
      "A = 237, B = 98\n",
      "A = 237, B = 102\n"
     ]
    },
    {
     "data": {
      "text/plain": [
       "237"
      ]
     },
     "execution_count": 29,
     "metadata": {},
     "output_type": "execute_result"
    }
   ],
   "source": [
    "# Función explicita para encontrar el máximo de una lista\n",
    "\n",
    "numbers = [3,4,1,98,237, 12,3,5,98,102]\n",
    "\n",
    "def maximo(a,b):\n",
    "    print(f'A = {a}, B = {b}')\n",
    "    return a if a > b else b\n",
    "\n",
    "reduce(maximo, numbers)"
   ]
  }
 ],
 "metadata": {
  "kernelspec": {
   "display_name": "Python 3.10.8 64-bit",
   "language": "python",
   "name": "python3"
  },
  "language_info": {
   "codemirror_mode": {
    "name": "ipython",
    "version": 3
   },
   "file_extension": ".py",
   "mimetype": "text/x-python",
   "name": "python",
   "nbconvert_exporter": "python",
   "pygments_lexer": "ipython3",
   "version": "3.10.8"
  },
  "orig_nbformat": 4,
  "vscode": {
   "interpreter": {
    "hash": "6037bd2d30708e017a51e55f8b5e171bfa5b535cee312ced134e6013b304e57c"
   }
  }
 },
 "nbformat": 4,
 "nbformat_minor": 2
}
