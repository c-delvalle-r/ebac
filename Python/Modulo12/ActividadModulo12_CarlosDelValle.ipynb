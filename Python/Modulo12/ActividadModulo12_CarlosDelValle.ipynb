{
 "cells": [
  {
   "cell_type": "code",
   "execution_count": 8,
   "metadata": {},
   "outputs": [
    {
     "data": {
      "text/plain": [
       "['Rank',\n",
       " 'Country Name',\n",
       " 'Male Height in Cm',\n",
       " 'Female Height in Cm',\n",
       " 'Male Height in Ft',\n",
       " 'Female Height in Ft']"
      ]
     },
     "execution_count": 8,
     "metadata": {},
     "output_type": "execute_result"
    }
   ],
   "source": [
    "import csv\n",
    "import numpy as np\n",
    "\n",
    "file = open(r'.\\Height of Male and Female by Country 2022.csv')\n",
    "csvreader = csv.reader(file)\n",
    "\n",
    "header = []\n",
    "header = header + next(csvreader)\n",
    "\n",
    "rows = []\n",
    "for row in csvreader:\n",
    "    rows.append(row)\n",
    "\n",
    "header"
   ]
  },
  {
   "cell_type": "code",
   "execution_count": 9,
   "metadata": {},
   "outputs": [
    {
     "data": {
      "text/plain": [
       "array([['1', 'Netherlands', '183.78', '170.36', '6.03', '5.59'],\n",
       "       ['2', 'Montenegro', '183.30', '169.96', '6.01', '5.58'],\n",
       "       ['3', 'Estonia', '182.79', '168.66', '6.00', '5.53'],\n",
       "       ['4', 'Bosnia and Herzegovina', '182.47', '167.47', '5.99',\n",
       "        '5.49'],\n",
       "       ['5', 'Iceland', '182.10', '168.91', '5.97', '5.54'],\n",
       "       ['6', 'Denmark', '181.89', '169.47', '5.97', '5.56'],\n",
       "       ['7', 'Czech Republic', '181.19', '167.96', '5.94', '5.51'],\n",
       "       ['8', 'Latvia', '181.17', '168.81', '5.94', '5.54'],\n",
       "       ['9', 'Slovakia', '181.02', '167.12', '5.94', '5.48'],\n",
       "       ['10', 'Slovenia', '180.98', '167.20', '5.94', '5.49'],\n",
       "       ['11', 'Ukraine', '180.98', '166.62', '5.94', '5.47'],\n",
       "       ['12', 'Croatia', '180.76', '166.80', '5.93', '5.47'],\n",
       "       ['13', 'Serbia', '180.74', '168.29', '5.93', '5.52'],\n",
       "       ['14', 'Lithuania', '180.72', '167.63', '5.93', '5.50'],\n",
       "       ['15', 'Poland', '180.69', '165.78', '5.93', '5.44'],\n",
       "       ['16', 'Finland', '180.57', '166.48', '5.92', '5.46'],\n",
       "       ['17', 'Norway', '180.48', '166.45', '5.92', '5.46'],\n",
       "       ['18', 'Sweden', '180.46', '166.67', '5.92', '5.47'],\n",
       "       ['19', 'Germany', '180.28', '166.18', '5.91', '5.45'],\n",
       "       ['20', 'Dominica', '180.15', '166.89', '5.91', '5.48'],\n",
       "       ['21', 'Bermuda', '179.72', '166.11', '5.90', '5.45'],\n",
       "       ['22', 'Puerto Rico', '179.48', '163.06', '5.89', '5.35'],\n",
       "       ['23', 'Greece', '179.26', '165.81', '5.88', '5.44'],\n",
       "       ['24', 'Belgium', '179.09', '163.40', '5.88', '5.36'],\n",
       "       ['25', 'Ireland', '179.04', '164.50', '5.87', '5.40'],\n",
       "       ['26', 'Lebanon', '178.96', '163.67', '5.87', '5.37'],\n",
       "       ['27', 'Andorra', '178.84', '165.53', '5.87', '5.43'],\n",
       "       ['28', 'Antigua and Barbuda', '178.84', '165.72', '5.87', '5.44'],\n",
       "       ['29', 'Australia', '178.77', '164.67', '5.87', '5.40'],\n",
       "       ['30', 'Canada', '178.75', '164.73', '5.86', '5.40'],\n",
       "       ['31', 'Switzerland', '178.73', '164.33', '5.86', '5.39'],\n",
       "       ['32', 'Grenada', '178.70', '165.99', '5.86', '5.45'],\n",
       "       ['33', 'Belarus', '178.69', '166.93', '5.86', '5.48'],\n",
       "       ['34', 'France', '178.60', '164.49', '5.86', '5.40'],\n",
       "       ['35', 'Austria', '178.52', '166.93', '5.86', '5.48'],\n",
       "       ['36', 'Luxembourg', '178.46', '165.07', '5.86', '5.42'],\n",
       "       ['37', 'Cook Islands', '178.32', '167.31', '5.85', '5.49'],\n",
       "       ['38', 'French Polynesia', '178.32', '166.52', '5.85', '5.46'],\n",
       "       ['39', 'United Kingdom', '178.21', '163.94', '5.85', '5.38'],\n",
       "       ['40', 'Romania', '177.82', '164.73', '5.83', '5.40'],\n",
       "       ['41', 'New Zealand', '177.72', '164.66', '5.83', '5.40'],\n",
       "       ['42', 'Saint Vincent and the Grenadines', '177.49', '165.30',\n",
       "        '5.82', '5.42'],\n",
       "       ['43', 'Niue', '177.19', '167.03', '5.81', '5.48'],\n",
       "       ['44', 'American Samoa', '177.09', '167.55', '5.81', '5.50'],\n",
       "       ['45', 'Barbados', '177.03', '165.66', '5.81', '5.44'],\n",
       "       ['46', 'Jamaica', '176.97', '164.32', '5.81', '5.39'],\n",
       "       ['47', 'United States', '176.94', '163.31', '5.81', '5.36'],\n",
       "       ['48', 'Tunisia', '176.85', '161.69', '5.80', '5.30'],\n",
       "       ['49', 'Russia', '176.65', '164.52', '5.80', '5.40'],\n",
       "       ['50', 'Hungary', '176.59', '162.55', '5.79', '5.33']],\n",
       "      dtype='<U32')"
      ]
     },
     "execution_count": 9,
     "metadata": {},
     "output_type": "execute_result"
    }
   ],
   "source": [
    "rows = np.array(rows)\n",
    "\n",
    "# Print first 50 rows\n",
    "rows[:50]"
   ]
  },
  {
   "cell_type": "code",
   "execution_count": 10,
   "metadata": {},
   "outputs": [],
   "source": [
    "height_men = rows[:,2]\n",
    "height_men = height_men.astype(np.float64)\n",
    "height_women = rows[:,3]\n",
    "height_women = height_women.astype(np.float64)"
   ]
  },
  {
   "cell_type": "code",
   "execution_count": 11,
   "metadata": {},
   "outputs": [
    {
     "name": "stdout",
     "output_type": "stream",
     "text": [
      "The average height for men among the countires in the database is 173.09 centimeters\n",
      "The minimum height for men among the countries in the database is 160.13 centimeters\n",
      "The maximum height for men among the countries in the database is 183.78 centimeters\n",
      "The average height for women among the countires in the database is 160.94 centimeters\n",
      "The minimum height for women among the countries in the database is 150.91 centimeters\n",
      "The maximum height for women among the countries in the database is 170.36 centimeters\n"
     ]
    }
   ],
   "source": [
    "from statistics import stdev, mean\n",
    "\n",
    "print(f'The average height for men among the countires in the database is {round(height_men.mean(),2)} centimeters')\n",
    "print(f'The minimum height for men among the countries in the database is {round(height_men.min(),2)} centimeters')\n",
    "print(f'The maximum height for men among the countries in the database is {round(height_men.max(),2)} centimeters')\n",
    "\n",
    "print(f'The average height for women among the countires in the database is {round(height_women.mean(),2)} centimeters')\n",
    "print(f'The minimum height for women among the countries in the database is {round(height_women.min(),2)} centimeters')\n",
    "print(f'The maximum height for women among the countries in the database is {round(height_women.max(),2)} centimeters')\n"
   ]
  },
  {
   "cell_type": "code",
   "execution_count": 12,
   "metadata": {},
   "outputs": [
    {
     "name": "stdout",
     "output_type": "stream",
     "text": [
      "[['139' 'Mexico' '170.29' '157.90' '5.59' '5.18']]\n"
     ]
    }
   ],
   "source": [
    "country = rows[:, 1]\n",
    "mask = (country == 'Mexico')\n",
    "\n",
    "print(rows[mask])\n"
   ]
  }
 ],
 "metadata": {
  "kernelspec": {
   "display_name": "Python 3.10.8 64-bit",
   "language": "python",
   "name": "python3"
  },
  "language_info": {
   "codemirror_mode": {
    "name": "ipython",
    "version": 3
   },
   "file_extension": ".py",
   "mimetype": "text/x-python",
   "name": "python",
   "nbconvert_exporter": "python",
   "pygments_lexer": "ipython3",
   "version": "3.10.8"
  },
  "orig_nbformat": 4,
  "vscode": {
   "interpreter": {
    "hash": "6037bd2d30708e017a51e55f8b5e171bfa5b535cee312ced134e6013b304e57c"
   }
  }
 },
 "nbformat": 4,
 "nbformat_minor": 2
}
