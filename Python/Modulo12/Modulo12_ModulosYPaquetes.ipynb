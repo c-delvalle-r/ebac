{
 "cells": [
  {
   "cell_type": "markdown",
   "metadata": {},
   "source": [
    "# Módulo 12: Módulos y Paquetes\n",
    "\n",
    "## Introducción, importación de funciones y trabajando con módulos"
   ]
  },
  {
   "cell_type": "markdown",
   "metadata": {},
   "source": [
    "- Cualquier archivo Python es un módulo. Contiene funcioens dentro de su codigo\n",
    "- Un paquete es un conjunto de módulos de Python en forma de una colección que sirve para inicializar el código"
   ]
  },
  {
   "cell_type": "code",
   "execution_count": 12,
   "metadata": {},
   "outputs": [
    {
     "name": "stdout",
     "output_type": "stream",
     "text": [
      "d:\\Documentos\\DataAnalysis\\EBAC\\Python\\Modulo12\n"
     ]
    }
   ],
   "source": [
    "# Importación de funciones\n",
    "\n",
    "import csv\n",
    "import os\n",
    "# cwd = os.chdir('d:/Documentos/DataAnalysis/EBAC/Python/Modulo12/')\n",
    "cwd = os.getcwd()\n",
    "print(cwd)"
   ]
  },
  {
   "cell_type": "code",
   "execution_count": 42,
   "metadata": {},
   "outputs": [
    {
     "data": {
      "text/plain": [
       "_csv.reader"
      ]
     },
     "execution_count": 42,
     "metadata": {},
     "output_type": "execute_result"
    }
   ],
   "source": [
    "file = open(r'./netflix_titles.csv', encoding='UTF-8')\n",
    "csvreader = csv.reader(file, )\n",
    "type(csvreader)"
   ]
  },
  {
   "cell_type": "code",
   "execution_count": 43,
   "metadata": {},
   "outputs": [
    {
     "data": {
      "text/plain": [
       "['show_id',\n",
       " 'type',\n",
       " 'title',\n",
       " 'director',\n",
       " 'cast',\n",
       " 'country',\n",
       " 'date_added',\n",
       " 'release_year',\n",
       " 'rating',\n",
       " 'duration',\n",
       " 'listed_in',\n",
       " 'description']"
      ]
     },
     "execution_count": 43,
     "metadata": {},
     "output_type": "execute_result"
    }
   ],
   "source": [
    "header = []\n",
    "header + next(csvreader)"
   ]
  },
  {
   "cell_type": "code",
   "execution_count": 44,
   "metadata": {},
   "outputs": [],
   "source": [
    "rows = []\n",
    "for row in csvreader:\n",
    "    rows.append(row)\n"
   ]
  },
  {
   "cell_type": "code",
   "execution_count": 46,
   "metadata": {},
   "outputs": [
    {
     "name": "stdout",
     "output_type": "stream",
     "text": [
      "[['s1', 'Movie', 'Dick Johnson Is Dead', 'Kirsten Johnson', '', 'United States', 'September 25, 2021', '2020', 'PG-13', '90 min', 'Documentaries', 'As her father nears the end of his life, filmmaker Kirsten Johnson stages his death in inventive and comical ways to help them both face the inevitable.'], ['s2', 'TV Show', 'Blood & Water', '', 'Ama Qamata, Khosi Ngema, Gail Mabalane, Thabang Molaba, Dillon Windvogel, Natasha Thahane, Arno Greeff, Xolile Tshabalala, Getmore Sithole, Cindy Mahlangu, Ryle De Morny, Greteli Fincham, Sello Maake Ka-Ncube, Odwa Gwanya, Mekaila Mathys, Sandi Schultz, Duane Williams, Shamilla Miller, Patrick Mofokeng', 'South Africa', 'September 24, 2021', '2021', 'TV-MA', '2 Seasons', 'International TV Shows, TV Dramas, TV Mysteries', 'After crossing paths at a party, a Cape Town teen sets out to prove whether a private-school swimming star is her sister who was abducted at birth.']]\n"
     ]
    }
   ],
   "source": [
    "print(rows[:2])"
   ]
  },
  {
   "cell_type": "markdown",
   "metadata": {},
   "source": [
    "### Uso de funciones estadísticas"
   ]
  },
  {
   "cell_type": "code",
   "execution_count": 48,
   "metadata": {},
   "outputs": [],
   "source": [
    "from statistics import mean, median, mode, stdev"
   ]
  },
  {
   "cell_type": "code",
   "execution_count": 50,
   "metadata": {},
   "outputs": [
    {
     "data": {
      "text/plain": [
       "3"
      ]
     },
     "execution_count": 50,
     "metadata": {},
     "output_type": "execute_result"
    }
   ],
   "source": [
    "test_scores = [1,2,3,4,5]\n",
    "mean(test_scores)"
   ]
  },
  {
   "cell_type": "code",
   "execution_count": 52,
   "metadata": {},
   "outputs": [
    {
     "data": {
      "text/plain": [
       "array(['s1', 'Movie', 'Dick Johnson Is Dead', 'Kirsten Johnson', '',\n",
       "       'United States', 'September 25, 2021', '2020', 'PG-13', '90 min',\n",
       "       'Documentaries',\n",
       "       'As her father nears the end of his life, filmmaker Kirsten Johnson stages his death in inventive and comical ways to help them both face the inevitable.'],\n",
       "      dtype='<U771')"
      ]
     },
     "execution_count": 52,
     "metadata": {},
     "output_type": "execute_result"
    }
   ],
   "source": [
    "import numpy as np\n",
    "movies = np.array(rows)\n",
    "movies[0]"
   ]
  },
  {
   "cell_type": "code",
   "execution_count": 70,
   "metadata": {},
   "outputs": [
    {
     "data": {
      "text/plain": [
       "dtype('<U771')"
      ]
     },
     "execution_count": 70,
     "metadata": {},
     "output_type": "execute_result"
    }
   ],
   "source": [
    "# Obtener columna del año para todas las películas (columna 8)\n",
    "\n",
    "movies[:,7].dtype     # Sin embargo es un string"
   ]
  },
  {
   "cell_type": "code",
   "execution_count": 71,
   "metadata": {},
   "outputs": [
    {
     "data": {
      "text/plain": [
       "dtype('int64')"
      ]
     },
     "execution_count": 71,
     "metadata": {},
     "output_type": "execute_result"
    }
   ],
   "source": [
    "# Pasar los años de string a int\n",
    "\n",
    "release_year = movies[:,7]\n",
    "release_year = release_year.astype(np.int64)\n",
    "release_year.dtype\n"
   ]
  },
  {
   "cell_type": "code",
   "execution_count": 73,
   "metadata": {},
   "outputs": [
    {
     "data": {
      "text/plain": [
       "2014"
      ]
     },
     "execution_count": 73,
     "metadata": {},
     "output_type": "execute_result"
    }
   ],
   "source": [
    "# Uso de mean\n",
    "mean(release_year)\n"
   ]
  },
  {
   "cell_type": "code",
   "execution_count": 80,
   "metadata": {},
   "outputs": [
    {
     "data": {
      "image/png": "[encoded data removed]",
      "text/plain": [
       "<Figure size 640x480 with 1 Axes>"
      ]
     },
     "metadata": {},
     "output_type": "display_data"
    }
   ],
   "source": [
    "import matplotlib.pyplot as plt\n",
    "plt.hist(release_year, bins=70)\n",
    "plt.title('Histográma del año d e publicación de las películas que vienen dentro de la base de datos de netflix')\n",
    "plt.show()"
   ]
  },
  {
   "cell_type": "markdown",
   "metadata": {},
   "source": [
    "## Trabajando con paquetes y uso de paquetes de la web\n",
    "\n",
    "### Trabajando con paquetes"
   ]
  },
  {
   "cell_type": "code",
   "execution_count": 83,
   "metadata": {},
   "outputs": [
    {
     "data": {
      "text/plain": [
       "array(['90 min', '2 Seasons', '1 Season', '1 Season', '2 Seasons',\n",
       "       '1 Season', '91 min', '125 min', '9 Seasons', '104 min'],\n",
       "      dtype='<U771')"
      ]
     },
     "execution_count": 83,
     "metadata": {},
     "output_type": "execute_result"
    }
   ],
   "source": [
    "# Trabajaremos con la duración. El ancance será solamente de las películas, por lo que todas las duraciónes con \"Seasons\" no entrará\n",
    "duration = movies[:, 9]\n",
    "duration[:10]"
   ]
  },
  {
   "cell_type": "code",
   "execution_count": 94,
   "metadata": {},
   "outputs": [],
   "source": [
    "# Eliminar registros con duración medida por temporadas y dejar solamente duraciones en minutos\n",
    "duration_min = duration[np.char.endswith(duration, 'min')]\n",
    "\n",
    "# Strip de la palabra min para unicamente dejar el valor\n",
    "duration_min = np.char.strip(duration_min, 'min')\n",
    "\n",
    "# Convertir a int\n",
    "duration_min = duration_min.astype(np.int64)"
   ]
  },
  {
   "cell_type": "code",
   "execution_count": 99,
   "metadata": {},
   "outputs": [
    {
     "name": "stdout",
     "output_type": "stream",
     "text": [
      "La película con menor duración es de 3 minutos\n",
      "La película con mayor duración es de 312 minutos\n",
      "La duración promedio de las películas de la base de datos es de 99 minutso\n",
      "La desviación estandar de la duración de las películas en la base de datos es de 28 minutos\n"
     ]
    }
   ],
   "source": [
    "print(f'La película con menor duración es de {duration_min.min()} minutos')\n",
    "print(f'La película con mayor duración es de {duration_min.max()} minutos')\n",
    "print(f'La duración promedio de las películas de la base de datos es de {int(duration_min.mean())} minutso')\n",
    "print(f'La desviación estandar de la duración de las películas en la base de datos es de {int(stdev(duration_min))} minutos')"
   ]
  },
  {
   "cell_type": "code",
   "execution_count": 103,
   "metadata": {},
   "outputs": [
    {
     "name": "stdout",
     "output_type": "stream",
     "text": [
      "[False False False ... False False False]\n",
      "[['s3778' 'Movie' 'Silent' 'Limbert Fabian, Brandon Oldenburg' ''\n",
      "  'United States' 'June 4, 2019' '2014' 'TV-Y' '3 min'\n",
      "  'Children & Family Movies, Sci-Fi & Fantasy'\n",
      "  '\"Silent\" is an animated short film created by Academy Award® winning Moonbot Studios. It celebrates how storytellers, inventors, and technology work together to create cinema magic.']]\n"
     ]
    }
   ],
   "source": [
    "# Filtrar para la película más larga\n",
    "\n",
    "mask = (duration == '3 min')\n",
    "print(mask)\n",
    "dur_array3min = movies[mask]\n",
    "print(dur_array3min)"
   ]
  }
 ],
 "metadata": {
  "kernelspec": {
   "display_name": "Python 3.10.8 64-bit",
   "language": "python",
   "name": "python3"
  },
  "language_info": {
   "codemirror_mode": {
    "name": "ipython",
    "version": 3
   },
   "file_extension": ".py",
   "mimetype": "text/x-python",
   "name": "python",
   "nbconvert_exporter": "python",
   "pygments_lexer": "ipython3",
   "version": "3.10.8"
  },
  "orig_nbformat": 4,
  "vscode": {
   "interpreter": {
    "hash": "6037bd2d30708e017a51e55f8b5e171bfa5b535cee312ced134e6013b304e57c"
   }
  }
 },
 "nbformat": 4,
 "nbformat_minor": 2
}
