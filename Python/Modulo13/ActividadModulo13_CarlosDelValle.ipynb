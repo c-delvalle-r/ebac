{
 "cells": [
  {
   "cell_type": "markdown",
   "metadata": {},
   "source": [
    "## Ejercicio Módulo 13\n",
    "A un ejemplo en donde se busca un archivo \"Test.txt\" que no existe en el directorio, generar las excepciones y mensajes correspondientes:\n",
    "- Función CATCH (raise?)\n",
    "- Excepciones y las funciones TRY/EXCEPT\n",
    "- Ejemplos con TRY / EXCEPT / ELSE / FINALLY"
   ]
  },
  {
   "cell_type": "code",
   "execution_count": 12,
   "metadata": {},
   "outputs": [
    {
     "ename": "FileNotFoundError",
     "evalue": "[Errno 2] No such file or directory: 'Test.txt'",
     "output_type": "error",
     "traceback": [
      "\u001b[1;31m---------------------------------------------------------------------------\u001b[0m",
      "\u001b[1;31mFileNotFoundError\u001b[0m                         Traceback (most recent call last)",
      "Cell \u001b[1;32mIn [12], line 1\u001b[0m\n\u001b[1;32m----> 1\u001b[0m \u001b[39mwith\u001b[39;00m \u001b[39mopen\u001b[39;49m(\u001b[39m'\u001b[39;49m\u001b[39mTest.txt\u001b[39;49m\u001b[39m'\u001b[39;49m) \u001b[39mas\u001b[39;00m file:\n\u001b[0;32m      2\u001b[0m     \u001b[39mpass\u001b[39;00m\n",
      "\u001b[1;31mFileNotFoundError\u001b[0m: [Errno 2] No such file or directory: 'Test.txt'"
     ]
    }
   ],
   "source": [
    "# Error original: tratar de abrir el archivo que no existe en el directorio\n",
    "\n",
    "with open('Test.txt') as file:\n",
    "    pass"
   ]
  },
  {
   "cell_type": "code",
   "execution_count": 13,
   "metadata": {},
   "outputs": [
    {
     "ename": "Exception",
     "evalue": "El archivo Test.txt no se encuentra en la carpeta actual",
     "output_type": "error",
     "traceback": [
      "\u001b[1;31m---------------------------------------------------------------------------\u001b[0m",
      "\u001b[1;31mException\u001b[0m                                 Traceback (most recent call last)",
      "Cell \u001b[1;32mIn [13], line 9\u001b[0m\n\u001b[0;32m      7\u001b[0m \u001b[39m# Verificar que el archivo Test.txt se encuentre en el directorio actual, si no es así, mandar un error con un mensaje personalizado\u001b[39;00m\n\u001b[0;32m      8\u001b[0m \u001b[39mif\u001b[39;00m \u001b[39m'\u001b[39m\u001b[39mTest.txt\u001b[39m\u001b[39m'\u001b[39m \u001b[39mnot\u001b[39;00m \u001b[39min\u001b[39;00m \u001b[39mdir\u001b[39m:\n\u001b[1;32m----> 9\u001b[0m     \u001b[39mraise\u001b[39;00m \u001b[39mException\u001b[39;00m(\u001b[39m'\u001b[39m\u001b[39mEl archivo Test.txt no se encuentra en la carpeta actual\u001b[39m\u001b[39m'\u001b[39m)\n\u001b[0;32m     11\u001b[0m \u001b[39m# En caso de que encontrara el archivo, con este bloque lo abriría\u001b[39;00m\n\u001b[0;32m     12\u001b[0m \u001b[39melse\u001b[39;00m: \n\u001b[0;32m     13\u001b[0m     \u001b[39mwith\u001b[39;00m \u001b[39mopen\u001b[39m(\u001b[39m'\u001b[39m\u001b[39mTest.txt\u001b[39m\u001b[39m'\u001b[39m) \u001b[39mas\u001b[39;00m file:\n",
      "\u001b[1;31mException\u001b[0m: El archivo Test.txt no se encuentra en la carpeta actual"
     ]
    }
   ],
   "source": [
    "# Raise Exception: Verificar si el archivo existe, si no existe, levantar un error con mensaje personalizado\n",
    "# Obtener la lista de nombres de los archivos que se encuentran en la carpeta actual\n",
    "import os\n",
    "curr_dir = os.getcwd()\n",
    "dir = os.listdir(curr_dir)\n",
    "\n",
    "# Verificar que el archivo Test.txt se encuentre en el directorio actual, si no es así, mandar un error con un mensaje personalizado\n",
    "if 'Test.txt' not in dir:\n",
    "    raise Exception('El archivo Test.txt no se encuentra en la carpeta actual')\n",
    "\n",
    "# En caso de que encontrara el archivo, con este bloque lo abriría\n",
    "else: \n",
    "    with open('Test.txt') as file:\n",
    "        pass"
   ]
  },
  {
   "cell_type": "code",
   "execution_count": 18,
   "metadata": {},
   "outputs": [
    {
     "name": "stdout",
     "output_type": "stream",
     "text": [
      "El archivo Test.txt no se encuentra en la carpeta actual\n"
     ]
    },
    {
     "ename": "FileNotFoundError",
     "evalue": "[Errno 2] No such file or directory: 'Test.txt'",
     "output_type": "error",
     "traceback": [
      "\u001b[1;31m---------------------------------------------------------------------------\u001b[0m",
      "\u001b[1;31mFileNotFoundError\u001b[0m                         Traceback (most recent call last)",
      "Cell \u001b[1;32mIn [18], line 7\u001b[0m\n\u001b[0;32m      5\u001b[0m \u001b[39mexcept\u001b[39;00m \u001b[39mFileNotFoundError\u001b[39;00m \u001b[39mas\u001b[39;00m error:\n\u001b[0;32m      6\u001b[0m     \u001b[39mprint\u001b[39m(\u001b[39m'\u001b[39m\u001b[39mEl archivo Test.txt no se encuentra en la carpeta actual\u001b[39m\u001b[39m'\u001b[39m)\n\u001b[1;32m----> 7\u001b[0m     \u001b[39mraise\u001b[39;00m error\n",
      "Cell \u001b[1;32mIn [18], line 3\u001b[0m\n\u001b[0;32m      1\u001b[0m \u001b[39m# Try - Except: Intenta abrir el abrir el archivo, si no lo encuentra, corre el except FileNotFoundError y arroja el error\u001b[39;00m\n\u001b[0;32m      2\u001b[0m \u001b[39mtry\u001b[39;00m:\n\u001b[1;32m----> 3\u001b[0m     \u001b[39mwith\u001b[39;00m \u001b[39mopen\u001b[39;49m(\u001b[39m'\u001b[39;49m\u001b[39mTest.txt\u001b[39;49m\u001b[39m'\u001b[39;49m) \u001b[39mas\u001b[39;00m file:\n\u001b[0;32m      4\u001b[0m         \u001b[39mpass\u001b[39;00m\n\u001b[0;32m      5\u001b[0m \u001b[39mexcept\u001b[39;00m \u001b[39mFileNotFoundError\u001b[39;00m \u001b[39mas\u001b[39;00m error:\n",
      "\u001b[1;31mFileNotFoundError\u001b[0m: [Errno 2] No such file or directory: 'Test.txt'"
     ]
    }
   ],
   "source": [
    "# Try - Except: Intenta abrir el abrir el archivo, si no lo encuentra, corre el except FileNotFoundError y arroja el error\n",
    "try:\n",
    "    with open('Test.txt') as file:\n",
    "        pass\n",
    "except FileNotFoundError as error:\n",
    "    print('El archivo Test.txt no se encuentra en la carpeta actual')\n",
    "    raise error"
   ]
  },
  {
   "cell_type": "code",
   "execution_count": 20,
   "metadata": {},
   "outputs": [
    {
     "name": "stdout",
     "output_type": "stream",
     "text": [
      "El archivo Test.txt no existe en el directorio\n",
      "Proceso terminado\n"
     ]
    },
    {
     "ename": "FileNotFoundError",
     "evalue": "[Errno 2] No such file or directory: 'Test.txt'",
     "output_type": "error",
     "traceback": [
      "\u001b[1;31m---------------------------------------------------------------------------\u001b[0m",
      "\u001b[1;31mFileNotFoundError\u001b[0m                         Traceback (most recent call last)",
      "Cell \u001b[1;32mIn [20], line 11\u001b[0m\n\u001b[0;32m      9\u001b[0m \u001b[39mexcept\u001b[39;00m \u001b[39mFileNotFoundError\u001b[39;00m \u001b[39mas\u001b[39;00m error:\n\u001b[0;32m     10\u001b[0m     \u001b[39mprint\u001b[39m(\u001b[39m'\u001b[39m\u001b[39mEl archivo Test.txt no existe en el directorio\u001b[39m\u001b[39m'\u001b[39m)\n\u001b[1;32m---> 11\u001b[0m     \u001b[39mraise\u001b[39;00m error\n\u001b[0;32m     13\u001b[0m \u001b[39m# Si encontrara el archivo, correría el siguiente bloque, en este caso no hace nada\u001b[39;00m\n\u001b[0;32m     14\u001b[0m \u001b[39melse\u001b[39;00m:\n\u001b[0;32m     15\u001b[0m     \u001b[39mwith\u001b[39;00m \u001b[39mopen\u001b[39m(\u001b[39m'\u001b[39m\u001b[39mTest.txt\u001b[39m\u001b[39m'\u001b[39m) \u001b[39mas\u001b[39;00m file:\n",
      "Cell \u001b[1;32mIn [20], line 5\u001b[0m\n\u001b[0;32m      1\u001b[0m \u001b[39m# Try / Except / Else / Finally\u001b[39;00m\n\u001b[0;32m      2\u001b[0m \n\u001b[0;32m      3\u001b[0m \u001b[39m# Intenta abrir y cerrar el archivo para ver que exista\u001b[39;00m\n\u001b[0;32m      4\u001b[0m \u001b[39mtry\u001b[39;00m:\n\u001b[1;32m----> 5\u001b[0m     f \u001b[39m=\u001b[39m \u001b[39mopen\u001b[39;49m(\u001b[39m'\u001b[39;49m\u001b[39mTest.txt\u001b[39;49m\u001b[39m'\u001b[39;49m)\n\u001b[0;32m      6\u001b[0m     f\u001b[39m.\u001b[39mclose()\n\u001b[0;32m      8\u001b[0m \u001b[39m#Si no existe (FileNotFoundError) arroja un print y el error\u001b[39;00m\n",
      "\u001b[1;31mFileNotFoundError\u001b[0m: [Errno 2] No such file or directory: 'Test.txt'"
     ]
    }
   ],
   "source": [
    "# Try / Except / Else / Finally\n",
    "\n",
    "# Intenta abrir y cerrar el archivo para ver que exista\n",
    "try:\n",
    "    f = open('Test.txt')\n",
    "    f.close()\n",
    "\n",
    "#Si no existe (FileNotFoundError) arroja un print y el error\n",
    "except FileNotFoundError as error:\n",
    "    print('El archivo Test.txt no existe en el directorio')\n",
    "    raise error\n",
    "\n",
    "# Si encontrara el archivo, correría el siguiente bloque, en este caso no hace nada\n",
    "else:\n",
    "    with open('Test.txt') as file:\n",
    "        pass\n",
    "\n",
    "#Finalmente hace un print de que terminó de correr el bloque\n",
    "finally:\n",
    "    print('Proceso terminado')\n",
    "\n"
   ]
  },
  {
   "cell_type": "markdown",
   "metadata": {},
   "source": [
    "### Debugging: \n",
    "Generar en una celda una operación matemática simple y mostrar los diferentes pasos que se siguieron para su debugging"
   ]
  },
  {
   "cell_type": "code",
   "execution_count": 29,
   "metadata": {},
   "outputs": [
    {
     "name": "stdout",
     "output_type": "stream",
     "text": [
      "Algo anda mal\n"
     ]
    }
   ],
   "source": [
    "# Simular un error de lógica por falta de paréntesis\n",
    "a = 10\n",
    "b = 20 \n",
    "c = 10\n",
    "d = 20\n",
    "\n",
    "# Operación correcta: (a+b) / (c+d), Debería dar 30 / 30 = 1\n",
    "resultado = a + b / c + d\n",
    "\n",
    "if resultado == 1:\n",
    "    print('Correcto')\n",
    "else:\n",
    "    print('Algo anda mal')"
   ]
  },
  {
   "cell_type": "code",
   "execution_count": 31,
   "metadata": {},
   "outputs": [
    {
     "name": "stdout",
     "output_type": "stream",
     "text": [
      "Algo anda mal\n"
     ]
    }
   ],
   "source": [
    "a = 10\n",
    "b = 20 \n",
    "c = 10\n",
    "d = 20\n",
    "\n",
    "# Operación correcta: (a+b) / (c+d), Debería dar 30 / 30 = 1\n",
    "resultado = a + b / c + d\n",
    "\n",
    "# Poner el stop justo en donde se evalua la condición y poner la variable que evalúo (resultado) en la watch list, ahí se ve que vale 32 y no 1 como se supone que tenía que valer\n",
    "# Reviso la operación donde se define resultado y me doy cuenta que, por jerarquía de operaciones, no se cumple la lógica que estoy tomando en cuenta, tengo que poner paréntesis\n",
    "if resultado == 1:\n",
    "    print('Correcto')\n",
    "else:\n",
    "    print('Algo anda mal')"
   ]
  },
  {
   "cell_type": "code",
   "execution_count": 28,
   "metadata": {},
   "outputs": [
    {
     "name": "stdout",
     "output_type": "stream",
     "text": [
      "Correcto\n"
     ]
    }
   ],
   "source": [
    "# Bloque de código corregido\n",
    "a = 10\n",
    "b = 20 \n",
    "c = 10\n",
    "d = 20\n",
    "\n",
    "# Operación correcta: (a+b) / (c+d), Debería dar 30 / 30 = 1\n",
    "resultado = (a + b) / (c + d)\n",
    "\n",
    "if resultado == 1:\n",
    "    print('Correcto')\n",
    "else:\n",
    "    print('Algo anda mal')"
   ]
  }
 ],
 "metadata": {
  "kernelspec": {
   "display_name": "Python 3.10.8 64-bit",
   "language": "python",
   "name": "python3"
  },
  "language_info": {
   "codemirror_mode": {
    "name": "ipython",
    "version": 3
   },
   "file_extension": ".py",
   "mimetype": "text/x-python",
   "name": "python",
   "nbconvert_exporter": "python",
   "pygments_lexer": "ipython3",
   "version": "3.10.8"
  },
  "orig_nbformat": 4,
  "vscode": {
   "interpreter": {
    "hash": "6037bd2d30708e017a51e55f8b5e171bfa5b535cee312ced134e6013b304e57c"
   }
  }
 },
 "nbformat": 4,
 "nbformat_minor": 2
}
