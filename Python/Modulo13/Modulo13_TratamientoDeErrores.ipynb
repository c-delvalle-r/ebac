{
 "cells": [
  {
   "cell_type": "markdown",
   "metadata": {},
   "source": [
    "# Modulo 13: Tratamiento de Errores\n",
    "## Tipos de Error y Sintáxis\n",
    "\n",
    "- Errores de Sintaxis - errores de escritura \n",
    "- Excepciones - está bien escrito pero por alguna razoón no se puede ejecutar el código\n",
    "- Errores de lógica - El código se ejecuta pero no se obtiene la salida deseada"
   ]
  },
  {
   "cell_type": "markdown",
   "metadata": {},
   "source": [
    "### Excepciones\n",
    "\n",
    "Raise y Captura de errores con try:"
   ]
  },
  {
   "cell_type": "code",
   "execution_count": 1,
   "metadata": {},
   "outputs": [
    {
     "ename": "Exception",
     "evalue": "x no puede sobrepasar el valor de 7, el valor fue 8",
     "output_type": "error",
     "traceback": [
      "\u001b[1;31m---------------------------------------------------------------------------\u001b[0m",
      "\u001b[1;31mException\u001b[0m                                 Traceback (most recent call last)",
      "Cell \u001b[1;32mIn [1], line 3\u001b[0m\n\u001b[0;32m      1\u001b[0m x \u001b[39m=\u001b[39m \u001b[39m8\u001b[39m\n\u001b[0;32m      2\u001b[0m \u001b[39mif\u001b[39;00m x \u001b[39m>\u001b[39m \u001b[39m7\u001b[39m:\n\u001b[1;32m----> 3\u001b[0m     \u001b[39mraise\u001b[39;00m \u001b[39mException\u001b[39;00m(\u001b[39m'\u001b[39m\u001b[39mx no puede sobrepasar el valor de 7, el valor fue \u001b[39m\u001b[39m{}\u001b[39;00m\u001b[39m'\u001b[39m\u001b[39m.\u001b[39mformat(x))\n",
      "\u001b[1;31mException\u001b[0m: x no puede sobrepasar el valor de 7, el valor fue 8"
     ]
    }
   ],
   "source": [
    "x = 8\n",
    "if x > 7:\n",
    "    raise Exception('x no puede sobrepasar el valor de 7, el valor fue {}'.format(x))\n",
    "\n",
    "# Aqui estoy generando mi error a partir de una condición que yo mismo le doy"
   ]
  },
  {
   "cell_type": "code",
   "execution_count": null,
   "metadata": {},
   "outputs": [
    {
     "ename": "AssertionError",
     "evalue": "X es diferente de 9",
     "output_type": "error",
     "traceback": [
      "\u001b[1;31m---------------------------------------------------------------------------\u001b[0m",
      "\u001b[1;31mAssertionError\u001b[0m                            Traceback (most recent call last)",
      "Cell \u001b[1;32mIn [8], line 2\u001b[0m\n\u001b[0;32m      1\u001b[0m x \u001b[39m=\u001b[39m \u001b[39m8\u001b[39m\n\u001b[1;32m----> 2\u001b[0m \u001b[39massert\u001b[39;00m(x \u001b[39m==\u001b[39m \u001b[39m9\u001b[39m), \u001b[39m'\u001b[39m\u001b[39mX es diferente de 9\u001b[39m\u001b[39m'\u001b[39m\n",
      "\u001b[1;31mAssertionError\u001b[0m: X es diferente de 9"
     ]
    }
   ],
   "source": [
    "x = 8\n",
    "assert(x == 9), 'X es diferente de 9'\n",
    "\n",
    "# Assert es el inverso de raise, en lugar de generar error cuando se cumple una condición, se genera el error cuando NO se cumple una condición. Esto puede ser útil para \n",
    "# validar sistemas operativos o cuando hay una condición específica bajo la cual debe funcionar el programa"
   ]
  },
  {
   "cell_type": "code",
   "execution_count": null,
   "metadata": {},
   "outputs": [
    {
     "name": "stdout",
     "output_type": "stream",
     "text": [
      "Variables de tipo incorrecto\n"
     ]
    },
    {
     "ename": "TypeError",
     "evalue": "can only concatenate str (not \"int\") to str",
     "output_type": "error",
     "traceback": [
      "\u001b[1;31m---------------------------------------------------------------------------\u001b[0m",
      "\u001b[1;31mTypeError\u001b[0m                                 Traceback (most recent call last)",
      "Cell \u001b[1;32mIn [11], line 6\u001b[0m\n\u001b[0;32m      4\u001b[0m \u001b[39m# Se tratará de correr todo el código dentro del bloque de try. Si hay algún error se correrá el código del bloque except\u001b[39;00m\n\u001b[0;32m      5\u001b[0m \u001b[39mtry\u001b[39;00m:\n\u001b[1;32m----> 6\u001b[0m     \u001b[39msum\u001b[39;49m(\u001b[39m'\u001b[39;49m\u001b[39m1\u001b[39;49m\u001b[39m'\u001b[39;49m, \u001b[39m2\u001b[39;49m)\n\u001b[0;32m      7\u001b[0m \u001b[39mexcept\u001b[39;00m:\n\u001b[0;32m      8\u001b[0m     \u001b[39mprint\u001b[39m(\u001b[39m'\u001b[39m\u001b[39mVariables de tipo incorrecto\u001b[39m\u001b[39m'\u001b[39m)\n",
      "Cell \u001b[1;32mIn [11], line 2\u001b[0m, in \u001b[0;36msum\u001b[1;34m(a, b)\u001b[0m\n\u001b[0;32m      1\u001b[0m \u001b[39mdef\u001b[39;00m \u001b[39msum\u001b[39m(a,b):\n\u001b[1;32m----> 2\u001b[0m     \u001b[39mreturn\u001b[39;00m a \u001b[39m+\u001b[39;49m b\n",
      "\u001b[1;31mTypeError\u001b[0m: can only concatenate str (not \"int\") to str"
     ]
    }
   ],
   "source": [
    "def sum(a,b):\n",
    "    return a + b\n",
    "\n",
    "# Se tratará de correr todo el código dentro del bloque de try. Si hay algún error se correrá el código del bloque except\n",
    "try:\n",
    "    sum('1', 2)\n",
    "except:\n",
    "    print('Variables de tipo incorrecto')"
   ]
  },
  {
   "cell_type": "code",
   "execution_count": null,
   "metadata": {},
   "outputs": [
    {
     "name": "stdout",
     "output_type": "stream",
     "text": [
      "can only concatenate str (not \"int\") to str\n",
      "Tipo de dato incorrecto\n"
     ]
    }
   ],
   "source": [
    "# Tambien se puede hacer except a cierto tipo de errores\n",
    "try:\n",
    "    sum('1', 2)\n",
    "except TypeError as error:                  # Al cambiar el TypeError por algún otro tipo de error, ver como no entra en el Except y solamente marca el error como siempre\n",
    "    print(error)\n",
    "    print('Tipo de dato incorrecto')"
   ]
  },
  {
   "cell_type": "code",
   "execution_count": null,
   "metadata": {},
   "outputs": [
    {
     "name": "stdout",
     "output_type": "stream",
     "text": [
      "0.1\n"
     ]
    }
   ],
   "source": [
    "# else\n",
    "try:\n",
    "    num = int(input('Ingresa un número: '))\n",
    "    assert(num % 2 == 0)\n",
    "\n",
    "# Si hay un error en el try entra a este bloque\n",
    "except:\n",
    "    print('No ingresaste un número par!')\n",
    "\n",
    "# Si no hubo error en el bloque try, entra en este bloque\n",
    "else:\n",
    "    reciprocal = 1/num\n",
    "    print(reciprocal)"
   ]
  },
  {
   "cell_type": "code",
   "execution_count": null,
   "metadata": {},
   "outputs": [
    {
     "name": "stdout",
     "output_type": "stream",
     "text": [
      "0.1\n",
      "Siempre se ejecuta\n"
     ]
    }
   ],
   "source": [
    "# Finally\n",
    "try:\n",
    "    num = int(input('Ingresa un número: '))\n",
    "    assert(num % 2 == 0)\n",
    "\n",
    "# Si hay un error en el try entra a este bloque\n",
    "except:\n",
    "    print('No ingresaste un número par!')\n",
    "\n",
    "# Si no hubo error en el bloque try, entra en este bloque\n",
    "else:\n",
    "    reciprocal = 1/num\n",
    "    print(reciprocal)\n",
    "\n",
    "# El bloque finally siempre se ejecuta independientemente de si hubo error o no\n",
    "# Esto puede ser sumamente útil para colectar logs o cerrar archivos\n",
    "finally:\n",
    "    print('Siempre se ejecuta')\n"
   ]
  },
  {
   "cell_type": "markdown",
   "metadata": {},
   "source": [
    "### Debugging de código\n",
    "\n",
    "- Configurar un breakpoint en una línea de código activando el círculo rojo a la izquierda de la línea de código\n",
    "- Para entrar a correr la celda en modo debug: a la izquierda de la celda de código sale un simbolo de play con un dropdown, seleccionar la opción \"Debug Cell\" en el dropdown\n",
    "- Esto permite generar operaciones tales como:\n",
    "    1. Watch - Permite validar el valor de cada variable mientras el código se ejecuta. También se puede ver el valor de la variable hacer hover over cada una de ellas con el mous\n",
    "    2. Step Over (F10) - Navega el cógio línea por línea. Si se llama una función, la ejecuta y la sigue línea por línea\n",
    "    3. Step Out (Shift F11) - Navega el código línea por líunea. Si se llama una función, omite seguirla\n",
    "    4. Restart (Shift + Control + F5) - Reinicia el debug de la celda"
   ]
  },
  {
   "cell_type": "code",
   "execution_count": 3,
   "metadata": {},
   "outputs": [
    {
     "name": "stdout",
     "output_type": "stream",
     "text": [
      "Resultado = 20.0\n"
     ]
    }
   ],
   "source": [
    "a = 10\n",
    "b = 15\n",
    "c = 40\n",
    "d = 10 * 20 / 10\n",
    "\n",
    "print('Resultado =', d)"
   ]
  }
 ],
 "metadata": {
  "kernelspec": {
   "display_name": "Python 3.10.8 64-bit",
   "language": "python",
   "name": "python3"
  },
  "language_info": {
   "codemirror_mode": {
    "name": "ipython",
    "version": 3
   },
   "file_extension": ".py",
   "mimetype": "text/x-python",
   "name": "python",
   "nbconvert_exporter": "python",
   "pygments_lexer": "ipython3",
   "version": "3.10.8"
  },
  "orig_nbformat": 4,
  "vscode": {
   "interpreter": {
    "hash": "6037bd2d30708e017a51e55f8b5e171bfa5b535cee312ced134e6013b304e57c"
   }
  }
 },
 "nbformat": 4,
 "nbformat_minor": 2
}
