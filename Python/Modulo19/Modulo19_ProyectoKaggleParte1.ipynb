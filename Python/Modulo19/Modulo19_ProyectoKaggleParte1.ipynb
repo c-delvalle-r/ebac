{
 "cells": [
  {
   "cell_type": "code",
   "execution_count": 1,
   "metadata": {},
   "outputs": [],
   "source": [
    "import numpy as np\n",
    "import pandas as np"
   ]
  },
  {
   "attachments": {},
   "cell_type": "markdown",
   "metadata": {},
   "source": [
    "- Cargar datos\n",
    "- Exploración básica\n",
    "    - Visualizar la db, tamaño de db, cantidad de valores null, tipo de datos, metadata de la db, describe()\n",
    "    - Cambiar tipo de datos si es necesario e indicarlos\n",
    "- Exploración univariable\n",
    "    - Distribuciones, si existen repetidos, valores únicos para variables categóricos en donde sea útil\n",
    "- Nuevas variables \n",
    "    - Como operaciones entre columnas, vincular a nuevos datos como zip codes, ciudades o países con sus datos demográficos, poder adquisitivo, etc.\n",
    "- Análisis de correlación\n",
    "    - Grado de afinidad lineal entre las variables\n",
    "- Analizar la distribución de las variables numéricas\n",
    "- Agrupamiento\n",
    "    - Agrupar por las vairiables que creemos que vayan a ser mas relevantes para generar pivotes \n",
    "- Análisis bivariado utilizando pd.crosstab(series, series). Genera una matriz con las categorias de ambas variables como ejes y la cuenta como los valores de la matriz\n",
    "- Descubrimientos o insights"
   ]
  },
  {
   "cell_type": "markdown",
   "metadata": {},
   "source": []
  }
 ],
 "metadata": {
  "kernelspec": {
   "display_name": "Python 3",
   "language": "python",
   "name": "python3"
  },
  "language_info": {
   "codemirror_mode": {
    "name": "ipython",
    "version": 3
   },
   "file_extension": ".py",
   "mimetype": "text/x-python",
   "name": "python",
   "nbconvert_exporter": "python",
   "pygments_lexer": "ipython3",
   "version": "3.11.1 (tags/v3.11.1:a7a450f, Dec  6 2022, 19:58:39) [MSC v.1934 64 bit (AMD64)]"
  },
  "orig_nbformat": 4,
  "vscode": {
   "interpreter": {
    "hash": "56bda0149d934c357f91de85380f42b6e2d7faff17c98db7ea941f35d35a9cda"
   }
  }
 },
 "nbformat": 4,
 "nbformat_minor": 2
}
