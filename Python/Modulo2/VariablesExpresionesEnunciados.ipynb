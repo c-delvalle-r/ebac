{
 "cells": [
  {
   "cell_type": "markdown",
   "metadata": {},
   "source": [
    "# Variables Expresiones y Enunciados"
   ]
  },
  {
   "cell_type": "markdown",
   "metadata": {},
   "source": [
    "Operadores numéricos\n",
    "\n",
    "| Símbolo | Operación      |\n",
    "|---------|----------------|\n",
    "| +       | Suma           |\n",
    "| -       | Residuo        |\n",
    "| *       | Multiplicación |\n",
    "| /       | División       |\n",
    "| **      | Potencia       |\n",
    "| %       | Residuo        |\n",
    "\n",
    "Recordar que se sigue la jerarquía de operaciones: Parentesis, Potencia , División/Multiplicación/Residuo , Suma/Resta"
   ]
  },
  {
   "cell_type": "code",
   "execution_count": 1,
   "metadata": {},
   "outputs": [
    {
     "data": {
      "text/plain": [
       "10"
      ]
     },
     "execution_count": 1,
     "metadata": {},
     "output_type": "execute_result"
    }
   ],
   "source": [
    "x = 2\n",
    "y = 5\n",
    "x * y"
   ]
  },
  {
   "cell_type": "markdown",
   "metadata": {},
   "source": [
    "## Algunos de los operadores más comúnes para Strings\n",
    "\n",
    "Extraer del caracter n al m : string_name[n:m] (index 0) Slicing igual a pandas y numpy\n",
    "| Operación                         | Descripción |\n",
    "|-----------------------------------|-------------| \n",
    "|len(string_name)| Regresa la longitud del string |\n",
    "|string_name.lower()| Regresa el string solo en minúsculas |\n",
    "|string_name.upper()| Regresa el string solo en mayúsculas |\n",
    "|string_name.lstrip / rstrip / strip| Quita los espacios a la derecha, a la izquierda o ambos lados antes de que comiencen o despues de que terminen los caracteres alfanuméricos|"
   ]
  },
  {
   "cell_type": "code",
   "execution_count": 3,
   "metadata": {},
   "outputs": [
    {
     "name": "stdout",
     "output_type": "stream",
     "text": [
      "Vra acm\n"
     ]
    },
    {
     "data": {
      "text/plain": [
       "'Vargas la turbo come'"
      ]
     },
     "execution_count": 3,
     "metadata": {},
     "output_type": "execute_result"
    }
   ],
   "source": [
    "string1 = 'Vargas la come'\n",
    "print(string1[::2])\n",
    "string1.replace('la come', 'la turbo come')"
   ]
  },
  {
   "cell_type": "markdown",
   "metadata": {},
   "source": [
    "### Dir()\n",
    "\n",
    "El comando dir(variable) te regresa una lista de todos los métodos que se les pueden aplicar a la variable"
   ]
  },
  {
   "cell_type": "markdown",
   "metadata": {},
   "source": [
    "# Diccionarios"
   ]
  },
  {
   "cell_type": "markdown",
   "metadata": {},
   "source": [
    "Los diccionarios son listas de pares de { llaves:valores }"
   ]
  },
  {
   "cell_type": "code",
   "execution_count": 15,
   "metadata": {},
   "outputs": [
    {
     "data": {
      "text/plain": [
       "{'dinero': 1000, 'perros': 2, 'Empresa': 'MDMG', 'Edad': 23}"
      ]
     },
     "execution_count": 15,
     "metadata": {},
     "output_type": "execute_result"
    }
   ],
   "source": [
    "diccionario_ejemplo = {}\n",
    "diccionario_ejemplo['dinero'] = 1000\n",
    "diccionario_ejemplo['perros'] = 2\n",
    "diccionario_ejemplo['Empresa'] = 'MDMG'\n",
    "diccionario_ejemplo['Edad'] = 23\n",
    "diccionario_ejemplo"
   ]
  },
  {
   "cell_type": "code",
   "execution_count": 16,
   "metadata": {},
   "outputs": [
    {
     "data": {
      "text/plain": [
       "1000"
      ]
     },
     "execution_count": 16,
     "metadata": {},
     "output_type": "execute_result"
    }
   ],
   "source": [
    "# Llamar a un valor del diccionario\n",
    "diccionario_ejemplo['dinero']\n",
    "\n"
   ]
  },
  {
   "cell_type": "markdown",
   "metadata": {},
   "source": [
    "### Ejemplo para analizar un texto y cuantas veces sale una palabra\n",
    "\n",
    "Esto puede ser util para analizar textos. Asi podemos generar un analisis estadístico, dada la cantidad de ocurrencia de ciertas palabras clave, y tener una idea del posible sentimiento del texto, si es un texto de aprobación o desaprobación, etc."
   ]
  },
  {
   "cell_type": "code",
   "execution_count": 17,
   "metadata": {},
   "outputs": [],
   "source": [
    "conteo = {} #Aqui se guardaran las palabras:Numero de ocurrencias\n",
    "nombres = ['Juan', 'Pedro', 'Juan', 'Santiago', 'Andre', 'Alejandro', 'Alejandro']"
   ]
  },
  {
   "cell_type": "markdown",
   "metadata": {},
   "source": [
    "Seudocódigo del programa\n",
    "\n",
    "1. Para cada nombre en la lista de nombres:\n",
    "2. Revisar si la palabra ya existe en el diccionario\n",
    "3. Si no existe en el diccionario, agregarla y darle un contabilizador de 1\n",
    "4. Si sí existe en el diccionario, agregar 1 al contabilizador que ya existe"
   ]
  },
  {
   "cell_type": "code",
   "execution_count": 18,
   "metadata": {},
   "outputs": [
    {
     "data": {
      "text/plain": [
       "{'Juan': 2, 'Pedro': 1, 'Santiago': 1, 'Andre': 1, 'Alejandro': 2}"
      ]
     },
     "execution_count": 18,
     "metadata": {},
     "output_type": "execute_result"
    }
   ],
   "source": [
    "for nombre in nombres:\n",
    "    if nombre in conteo.keys():\n",
    "        conteo[nombre] += 1\n",
    "    else:\n",
    "        conteo[nombre] = 1\n",
    "\n",
    "conteo"
   ]
  },
  {
   "cell_type": "code",
   "execution_count": 3,
   "metadata": {},
   "outputs": [
    {
     "name": "stdout",
     "output_type": "stream",
     "text": [
      "El amor es una locura que ni el cura lo cura. Porque si el cura lo cura seria una locura del cura.\n",
      "0\n"
     ]
    }
   ],
   "source": [
    "with open('texto_para_analisis.txt') as f:\n",
    "    for text in f:\n",
    "        words = text.split(sep = ' ')\n",
    "\n",
    "words"
   ]
  },
  {
   "cell_type": "code",
   "execution_count": 39,
   "metadata": {},
   "outputs": [
    {
     "data": {
      "text/plain": [
       "{'el': 3,\n",
       " 'amor': 1,\n",
       " 'es': 1,\n",
       " 'una': 2,\n",
       " 'locura': 2,\n",
       " 'que': 1,\n",
       " 'ni': 1,\n",
       " 'cura': 5,\n",
       " 'lo': 2,\n",
       " 'porque': 1,\n",
       " 'si': 1,\n",
       " 'seria': 1,\n",
       " 'del': 1}"
      ]
     },
     "execution_count": 39,
     "metadata": {},
     "output_type": "execute_result"
    }
   ],
   "source": [
    "counter = {}\n",
    "\n",
    "for word in words:\n",
    "    word = word.replace('.','')\n",
    "    word = word.lower()\n",
    "    if word not in counter:\n",
    "        counter[word] = 1\n",
    "    else:\n",
    "        counter[word] += 1\n",
    "\n",
    "counter"
   ]
  },
  {
   "cell_type": "markdown",
   "metadata": {},
   "source": [
    "### Tuplas"
   ]
  },
  {
   "cell_type": "markdown",
   "metadata": {},
   "source": [
    "Una tupla es una lista inalterable, se define entre paréntesis. Son más eficientes en cuanto a memoria."
   ]
  },
  {
   "cell_type": "code",
   "execution_count": 3,
   "metadata": {},
   "outputs": [
    {
     "data": {
      "text/plain": [
       "'Vargas'"
      ]
     },
     "execution_count": 3,
     "metadata": {},
     "output_type": "execute_result"
    }
   ],
   "source": [
    "tuple1 = ('Vargas', 'La', 'Come')\n",
    "tuple1[0]"
   ]
  },
  {
   "cell_type": "code",
   "execution_count": 4,
   "metadata": {},
   "outputs": [
    {
     "data": {
      "text/plain": [
       "76"
      ]
     },
     "execution_count": 4,
     "metadata": {},
     "output_type": "execute_result"
    }
   ],
   "source": [
    "tuple2 = (2,5,76,3)\n",
    "max(tuple2)"
   ]
  },
  {
   "cell_type": "code",
   "execution_count": 6,
   "metadata": {},
   "outputs": [
    {
     "ename": "AttributeError",
     "evalue": "'tuple' object has no attribute 'sort'",
     "output_type": "error",
     "traceback": [
      "\u001b[1;31m---------------------------------------------------------------------------\u001b[0m",
      "\u001b[1;31mAttributeError\u001b[0m                            Traceback (most recent call last)",
      "\u001b[1;32mC:\\Users\\CARLOS~1\\AppData\\Local\\Temp/ipykernel_15652/680119041.py\u001b[0m in \u001b[0;36m<module>\u001b[1;34m\u001b[0m\n\u001b[0;32m      1\u001b[0m \u001b[1;31m# No se pueden ordenar, ni agregar elementos\u001b[0m\u001b[1;33m\u001b[0m\u001b[1;33m\u001b[0m\u001b[0m\n\u001b[1;32m----> 2\u001b[1;33m \u001b[0mtuple2\u001b[0m\u001b[1;33m.\u001b[0m\u001b[0msort\u001b[0m\u001b[1;33m(\u001b[0m\u001b[1;33m)\u001b[0m\u001b[1;33m\u001b[0m\u001b[1;33m\u001b[0m\u001b[0m\n\u001b[0m",
      "\u001b[1;31mAttributeError\u001b[0m: 'tuple' object has no attribute 'sort'"
     ]
    }
   ],
   "source": [
    "# No se pueden ordenar, ni agregar elementos\n",
    "tuple2.sort()"
   ]
  },
  {
   "cell_type": "code",
   "execution_count": 7,
   "metadata": {},
   "outputs": [
    {
     "data": {
      "text/plain": [
       "'Vargas'"
      ]
     },
     "execution_count": 7,
     "metadata": {},
     "output_type": "execute_result"
    }
   ],
   "source": [
    "# Se puede asignar una tupla a una tupla de variables para separar los valores\n",
    "\n",
    "(x,y) = ('Vargas', 'Arturo')\n",
    "x"
   ]
  }
 ],
 "metadata": {
  "kernelspec": {
   "display_name": "Python 3.10.0 64-bit",
   "language": "python",
   "name": "python3"
  },
  "language_info": {
   "codemirror_mode": {
    "name": "ipython",
    "version": 3
   },
   "file_extension": ".py",
   "mimetype": "text/x-python",
   "name": "python",
   "nbconvert_exporter": "python",
   "pygments_lexer": "ipython3",
   "version": "3.10.0"
  },
  "orig_nbformat": 4,
  "vscode": {
   "interpreter": {
    "hash": "6037bd2d30708e017a51e55f8b5e171bfa5b535cee312ced134e6013b304e57c"
   }
  }
 },
 "nbformat": 4,
 "nbformat_minor": 2
}
