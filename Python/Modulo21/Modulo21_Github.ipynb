{
 "cells": [
  {
   "attachments": {},
   "cell_type": "markdown",
   "metadata": {},
   "source": [
    "# GIT\n",
    "- Es una aplicación para el manejo de versiones de archivos\n",
    "- Sirve para conservar versiones y hacer control de cambios tanto en repositorios locales como en la nube\n",
    "\n",
    "##"
   ]
  }
 ],
 "metadata": {
  "kernelspec": {
   "display_name": "Python 3",
   "language": "python",
   "name": "python3"
  },
  "language_info": {
   "name": "python",
   "version": "3.11.1"
  },
  "orig_nbformat": 4,
  "vscode": {
   "interpreter": {
    "hash": "56bda0149d934c357f91de85380f42b6e2d7faff17c98db7ea941f35d35a9cda"
   }
  }
 },
 "nbformat": 4,
 "nbformat_minor": 2
}
