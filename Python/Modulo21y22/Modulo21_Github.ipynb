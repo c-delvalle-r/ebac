{
 "cells": [
  {
   "attachments": {},
   "cell_type": "markdown",
   "metadata": {},
   "source": [
    "# GIT\n",
    "- Es una aplicación para el manejo de versiones de archivos\n",
    "- Sirve para conservar versiones y hacer control de cambios tanto en repositorios locales como en la nube\n",
    "\n",
    "## GIT Avanzado\n",
    "\n",
    "### Branching\n",
    "- Los branches son repositorios internos al main que se usan para resolver errores\n",
    "- Permite hacer una copia de, por ejemplo, un sitio web en producción para poder trabajar sin alterar el código en producción\n",
    "- El branch copia todos los archivos del main, se soluciona el código en algunos de los archivos y luego se hace un MERGE\n",
    "- Para hacer un branch: git create branch - [branch name]\n",
    "- En la esquina inferior izquierda se ve el nombre del branch donde se está trabajando\n",
    "- Se hace la publicación del branch para que aparezca en github: git publish branch\n",
    "- Se puede validar en github la presencia del branch luego del publish\n",
    "\n",
    "#### Cambios en el Branch y Merge\n",
    "- Se hacen cambios locales en el archivo\n",
    "- Se hace un commit y push para alterar los archivos DEL BRANCH\n",
    "- Se valida que solo hay el cambio en la rama y no en el main. Dar Synchroniza en Github\n",
    "\n",
    "### Pull Request - Merging a Branch\n",
    "Después de que se hicieron los cambios en el branch y estás listo para integrarlo:\n",
    "- Alguien testea el branch para asegurarse de que todo funciona y una vez validado se comienza con el Pull Request\n",
    "- En VS Code: Shift+Ctrl P -> Git:Create Pull Request\n",
    "- Seleccionar el repositorio y branch de donde se va a buscar los cambios y a donde se van a combinar (generalmente mismo repositorio al main branch)\n",
    "- Se le pone un título y descripción del merge y crear el pull request\n",
    "\n",
    "\n",
    "### Checkout\n",
    "- Tambien en VSCode puedo hacer click en la esquina inferior izquierda para cambiar la rama o el main de donde estoy viendo mis archivos. Tambien se puede hacer un \"git checkout to - [select branch]\" "
   ]
  }
 ],
 "metadata": {
  "kernelspec": {
   "display_name": "Python 3",
   "language": "python",
   "name": "python3"
  },
  "language_info": {
   "name": "python",
   "version": "3.11.1"
  },
  "orig_nbformat": 4,
  "vscode": {
   "interpreter": {
    "hash": "56bda0149d934c357f91de85380f42b6e2d7faff17c98db7ea941f35d35a9cda"
   }
  }
 },
 "nbformat": 4,
 "nbformat_minor": 2
}
