{
 "cells": [
  {
   "attachments": {},
   "cell_type": "markdown",
   "metadata": {},
   "source": [
    "# Actividad Módulo 23: Numpy y Problemas Estadísticos\n",
    "1. Importar el archivo \"supermarket_sales.csv\"\n",
    "2. Importar librería Numpy. Generar estadística descriptiva de las columnas unit_price y quantity. Calcular moda, media y mediana.\n",
    "3. Obtener:\n",
    "    - Ticket promedio por ciudad\n",
    "    - Ticket promedio por product line y ciudad\n",
    "    - Ticket promedio por género\n",
    "    - Ticket promedio por género y product line\n",
    "4. Usar método rank para generar top 5 (en número y % al grand total):\n",
    "    - Ventas por ciudad\n",
    "    - Ventas por memeber\n",
    "    - Ventas por customer type\n",
    "5. Cálculo de matriz de correlación:\n",
    "    - Entre la hora (sin minutos) y el total\n",
    "    - Entre el precio unitario con el rating de la transacción para validar si los productos más caros son los que dejan mayor margen de ganancia"
   ]
  },
  {
   "cell_type": "code",
   "execution_count": 98,
   "metadata": {},
   "outputs": [
    {
     "data": {
      "text/html": [
       "<div>\n",
       "<style scoped>\n",
       "    .dataframe tbody tr th:only-of-type {\n",
       "        vertical-align: middle;\n",
       "    }\n",
       "\n",
       "    .dataframe tbody tr th {\n",
       "        vertical-align: top;\n",
       "    }\n",
       "\n",
       "    .dataframe thead th {\n",
       "        text-align: right;\n",
       "    }\n",
       "</style>\n",
       "<table border=\"1\" class=\"dataframe\">\n",
       "  <thead>\n",
       "    <tr style=\"text-align: right;\">\n",
       "      <th></th>\n",
       "      <th>Invoice ID</th>\n",
       "      <th>Branch</th>\n",
       "      <th>City</th>\n",
       "      <th>Customer type</th>\n",
       "      <th>Gender</th>\n",
       "      <th>Product line</th>\n",
       "      <th>Unit price</th>\n",
       "      <th>Quantity</th>\n",
       "      <th>Tax 5%</th>\n",
       "      <th>Total</th>\n",
       "      <th>Date</th>\n",
       "      <th>Time</th>\n",
       "      <th>Payment</th>\n",
       "      <th>cogs</th>\n",
       "      <th>gross margin percentage</th>\n",
       "      <th>gross income</th>\n",
       "      <th>Rating</th>\n",
       "    </tr>\n",
       "  </thead>\n",
       "  <tbody>\n",
       "    <tr>\n",
       "      <th>660</th>\n",
       "      <td>322-02-2271</td>\n",
       "      <td>B</td>\n",
       "      <td>Mandalay</td>\n",
       "      <td>Normal</td>\n",
       "      <td>Female</td>\n",
       "      <td>Sports and travel</td>\n",
       "      <td>42.97</td>\n",
       "      <td>3</td>\n",
       "      <td>6.4455</td>\n",
       "      <td>135.3555</td>\n",
       "      <td>2/3/2019</td>\n",
       "      <td>11:46</td>\n",
       "      <td>Cash</td>\n",
       "      <td>128.91</td>\n",
       "      <td>4.761905</td>\n",
       "      <td>6.4455</td>\n",
       "      <td>9.3</td>\n",
       "    </tr>\n",
       "    <tr>\n",
       "      <th>303</th>\n",
       "      <td>439-54-7422</td>\n",
       "      <td>A</td>\n",
       "      <td>Yangon</td>\n",
       "      <td>Normal</td>\n",
       "      <td>Female</td>\n",
       "      <td>Electronic accessories</td>\n",
       "      <td>51.19</td>\n",
       "      <td>4</td>\n",
       "      <td>10.2380</td>\n",
       "      <td>214.9980</td>\n",
       "      <td>3/18/2019</td>\n",
       "      <td>17:15</td>\n",
       "      <td>Credit card</td>\n",
       "      <td>204.76</td>\n",
       "      <td>4.761905</td>\n",
       "      <td>10.2380</td>\n",
       "      <td>4.7</td>\n",
       "    </tr>\n",
       "    <tr>\n",
       "      <th>6</th>\n",
       "      <td>355-53-5943</td>\n",
       "      <td>A</td>\n",
       "      <td>Yangon</td>\n",
       "      <td>Member</td>\n",
       "      <td>Female</td>\n",
       "      <td>Electronic accessories</td>\n",
       "      <td>68.84</td>\n",
       "      <td>6</td>\n",
       "      <td>20.6520</td>\n",
       "      <td>433.6920</td>\n",
       "      <td>2/25/2019</td>\n",
       "      <td>14:36</td>\n",
       "      <td>Ewallet</td>\n",
       "      <td>413.04</td>\n",
       "      <td>4.761905</td>\n",
       "      <td>20.6520</td>\n",
       "      <td>5.8</td>\n",
       "    </tr>\n",
       "    <tr>\n",
       "      <th>350</th>\n",
       "      <td>860-79-0874</td>\n",
       "      <td>C</td>\n",
       "      <td>Naypyitaw</td>\n",
       "      <td>Member</td>\n",
       "      <td>Female</td>\n",
       "      <td>Fashion accessories</td>\n",
       "      <td>99.30</td>\n",
       "      <td>10</td>\n",
       "      <td>49.6500</td>\n",
       "      <td>1042.6500</td>\n",
       "      <td>2/15/2019</td>\n",
       "      <td>14:53</td>\n",
       "      <td>Credit card</td>\n",
       "      <td>993.00</td>\n",
       "      <td>4.761905</td>\n",
       "      <td>49.6500</td>\n",
       "      <td>6.6</td>\n",
       "    </tr>\n",
       "    <tr>\n",
       "      <th>728</th>\n",
       "      <td>210-74-9613</td>\n",
       "      <td>C</td>\n",
       "      <td>Naypyitaw</td>\n",
       "      <td>Normal</td>\n",
       "      <td>Male</td>\n",
       "      <td>Fashion accessories</td>\n",
       "      <td>97.26</td>\n",
       "      <td>4</td>\n",
       "      <td>19.4520</td>\n",
       "      <td>408.4920</td>\n",
       "      <td>3/16/2019</td>\n",
       "      <td>15:33</td>\n",
       "      <td>Ewallet</td>\n",
       "      <td>389.04</td>\n",
       "      <td>4.761905</td>\n",
       "      <td>19.4520</td>\n",
       "      <td>6.8</td>\n",
       "    </tr>\n",
       "    <tr>\n",
       "      <th>302</th>\n",
       "      <td>735-06-4124</td>\n",
       "      <td>C</td>\n",
       "      <td>Naypyitaw</td>\n",
       "      <td>Normal</td>\n",
       "      <td>Male</td>\n",
       "      <td>Food and beverages</td>\n",
       "      <td>48.61</td>\n",
       "      <td>1</td>\n",
       "      <td>2.4305</td>\n",
       "      <td>51.0405</td>\n",
       "      <td>2/25/2019</td>\n",
       "      <td>15:31</td>\n",
       "      <td>Cash</td>\n",
       "      <td>48.61</td>\n",
       "      <td>4.761905</td>\n",
       "      <td>2.4305</td>\n",
       "      <td>4.4</td>\n",
       "    </tr>\n",
       "    <tr>\n",
       "      <th>472</th>\n",
       "      <td>405-31-3305</td>\n",
       "      <td>A</td>\n",
       "      <td>Yangon</td>\n",
       "      <td>Member</td>\n",
       "      <td>Male</td>\n",
       "      <td>Fashion accessories</td>\n",
       "      <td>43.13</td>\n",
       "      <td>10</td>\n",
       "      <td>21.5650</td>\n",
       "      <td>452.8650</td>\n",
       "      <td>2/2/2019</td>\n",
       "      <td>18:31</td>\n",
       "      <td>Credit card</td>\n",
       "      <td>431.30</td>\n",
       "      <td>4.761905</td>\n",
       "      <td>21.5650</td>\n",
       "      <td>5.5</td>\n",
       "    </tr>\n",
       "    <tr>\n",
       "      <th>442</th>\n",
       "      <td>138-17-5109</td>\n",
       "      <td>A</td>\n",
       "      <td>Yangon</td>\n",
       "      <td>Member</td>\n",
       "      <td>Female</td>\n",
       "      <td>Home and lifestyle</td>\n",
       "      <td>89.21</td>\n",
       "      <td>9</td>\n",
       "      <td>40.1445</td>\n",
       "      <td>843.0345</td>\n",
       "      <td>1/15/2019</td>\n",
       "      <td>15:42</td>\n",
       "      <td>Credit card</td>\n",
       "      <td>802.89</td>\n",
       "      <td>4.761905</td>\n",
       "      <td>40.1445</td>\n",
       "      <td>6.5</td>\n",
       "    </tr>\n",
       "    <tr>\n",
       "      <th>390</th>\n",
       "      <td>541-89-9860</td>\n",
       "      <td>C</td>\n",
       "      <td>Naypyitaw</td>\n",
       "      <td>Member</td>\n",
       "      <td>Female</td>\n",
       "      <td>Fashion accessories</td>\n",
       "      <td>80.48</td>\n",
       "      <td>3</td>\n",
       "      <td>12.0720</td>\n",
       "      <td>253.5120</td>\n",
       "      <td>2/15/2019</td>\n",
       "      <td>12:31</td>\n",
       "      <td>Cash</td>\n",
       "      <td>241.44</td>\n",
       "      <td>4.761905</td>\n",
       "      <td>12.0720</td>\n",
       "      <td>8.1</td>\n",
       "    </tr>\n",
       "    <tr>\n",
       "      <th>994</th>\n",
       "      <td>652-49-6720</td>\n",
       "      <td>C</td>\n",
       "      <td>Naypyitaw</td>\n",
       "      <td>Member</td>\n",
       "      <td>Female</td>\n",
       "      <td>Electronic accessories</td>\n",
       "      <td>60.95</td>\n",
       "      <td>1</td>\n",
       "      <td>3.0475</td>\n",
       "      <td>63.9975</td>\n",
       "      <td>2/18/2019</td>\n",
       "      <td>11:40</td>\n",
       "      <td>Ewallet</td>\n",
       "      <td>60.95</td>\n",
       "      <td>4.761905</td>\n",
       "      <td>3.0475</td>\n",
       "      <td>5.9</td>\n",
       "    </tr>\n",
       "  </tbody>\n",
       "</table>\n",
       "</div>"
      ],
      "text/plain": [
       "      Invoice ID Branch       City Customer type  Gender  \\\n",
       "660  322-02-2271      B   Mandalay        Normal  Female   \n",
       "303  439-54-7422      A     Yangon        Normal  Female   \n",
       "6    355-53-5943      A     Yangon        Member  Female   \n",
       "350  860-79-0874      C  Naypyitaw        Member  Female   \n",
       "728  210-74-9613      C  Naypyitaw        Normal    Male   \n",
       "302  735-06-4124      C  Naypyitaw        Normal    Male   \n",
       "472  405-31-3305      A     Yangon        Member    Male   \n",
       "442  138-17-5109      A     Yangon        Member  Female   \n",
       "390  541-89-9860      C  Naypyitaw        Member  Female   \n",
       "994  652-49-6720      C  Naypyitaw        Member  Female   \n",
       "\n",
       "               Product line  Unit price  Quantity   Tax 5%      Total  \\\n",
       "660       Sports and travel       42.97         3   6.4455   135.3555   \n",
       "303  Electronic accessories       51.19         4  10.2380   214.9980   \n",
       "6    Electronic accessories       68.84         6  20.6520   433.6920   \n",
       "350     Fashion accessories       99.30        10  49.6500  1042.6500   \n",
       "728     Fashion accessories       97.26         4  19.4520   408.4920   \n",
       "302      Food and beverages       48.61         1   2.4305    51.0405   \n",
       "472     Fashion accessories       43.13        10  21.5650   452.8650   \n",
       "442      Home and lifestyle       89.21         9  40.1445   843.0345   \n",
       "390     Fashion accessories       80.48         3  12.0720   253.5120   \n",
       "994  Electronic accessories       60.95         1   3.0475    63.9975   \n",
       "\n",
       "          Date   Time      Payment    cogs  gross margin percentage  \\\n",
       "660   2/3/2019  11:46         Cash  128.91                 4.761905   \n",
       "303  3/18/2019  17:15  Credit card  204.76                 4.761905   \n",
       "6    2/25/2019  14:36      Ewallet  413.04                 4.761905   \n",
       "350  2/15/2019  14:53  Credit card  993.00                 4.761905   \n",
       "728  3/16/2019  15:33      Ewallet  389.04                 4.761905   \n",
       "302  2/25/2019  15:31         Cash   48.61                 4.761905   \n",
       "472   2/2/2019  18:31  Credit card  431.30                 4.761905   \n",
       "442  1/15/2019  15:42  Credit card  802.89                 4.761905   \n",
       "390  2/15/2019  12:31         Cash  241.44                 4.761905   \n",
       "994  2/18/2019  11:40      Ewallet   60.95                 4.761905   \n",
       "\n",
       "     gross income  Rating  \n",
       "660        6.4455     9.3  \n",
       "303       10.2380     4.7  \n",
       "6         20.6520     5.8  \n",
       "350       49.6500     6.6  \n",
       "728       19.4520     6.8  \n",
       "302        2.4305     4.4  \n",
       "472       21.5650     5.5  \n",
       "442       40.1445     6.5  \n",
       "390       12.0720     8.1  \n",
       "994        3.0475     5.9  "
      ]
     },
     "execution_count": 98,
     "metadata": {},
     "output_type": "execute_result"
    }
   ],
   "source": [
    "# 1. Importar archivo y cargarlo en un pd.dataframe\n",
    "import pandas as pd\n",
    "df = pd.read_csv('supermarket_sales.csv')\n",
    "df.sample(10)"
   ]
  },
  {
   "cell_type": "code",
   "execution_count": 99,
   "metadata": {},
   "outputs": [
    {
     "name": "stdout",
     "output_type": "stream",
     "text": [
      "<class 'pandas.core.frame.DataFrame'>\n",
      "RangeIndex: 1000 entries, 0 to 999\n",
      "Data columns (total 17 columns):\n",
      " #   Column                   Non-Null Count  Dtype  \n",
      "---  ------                   --------------  -----  \n",
      " 0   Invoice ID               1000 non-null   object \n",
      " 1   Branch                   1000 non-null   object \n",
      " 2   City                     1000 non-null   object \n",
      " 3   Customer type            1000 non-null   object \n",
      " 4   Gender                   1000 non-null   object \n",
      " 5   Product line             1000 non-null   object \n",
      " 6   Unit price               1000 non-null   float64\n",
      " 7   Quantity                 1000 non-null   int64  \n",
      " 8   Tax 5%                   1000 non-null   float64\n",
      " 9   Total                    1000 non-null   float64\n",
      " 10  Date                     1000 non-null   object \n",
      " 11  Time                     1000 non-null   object \n",
      " 12  Payment                  1000 non-null   object \n",
      " 13  cogs                     1000 non-null   float64\n",
      " 14  gross margin percentage  1000 non-null   float64\n",
      " 15  gross income             1000 non-null   float64\n",
      " 16  Rating                   1000 non-null   float64\n",
      "dtypes: float64(7), int64(1), object(9)\n",
      "memory usage: 132.9+ KB\n"
     ]
    }
   ],
   "source": [
    "# Analisis primario del dataframe\n",
    "df.info()"
   ]
  },
  {
   "cell_type": "code",
   "execution_count": 100,
   "metadata": {},
   "outputs": [
    {
     "data": {
      "text/html": [
       "<div>\n",
       "<style scoped>\n",
       "    .dataframe tbody tr th:only-of-type {\n",
       "        vertical-align: middle;\n",
       "    }\n",
       "\n",
       "    .dataframe tbody tr th {\n",
       "        vertical-align: top;\n",
       "    }\n",
       "\n",
       "    .dataframe thead th {\n",
       "        text-align: right;\n",
       "    }\n",
       "</style>\n",
       "<table border=\"1\" class=\"dataframe\">\n",
       "  <thead>\n",
       "    <tr style=\"text-align: right;\">\n",
       "      <th></th>\n",
       "      <th>Unit price</th>\n",
       "      <th>Quantity</th>\n",
       "      <th>Tax 5%</th>\n",
       "      <th>Total</th>\n",
       "      <th>cogs</th>\n",
       "      <th>gross margin percentage</th>\n",
       "      <th>gross income</th>\n",
       "      <th>Rating</th>\n",
       "    </tr>\n",
       "  </thead>\n",
       "  <tbody>\n",
       "    <tr>\n",
       "      <th>count</th>\n",
       "      <td>1000.000000</td>\n",
       "      <td>1000.000000</td>\n",
       "      <td>1000.000000</td>\n",
       "      <td>1000.000000</td>\n",
       "      <td>1000.00000</td>\n",
       "      <td>1000.000000</td>\n",
       "      <td>1000.000000</td>\n",
       "      <td>1000.00000</td>\n",
       "    </tr>\n",
       "    <tr>\n",
       "      <th>mean</th>\n",
       "      <td>55.672130</td>\n",
       "      <td>5.510000</td>\n",
       "      <td>15.379369</td>\n",
       "      <td>322.966749</td>\n",
       "      <td>307.58738</td>\n",
       "      <td>4.761905</td>\n",
       "      <td>15.379369</td>\n",
       "      <td>6.97270</td>\n",
       "    </tr>\n",
       "    <tr>\n",
       "      <th>std</th>\n",
       "      <td>26.494628</td>\n",
       "      <td>2.923431</td>\n",
       "      <td>11.708825</td>\n",
       "      <td>245.885335</td>\n",
       "      <td>234.17651</td>\n",
       "      <td>0.000000</td>\n",
       "      <td>11.708825</td>\n",
       "      <td>1.71858</td>\n",
       "    </tr>\n",
       "    <tr>\n",
       "      <th>min</th>\n",
       "      <td>10.080000</td>\n",
       "      <td>1.000000</td>\n",
       "      <td>0.508500</td>\n",
       "      <td>10.678500</td>\n",
       "      <td>10.17000</td>\n",
       "      <td>4.761905</td>\n",
       "      <td>0.508500</td>\n",
       "      <td>4.00000</td>\n",
       "    </tr>\n",
       "    <tr>\n",
       "      <th>25%</th>\n",
       "      <td>32.875000</td>\n",
       "      <td>3.000000</td>\n",
       "      <td>5.924875</td>\n",
       "      <td>124.422375</td>\n",
       "      <td>118.49750</td>\n",
       "      <td>4.761905</td>\n",
       "      <td>5.924875</td>\n",
       "      <td>5.50000</td>\n",
       "    </tr>\n",
       "    <tr>\n",
       "      <th>50%</th>\n",
       "      <td>55.230000</td>\n",
       "      <td>5.000000</td>\n",
       "      <td>12.088000</td>\n",
       "      <td>253.848000</td>\n",
       "      <td>241.76000</td>\n",
       "      <td>4.761905</td>\n",
       "      <td>12.088000</td>\n",
       "      <td>7.00000</td>\n",
       "    </tr>\n",
       "    <tr>\n",
       "      <th>75%</th>\n",
       "      <td>77.935000</td>\n",
       "      <td>8.000000</td>\n",
       "      <td>22.445250</td>\n",
       "      <td>471.350250</td>\n",
       "      <td>448.90500</td>\n",
       "      <td>4.761905</td>\n",
       "      <td>22.445250</td>\n",
       "      <td>8.50000</td>\n",
       "    </tr>\n",
       "    <tr>\n",
       "      <th>max</th>\n",
       "      <td>99.960000</td>\n",
       "      <td>10.000000</td>\n",
       "      <td>49.650000</td>\n",
       "      <td>1042.650000</td>\n",
       "      <td>993.00000</td>\n",
       "      <td>4.761905</td>\n",
       "      <td>49.650000</td>\n",
       "      <td>10.00000</td>\n",
       "    </tr>\n",
       "  </tbody>\n",
       "</table>\n",
       "</div>"
      ],
      "text/plain": [
       "        Unit price     Quantity       Tax 5%        Total        cogs  \\\n",
       "count  1000.000000  1000.000000  1000.000000  1000.000000  1000.00000   \n",
       "mean     55.672130     5.510000    15.379369   322.966749   307.58738   \n",
       "std      26.494628     2.923431    11.708825   245.885335   234.17651   \n",
       "min      10.080000     1.000000     0.508500    10.678500    10.17000   \n",
       "25%      32.875000     3.000000     5.924875   124.422375   118.49750   \n",
       "50%      55.230000     5.000000    12.088000   253.848000   241.76000   \n",
       "75%      77.935000     8.000000    22.445250   471.350250   448.90500   \n",
       "max      99.960000    10.000000    49.650000  1042.650000   993.00000   \n",
       "\n",
       "       gross margin percentage  gross income      Rating  \n",
       "count              1000.000000   1000.000000  1000.00000  \n",
       "mean                  4.761905     15.379369     6.97270  \n",
       "std                   0.000000     11.708825     1.71858  \n",
       "min                   4.761905      0.508500     4.00000  \n",
       "25%                   4.761905      5.924875     5.50000  \n",
       "50%                   4.761905     12.088000     7.00000  \n",
       "75%                   4.761905     22.445250     8.50000  \n",
       "max                   4.761905     49.650000    10.00000  "
      ]
     },
     "execution_count": 100,
     "metadata": {},
     "output_type": "execute_result"
    }
   ],
   "source": [
    "df.describe()"
   ]
  },
  {
   "cell_type": "code",
   "execution_count": 101,
   "metadata": {},
   "outputs": [
    {
     "name": "stdout",
     "output_type": "stream",
     "text": [
      "La moda de unit_price es de $83.77\n",
      "La mediana de unit_price es de $55.23\n",
      "La media de unit_price es de $55.67\n",
      "\n",
      "La moda de quantity es de 10 unidades\n",
      "La mediana de quantity es de 5 unidades\n",
      "La media de quantity es de 5.51 unidades\n"
     ]
    }
   ],
   "source": [
    "# 2. Importar Numpy y generar estadística descriptiva de unit_price y quantity\n",
    "import numpy as np\n",
    "\n",
    "# Cargar pd.series a np.arrays \n",
    "unit_price_np = df['Unit price'].to_numpy()\n",
    "quantity_np = df['Quantity'].to_numpy()\n",
    "\n",
    "# Estadísticas descriptivas de unit_price y quantity\n",
    "\n",
    "mean_unitprice = unit_price_np.mean()\n",
    "median_unitprice = np.percentile(unit_price_np, 50)\n",
    "vals, count = np.unique(unit_price_np, return_counts=True)\n",
    "mode_unitprice = vals[np.argmax(count)]\n",
    "\n",
    "print(f'La moda de unit_price es de ${mode_unitprice:.2f}')\n",
    "print(f'La mediana de unit_price es de ${median_unitprice:.2f}')\n",
    "print(f'La media de unit_price es de ${mean_unitprice:.2f}')\n",
    "\n",
    "\n",
    "mean_quantity  = quantity_np.mean()\n",
    "median_quantity = np.percentile(quantity_np, 50)\n",
    "vals, count = np.unique(quantity_np, return_counts=True)\n",
    "mode_quantity = vals[np.argmax(count)]\n",
    "\n",
    "print(f'\\nLa moda de quantity es de {mode_quantity:.0f} unidades')\n",
    "print(f'La mediana de quantity es de {median_quantity:.0f} unidades')\n",
    "print(f'La media de quantity es de {mean_quantity:.2f} unidades')\n"
   ]
  },
  {
   "cell_type": "code",
   "execution_count": 102,
   "metadata": {},
   "outputs": [
    {
     "data": {
      "text/plain": [
       "Text(0.5, 1.0, 'Histograma de precio unitario')"
      ]
     },
     "execution_count": 102,
     "metadata": {},
     "output_type": "execute_result"
    },
    {
     "data": {
      "image/png": "[encoded data removed]",
      "text/plain": [
       "<Figure size 500x500 with 1 Axes>"
      ]
     },
     "metadata": {},
     "output_type": "display_data"
    }
   ],
   "source": [
    "# Gráficos para exploración de las series mencionadas\n",
    "import matplotlib.pyplot as plt \n",
    "import seaborn as sns\n",
    "\n",
    "sns.displot(unit_price_np, bins=10)\n",
    "plt.title('Histograma de precio unitario')"
   ]
  },
  {
   "cell_type": "code",
   "execution_count": 103,
   "metadata": {},
   "outputs": [
    {
     "data": {
      "text/plain": [
       "Text(0.5, 1.0, 'Histográma de cantidad vendida')"
      ]
     },
     "execution_count": 103,
     "metadata": {},
     "output_type": "execute_result"
    },
    {
     "data": {
      "image/png": "[encoded data removed]",
      "text/plain": [
       "<Figure size 500x500 with 1 Axes>"
      ]
     },
     "metadata": {},
     "output_type": "display_data"
    }
   ],
   "source": [
    "sns.displot(quantity_np, bins=10)\n",
    "plt.title('Histográma de cantidad vendida')"
   ]
  },
  {
   "attachments": {},
   "cell_type": "markdown",
   "metadata": {},
   "source": [
    "## Insights 1:\n",
    "- Como se puede inferir de las medidas de tendencia central. Al ser las medianas muy cercanas a la moda, no existe un sesgo de los datos de precio unitario ni de cantidad.\n",
    "- Al hacer los histogramas de ambas series de datos nos podemos dar cuenta que tampoco siguen una distribución normal puesto quye no existe nada parecido a una campana de Gauss. La distribución de ambas series de datos asemejan más a distribuciones uniformes."
   ]
  },
  {
   "cell_type": "code",
   "execution_count": 104,
   "metadata": {},
   "outputs": [
    {
     "data": {
      "text/html": [
       "<div>\n",
       "<style scoped>\n",
       "    .dataframe tbody tr th:only-of-type {\n",
       "        vertical-align: middle;\n",
       "    }\n",
       "\n",
       "    .dataframe tbody tr th {\n",
       "        vertical-align: top;\n",
       "    }\n",
       "\n",
       "    .dataframe thead th {\n",
       "        text-align: right;\n",
       "    }\n",
       "</style>\n",
       "<table border=\"1\" class=\"dataframe\">\n",
       "  <thead>\n",
       "    <tr style=\"text-align: right;\">\n",
       "      <th></th>\n",
       "      <th>Total</th>\n",
       "    </tr>\n",
       "    <tr>\n",
       "      <th>City</th>\n",
       "      <th></th>\n",
       "    </tr>\n",
       "  </thead>\n",
       "  <tbody>\n",
       "    <tr>\n",
       "      <th>Mandalay</th>\n",
       "      <td>319.87</td>\n",
       "    </tr>\n",
       "    <tr>\n",
       "      <th>Naypyitaw</th>\n",
       "      <td>337.10</td>\n",
       "    </tr>\n",
       "    <tr>\n",
       "      <th>Yangon</th>\n",
       "      <td>312.35</td>\n",
       "    </tr>\n",
       "  </tbody>\n",
       "</table>\n",
       "</div>"
      ],
      "text/plain": [
       "            Total\n",
       "City             \n",
       "Mandalay   319.87\n",
       "Naypyitaw  337.10\n",
       "Yangon     312.35"
      ]
     },
     "execution_count": 104,
     "metadata": {},
     "output_type": "execute_result"
    }
   ],
   "source": [
    "# 3.1 Obtener ticket promedio por ciudad\n",
    "# Pandas\n",
    "df.pivot_table(values='Total', index='City', aggfunc='mean').round(2)"
   ]
  },
  {
   "cell_type": "code",
   "execution_count": 105,
   "metadata": {},
   "outputs": [
    {
     "name": "stdout",
     "output_type": "stream",
     "text": [
      "The average ticket for the city of Mandalay is of $319.87\n",
      "The average ticket for the city of Naypyitaw is of $337.10\n",
      "The average ticket for the city of Yangon is of $312.35\n"
     ]
    }
   ],
   "source": [
    "# Numpy\n",
    "city_np = df['City'].to_numpy()\n",
    "total_np = df['Total'].to_numpy()\n",
    "\n",
    "# Ticket promedio para la ciudad de Mandalay\n",
    "city_avg_ticket = total_np[city_np == 'Mandalay'].mean()\n",
    "print(f'The average ticket for the city of Mandalay is of ${city_avg_ticket:.2f}')\n",
    "\n",
    "# Ticket promedio para la ciudad de Naypyitaw\n",
    "city_avg_ticket = total_np[city_np == 'Naypyitaw'].mean()\n",
    "print(f'The average ticket for the city of Naypyitaw is of ${city_avg_ticket:.2f}')\n",
    "\n",
    "# Ticket promedio para la ciudad de Yangon\n",
    "city_avg_ticket = total_np[city_np == 'Yangon'].mean()\n",
    "print(f'The average ticket for the city of Yangon is of ${city_avg_ticket:.2f}')\n"
   ]
  },
  {
   "cell_type": "code",
   "execution_count": 106,
   "metadata": {},
   "outputs": [
    {
     "data": {
      "text/html": [
       "<div>\n",
       "<style scoped>\n",
       "    .dataframe tbody tr th:only-of-type {\n",
       "        vertical-align: middle;\n",
       "    }\n",
       "\n",
       "    .dataframe tbody tr th {\n",
       "        vertical-align: top;\n",
       "    }\n",
       "\n",
       "    .dataframe thead th {\n",
       "        text-align: right;\n",
       "    }\n",
       "</style>\n",
       "<table border=\"1\" class=\"dataframe\">\n",
       "  <thead>\n",
       "    <tr style=\"text-align: right;\">\n",
       "      <th></th>\n",
       "      <th></th>\n",
       "      <th>Total</th>\n",
       "    </tr>\n",
       "    <tr>\n",
       "      <th>Product line</th>\n",
       "      <th>City</th>\n",
       "      <th></th>\n",
       "    </tr>\n",
       "  </thead>\n",
       "  <tbody>\n",
       "    <tr>\n",
       "      <th rowspan=\"3\" valign=\"top\">Electronic accessories</th>\n",
       "      <th>Mandalay</th>\n",
       "      <td>310.03</td>\n",
       "    </tr>\n",
       "    <tr>\n",
       "      <th>Naypyitaw</th>\n",
       "      <td>344.89</td>\n",
       "    </tr>\n",
       "    <tr>\n",
       "      <th>Yangon</th>\n",
       "      <td>305.29</td>\n",
       "    </tr>\n",
       "    <tr>\n",
       "      <th rowspan=\"3\" valign=\"top\">Fashion accessories</th>\n",
       "      <th>Mandalay</th>\n",
       "      <td>264.73</td>\n",
       "    </tr>\n",
       "    <tr>\n",
       "      <th>Naypyitaw</th>\n",
       "      <td>331.69</td>\n",
       "    </tr>\n",
       "    <tr>\n",
       "      <th>Yangon</th>\n",
       "      <td>320.25</td>\n",
       "    </tr>\n",
       "    <tr>\n",
       "      <th rowspan=\"3\" valign=\"top\">Food and beverages</th>\n",
       "      <th>Mandalay</th>\n",
       "      <td>304.30</td>\n",
       "    </tr>\n",
       "    <tr>\n",
       "      <th>Naypyitaw</th>\n",
       "      <td>360.10</td>\n",
       "    </tr>\n",
       "    <tr>\n",
       "      <th>Yangon</th>\n",
       "      <td>295.92</td>\n",
       "    </tr>\n",
       "    <tr>\n",
       "      <th rowspan=\"3\" valign=\"top\">Health and beauty</th>\n",
       "      <th>Mandalay</th>\n",
       "      <td>376.99</td>\n",
       "    </tr>\n",
       "    <tr>\n",
       "      <th>Naypyitaw</th>\n",
       "      <td>319.53</td>\n",
       "    </tr>\n",
       "    <tr>\n",
       "      <th>Yangon</th>\n",
       "      <td>268.04</td>\n",
       "    </tr>\n",
       "    <tr>\n",
       "      <th rowspan=\"3\" valign=\"top\">Home and lifestyle</th>\n",
       "      <th>Mandalay</th>\n",
       "      <td>350.98</td>\n",
       "    </tr>\n",
       "    <tr>\n",
       "      <th>Naypyitaw</th>\n",
       "      <td>308.79</td>\n",
       "    </tr>\n",
       "    <tr>\n",
       "      <th>Yangon</th>\n",
       "      <td>344.88</td>\n",
       "    </tr>\n",
       "    <tr>\n",
       "      <th rowspan=\"3\" valign=\"top\">Sports and travel</th>\n",
       "      <th>Mandalay</th>\n",
       "      <td>322.39</td>\n",
       "    </tr>\n",
       "    <tr>\n",
       "      <th>Naypyitaw</th>\n",
       "      <td>350.27</td>\n",
       "    </tr>\n",
       "    <tr>\n",
       "      <th>Yangon</th>\n",
       "      <td>328.35</td>\n",
       "    </tr>\n",
       "  </tbody>\n",
       "</table>\n",
       "</div>"
      ],
      "text/plain": [
       "                                   Total\n",
       "Product line           City             \n",
       "Electronic accessories Mandalay   310.03\n",
       "                       Naypyitaw  344.89\n",
       "                       Yangon     305.29\n",
       "Fashion accessories    Mandalay   264.73\n",
       "                       Naypyitaw  331.69\n",
       "                       Yangon     320.25\n",
       "Food and beverages     Mandalay   304.30\n",
       "                       Naypyitaw  360.10\n",
       "                       Yangon     295.92\n",
       "Health and beauty      Mandalay   376.99\n",
       "                       Naypyitaw  319.53\n",
       "                       Yangon     268.04\n",
       "Home and lifestyle     Mandalay   350.98\n",
       "                       Naypyitaw  308.79\n",
       "                       Yangon     344.88\n",
       "Sports and travel      Mandalay   322.39\n",
       "                       Naypyitaw  350.27\n",
       "                       Yangon     328.35"
      ]
     },
     "execution_count": 106,
     "metadata": {},
     "output_type": "execute_result"
    }
   ],
   "source": [
    "# 3.2 Ticket promedio por product line y ciudad\n",
    "# Pandas \n",
    "df.pivot_table(index=['Product line', 'City'], values='Total', aggfunc='mean').round(2)"
   ]
  },
  {
   "cell_type": "code",
   "execution_count": 107,
   "metadata": {},
   "outputs": [
    {
     "name": "stdout",
     "output_type": "stream",
     "text": [
      "The average ticket in Yangon for Health and beauty products is $268.04\n",
      "The average ticket in Naypyitaw for Health and beauty products is $319.53\n",
      "The average ticket in Mandalay for Health and beauty products is $376.99\n",
      "The average ticket in Yangon for Electronic accessories products is $305.29\n",
      "The average ticket in Naypyitaw for Electronic accessories products is $344.89\n",
      "The average ticket in Mandalay for Electronic accessories products is $310.03\n",
      "The average ticket in Yangon for Home and lifestyle products is $344.88\n",
      "The average ticket in Naypyitaw for Home and lifestyle products is $308.79\n",
      "The average ticket in Mandalay for Home and lifestyle products is $350.98\n",
      "The average ticket in Yangon for Sports and travel products is $328.35\n",
      "The average ticket in Naypyitaw for Sports and travel products is $350.27\n",
      "The average ticket in Mandalay for Sports and travel products is $322.39\n",
      "The average ticket in Yangon for Food and beverages products is $295.92\n",
      "The average ticket in Naypyitaw for Food and beverages products is $360.10\n",
      "The average ticket in Mandalay for Food and beverages products is $304.30\n",
      "The average ticket in Yangon for Fashion accessories products is $320.25\n",
      "The average ticket in Naypyitaw for Fashion accessories products is $331.69\n",
      "The average ticket in Mandalay for Fashion accessories products is $264.73\n"
     ]
    }
   ],
   "source": [
    "# Numpy\n",
    "product_line_np = df['Product line'].to_numpy()\n",
    "\n",
    "for product in df['Product line'].unique():\n",
    "    filter_arr = product_line_np == product\n",
    "    dummy_city_arr = city_np[filter_arr]\n",
    "    dummy_total_arr = total_np[filter_arr]\n",
    "    for city in df['City'].unique():\n",
    "        product_city_avg_ticket = dummy_total_arr[dummy_city_arr == city].mean()\n",
    "        print(f'The average ticket in {city} for {product} products is ${product_city_avg_ticket:.2f}')"
   ]
  },
  {
   "cell_type": "code",
   "execution_count": 108,
   "metadata": {},
   "outputs": [
    {
     "data": {
      "text/html": [
       "<div>\n",
       "<style scoped>\n",
       "    .dataframe tbody tr th:only-of-type {\n",
       "        vertical-align: middle;\n",
       "    }\n",
       "\n",
       "    .dataframe tbody tr th {\n",
       "        vertical-align: top;\n",
       "    }\n",
       "\n",
       "    .dataframe thead th {\n",
       "        text-align: right;\n",
       "    }\n",
       "</style>\n",
       "<table border=\"1\" class=\"dataframe\">\n",
       "  <thead>\n",
       "    <tr style=\"text-align: right;\">\n",
       "      <th></th>\n",
       "      <th>Total</th>\n",
       "    </tr>\n",
       "    <tr>\n",
       "      <th>Gender</th>\n",
       "      <th></th>\n",
       "    </tr>\n",
       "  </thead>\n",
       "  <tbody>\n",
       "    <tr>\n",
       "      <th>Female</th>\n",
       "      <td>335.10</td>\n",
       "    </tr>\n",
       "    <tr>\n",
       "      <th>Male</th>\n",
       "      <td>310.79</td>\n",
       "    </tr>\n",
       "  </tbody>\n",
       "</table>\n",
       "</div>"
      ],
      "text/plain": [
       "         Total\n",
       "Gender        \n",
       "Female  335.10\n",
       "Male    310.79"
      ]
     },
     "execution_count": 108,
     "metadata": {},
     "output_type": "execute_result"
    }
   ],
   "source": [
    "# 3.3 - Ticket promedio por género\n",
    "# Pandas\n",
    "df.pivot_table(index='Gender', values='Total', aggfunc='mean').round(2)"
   ]
  },
  {
   "cell_type": "code",
   "execution_count": 109,
   "metadata": {},
   "outputs": [
    {
     "name": "stdout",
     "output_type": "stream",
     "text": [
      "The average ticket from Female customers is $335.10\n",
      "The average ticket from Male customers is $310.79\n"
     ]
    }
   ],
   "source": [
    "# Numpy\n",
    "gender_np = df['Gender'].to_numpy()\n",
    "\n",
    "for gender in df.Gender.unique():\n",
    "    avg_ticket_gender = total_np[gender_np == gender].mean()\n",
    "    print(f'The average ticket from {gender} customers is ${avg_ticket_gender:.2f}')"
   ]
  },
  {
   "cell_type": "code",
   "execution_count": 110,
   "metadata": {},
   "outputs": [
    {
     "data": {
      "text/html": [
       "<div>\n",
       "<style scoped>\n",
       "    .dataframe tbody tr th:only-of-type {\n",
       "        vertical-align: middle;\n",
       "    }\n",
       "\n",
       "    .dataframe tbody tr th {\n",
       "        vertical-align: top;\n",
       "    }\n",
       "\n",
       "    .dataframe thead th {\n",
       "        text-align: right;\n",
       "    }\n",
       "</style>\n",
       "<table border=\"1\" class=\"dataframe\">\n",
       "  <thead>\n",
       "    <tr style=\"text-align: right;\">\n",
       "      <th></th>\n",
       "      <th></th>\n",
       "      <th>Total</th>\n",
       "    </tr>\n",
       "    <tr>\n",
       "      <th>Product line</th>\n",
       "      <th>Gender</th>\n",
       "      <th></th>\n",
       "    </tr>\n",
       "  </thead>\n",
       "  <tbody>\n",
       "    <tr>\n",
       "      <th rowspan=\"2\" valign=\"top\">Electronic accessories</th>\n",
       "      <th>Female</th>\n",
       "      <td>322.64</td>\n",
       "    </tr>\n",
       "    <tr>\n",
       "      <th>Male</th>\n",
       "      <td>316.69</td>\n",
       "    </tr>\n",
       "    <tr>\n",
       "      <th rowspan=\"2\" valign=\"top\">Fashion accessories</th>\n",
       "      <th>Female</th>\n",
       "      <td>317.06</td>\n",
       "    </tr>\n",
       "    <tr>\n",
       "      <th>Male</th>\n",
       "      <td>291.08</td>\n",
       "    </tr>\n",
       "    <tr>\n",
       "      <th rowspan=\"2\" valign=\"top\">Food and beverages</th>\n",
       "      <th>Female</th>\n",
       "      <td>368.57</td>\n",
       "    </tr>\n",
       "    <tr>\n",
       "      <th>Male</th>\n",
       "      <td>273.50</td>\n",
       "    </tr>\n",
       "    <tr>\n",
       "      <th rowspan=\"2\" valign=\"top\">Health and beauty</th>\n",
       "      <th>Female</th>\n",
       "      <td>290.02</td>\n",
       "    </tr>\n",
       "    <tr>\n",
       "      <th>Male</th>\n",
       "      <td>348.10</td>\n",
       "    </tr>\n",
       "    <tr>\n",
       "      <th rowspan=\"2\" valign=\"top\">Home and lifestyle</th>\n",
       "      <th>Female</th>\n",
       "      <td>380.21</td>\n",
       "    </tr>\n",
       "    <tr>\n",
       "      <th>Male</th>\n",
       "      <td>294.14</td>\n",
       "    </tr>\n",
       "    <tr>\n",
       "      <th rowspan=\"2\" valign=\"top\">Sports and travel</th>\n",
       "      <th>Female</th>\n",
       "      <td>324.71</td>\n",
       "    </tr>\n",
       "    <tr>\n",
       "      <th>Male</th>\n",
       "      <td>340.36</td>\n",
       "    </tr>\n",
       "  </tbody>\n",
       "</table>\n",
       "</div>"
      ],
      "text/plain": [
       "                                Total\n",
       "Product line           Gender        \n",
       "Electronic accessories Female  322.64\n",
       "                       Male    316.69\n",
       "Fashion accessories    Female  317.06\n",
       "                       Male    291.08\n",
       "Food and beverages     Female  368.57\n",
       "                       Male    273.50\n",
       "Health and beauty      Female  290.02\n",
       "                       Male    348.10\n",
       "Home and lifestyle     Female  380.21\n",
       "                       Male    294.14\n",
       "Sports and travel      Female  324.71\n",
       "                       Male    340.36"
      ]
     },
     "execution_count": 110,
     "metadata": {},
     "output_type": "execute_result"
    }
   ],
   "source": [
    "# 3.4 - Ticket promedio por género y linea de productos\n",
    "# Pandas \n",
    "df.pivot_table(index=['Product line', 'Gender'], values='Total', aggfunc='mean').round(2)"
   ]
  },
  {
   "cell_type": "code",
   "execution_count": 111,
   "metadata": {},
   "outputs": [
    {
     "name": "stdout",
     "output_type": "stream",
     "text": [
      "The average ticket from Female customers for Electronic accessories products is of $322.64\n",
      "The average ticket from Male customers for Electronic accessories products is of $316.69\n",
      "The average ticket from Female customers for Fashion accessories products is of $317.06\n",
      "The average ticket from Male customers for Fashion accessories products is of $291.08\n",
      "The average ticket from Female customers for Food and beverages products is of $368.57\n",
      "The average ticket from Male customers for Food and beverages products is of $273.50\n",
      "The average ticket from Female customers for Health and beauty products is of $290.02\n",
      "The average ticket from Male customers for Health and beauty products is of $348.10\n",
      "The average ticket from Female customers for Home and lifestyle products is of $380.21\n",
      "The average ticket from Male customers for Home and lifestyle products is of $294.14\n",
      "The average ticket from Female customers for Sports and travel products is of $324.71\n",
      "The average ticket from Male customers for Sports and travel products is of $340.36\n"
     ]
    }
   ],
   "source": [
    "# Numpy\n",
    "for product in np.unique(product_line_np):\n",
    "    filter_arr = product_line_np == product\n",
    "    dummy_gender_arr = gender_np[filter_arr]\n",
    "    dummy_total_arr = total_np[filter_arr]\n",
    "    for gender in np.unique(gender_np):\n",
    "        gender_product_avg_ticket = dummy_total_arr[dummy_gender_arr == gender].mean()\n",
    "        print(f'The average ticket from {gender} customers for {product} products is of ${gender_product_avg_ticket:.2f}')"
   ]
  },
  {
   "cell_type": "code",
   "execution_count": 139,
   "metadata": {},
   "outputs": [
    {
     "name": "stdout",
     "output_type": "stream",
     "text": [
      "The top 5 transactions in Mandalay had a total of:\n",
      "\t1. $1022.49 - 0.96% of the total sales in the city\n",
      "\t2. $1022.38 - 0.96% of the total sales in the city\n",
      "\t3. $944.62 - 0.89% of the total sales in the city\n",
      "\t4. $942.45 - 0.89% of the total sales in the city\n",
      "\t5. $922.63 - 0.87% of the total sales in the city\n",
      "The top 5 transactions in Naypyitaw had a total of:\n",
      "\t1. $1042.65 - 0.94% of the total sales in the city\n",
      "\t2. $1034.46 - 0.94% of the total sales in the city\n",
      "\t3. $1023.75 - 0.93% of the total sales in the city\n",
      "\t4. $1020.71 - 0.92% of the total sales in the city\n",
      "\t5. $1003.59 - 0.91% of the total sales in the city\n",
      "The top 5 transactions in Yangon had a total of:\n",
      "\t1. $1039.29 - 0.98% of the total sales in the city\n",
      "\t2. $951.83 - 0.90% of the total sales in the city\n",
      "\t3. $932.34 - 0.88% of the total sales in the city\n",
      "\t4. $931.03 - 0.88% of the total sales in the city\n",
      "\t5. $926.95 - 0.87% of the total sales in the city\n"
     ]
    }
   ],
   "source": [
    "# 4.1 - Top 5 ventas por ciudad (y % del total de ventas)\n",
    "for city in np.unique(city_np):\n",
    "    dummy_total_arr = total_np[city_np == city]\n",
    "    total_top = np.concatenate([dummy_total_arr])\n",
    "    total_top = np.sort(total_top)\n",
    "    total_top = total_top[::-1]\n",
    "    total_top_percent = (total_top / total_top.sum())*100\n",
    "        \n",
    "    print(f'The top 5 transactions in {city} had a total of:')\n",
    "    for i in range(5):\n",
    "        print(f'\\t{i+1}. ${total_top[i]:.2f} - {total_top_percent[i]:.2f}% of the total sales in the city')\n"
   ]
  },
  {
   "cell_type": "code",
   "execution_count": 140,
   "metadata": {},
   "outputs": [
    {
     "name": "stdout",
     "output_type": "stream",
     "text": [
      "The top 5 transactions for Member customers had a total of:\n",
      "\t1. $1042.65 - 0.63% of the total sales for that type of customers\n",
      "\t2. $1034.46 - 0.63% of the total sales for that type of customers\n",
      "\t3. $1020.71 - 0.62% of the total sales for that type of customers\n",
      "\t4. $951.83 - 0.58% of the total sales for that type of customers\n",
      "\t5. $950.25 - 0.58% of the total sales for that type of customers\n",
      "The top 5 transactions for Normal customers had a total of:\n",
      "\t1. $1039.29 - 0.65% of the total sales for that type of customers\n",
      "\t2. $1023.75 - 0.64% of the total sales for that type of customers\n",
      "\t3. $1022.49 - 0.64% of the total sales for that type of customers\n",
      "\t4. $1022.38 - 0.64% of the total sales for that type of customers\n",
      "\t5. $1003.59 - 0.63% of the total sales for that type of customers\n"
     ]
    }
   ],
   "source": [
    "# 4.2 - Top 5 de ventas por tipo de cliente\n",
    "customer_np = df['Customer type'].to_numpy()\n",
    "\n",
    "for customer in np.unique(customer_np):\n",
    "    dummy_total_arr = total_np[customer_np == customer]\n",
    "    total_top = np.concatenate([dummy_total_arr])\n",
    "    total_top = np.sort(total_top)\n",
    "    total_top = total_top[::-1]\n",
    "    total_top_percent = (total_top / total_top.sum())*100\n",
    "        \n",
    "    print(f'The top 5 transactions for {customer} customers had a total of:')\n",
    "    for i in range(5):\n",
    "        print(f'\\t{i+1}. ${total_top[i]:.2f} - {total_top_percent[i]:.2f}% of the total sales for that type of customers')"
   ]
  },
  {
   "cell_type": "code",
   "execution_count": 142,
   "metadata": {},
   "outputs": [
    {
     "name": "stdout",
     "output_type": "stream",
     "text": [
      "The top 5 transactions for Cash payments had a total of:\n",
      "\t1. $1003.59 - 0.89% of the total of payments done with this method\n",
      "\t2. $1002.12 - 0.89% of the total of payments done with this method\n",
      "\t3. $950.25 - 0.85% of the total of payments done with this method\n",
      "\t4. $943.30 - 0.84% of the total of payments done with this method\n",
      "\t5. $935.27 - 0.83% of the total of payments done with this method\n",
      "The top 5 transactions for Credit card payments had a total of:\n",
      "\t1. $1042.65 - 1.03% of the total of payments done with this method\n",
      "\t2. $1039.29 - 1.03% of the total of payments done with this method\n",
      "\t3. $1022.38 - 1.01% of the total of payments done with this method\n",
      "\t4. $1020.71 - 1.01% of the total of payments done with this method\n",
      "\t5. $944.62 - 0.94% of the total of payments done with this method\n",
      "The top 5 transactions for Ewallet payments had a total of:\n",
      "\t1. $1034.46 - 0.94% of the total of payments done with this method\n",
      "\t2. $1023.75 - 0.93% of the total of payments done with this method\n",
      "\t3. $1022.49 - 0.93% of the total of payments done with this method\n",
      "\t4. $951.83 - 0.87% of the total of payments done with this method\n",
      "\t5. $937.82 - 0.85% of the total of payments done with this method\n"
     ]
    }
   ],
   "source": [
    "# 4.3 - Top 5 de ventas por método de pago\n",
    "payment_np = df['Payment'].to_numpy()\n",
    "\n",
    "for payment in np.unique(payment_np):\n",
    "    dummy_total_arr = total_np[payment_np == payment]\n",
    "    total_top = np.concatenate([dummy_total_arr])\n",
    "    total_top = np.sort(total_top)\n",
    "    total_top = total_top[::-1]\n",
    "    total_top_percent = (total_top / total_top.sum())*100\n",
    "    \n",
    "    print(f'The top 5 transactions for {payment} payments had a total of:')\n",
    "    for i in range(5):\n",
    "        print(f'\\t{i+1}. ${total_top[i]:.2f} - {total_top_percent[i]:.2f}% of the total of payments done with this method')"
   ]
  },
  {
   "cell_type": "code",
   "execution_count": 117,
   "metadata": {},
   "outputs": [
    {
     "data": {
      "text/plain": [
       "Text(0.5, 1.0, 'Mapa de Calor de Triángulo de Correlación')"
      ]
     },
     "execution_count": 117,
     "metadata": {},
     "output_type": "execute_result"
    },
    {
     "data": {
      "image/png": "[encoded data removed]",
      "text/plain": [
       "<Figure size 640x480 with 2 Axes>"
      ]
     },
     "metadata": {},
     "output_type": "display_data"
    }
   ],
   "source": [
    "# 5.1 - Matriz de correlación entre la hora y el total\n",
    "df['Purchase hour'] = pd.to_datetime(df['Time']).dt.hour\n",
    "df['Purchase hour'] = pd.to_numeric(df['Purchase hour'])\n",
    "\n",
    "mask = np.triu(np.ones_like(df.corr(numeric_only=True), dtype=bool))\n",
    "heatmap = sns.heatmap(df.corr(numeric_only=True), annot=True, cmap='BrBG', mask=mask)\n",
    "heatmap.set_title('Mapa de Calor de Triángulo de Correlación')"
   ]
  },
  {
   "cell_type": "code",
   "execution_count": 124,
   "metadata": {},
   "outputs": [
    {
     "name": "stdout",
     "output_type": "stream",
     "text": [
      "El factor de correlación entre la hora de compra y el total de la compra es de -0.0028\n"
     ]
    },
    {
     "data": {
      "text/plain": [
       "<AxesSubplot: >"
      ]
     },
     "execution_count": 124,
     "metadata": {},
     "output_type": "execute_result"
    },
    {
     "data": {
      "image/png": "[encoded data removed]",
      "text/plain": [
       "<Figure size 640x480 with 1 Axes>"
      ]
     },
     "metadata": {},
     "output_type": "display_data"
    }
   ],
   "source": [
    "hour_np = df['Purchase hour'].to_numpy()\n",
    "corr = np.corrcoef(hour_np, total_np)\n",
    "print(f'El factor de correlación entre la hora de compra y el total de la compra es de {corr[1,0]:.4f}')\n",
    "sns.scatterplot(x=hour_np, y=total_np)"
   ]
  },
  {
   "cell_type": "code",
   "execution_count": 125,
   "metadata": {},
   "outputs": [
    {
     "name": "stdout",
     "output_type": "stream",
     "text": [
      "El factor de correlación entre el precio unitario y el rating de la transacción es de -0.0088\n"
     ]
    },
    {
     "data": {
      "text/plain": [
       "<AxesSubplot: >"
      ]
     },
     "execution_count": 125,
     "metadata": {},
     "output_type": "execute_result"
    },
    {
     "data": {
      "image/png": "[encoded data removed]",
      "text/plain": [
       "<Figure size 640x480 with 1 Axes>"
      ]
     },
     "metadata": {},
     "output_type": "display_data"
    }
   ],
   "source": [
    "# 4.2 Correlación entre el precio unitario y el rating de la transacción\n",
    "rating_np = df['Rating'].to_numpy()\n",
    "corr = np.corrcoef(rating_np, unit_price_np)\n",
    "print(f'El factor de correlación entre el precio unitario y el rating de la transacción es de {corr[1,0]:.4f}')\n",
    "sns.scatterplot(x=unit_price_np, y=rating_np)"
   ]
  },
  {
   "attachments": {},
   "cell_type": "markdown",
   "metadata": {},
   "source": [
    "## Insights 2:\n",
    "- No existe correlación alguna entre la hora de compra y el total de la compra\n",
    "- No existe correlación alguna entre el precio unitario del artículo y el rating de la compra por lo que lo artículos con precio unitario más alto no necesariamente dejan una mejor ganancia"
   ]
  }
 ],
 "metadata": {
  "kernelspec": {
   "display_name": "Python 3",
   "language": "python",
   "name": "python3"
  },
  "language_info": {
   "codemirror_mode": {
    "name": "ipython",
    "version": 3
   },
   "file_extension": ".py",
   "mimetype": "text/x-python",
   "name": "python",
   "nbconvert_exporter": "python",
   "pygments_lexer": "ipython3",
   "version": "3.11.1"
  },
  "orig_nbformat": 4,
  "vscode": {
   "interpreter": {
    "hash": "56bda0149d934c357f91de85380f42b6e2d7faff17c98db7ea941f35d35a9cda"
   }
  }
 },
 "nbformat": 4,
 "nbformat_minor": 2
}
