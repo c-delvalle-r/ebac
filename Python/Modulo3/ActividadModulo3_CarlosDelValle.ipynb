{
 "cells": [
  {
   "cell_type": "markdown",
   "metadata": {},
   "source": [
    "### Actividad Módulo 3\n",
    "Carlos Del Valle"
   ]
  },
  {
   "cell_type": "markdown",
   "metadata": {},
   "source": [
    "1) Escribe un código en Python que solicite al usuario dos valores: el número de horas laboradas por un trabajador en una semana y su tarifa de pago por hora\n",
    "\n",
    "2) El programa deberá calcular el total a pagar al trabajador de acuerdo a las siguientes reglas:\n",
    "\n",
    "    a) Si el número de horas trabajadas es menor o igual a 40 el monto a pagar es el número de horas multiplicado por su tarifa de pago por hora.\n",
    "\n",
    "    b) Si el número de horas trabajadas es mayor a 40 pero menor o igual a 50, el monto a pagar es el mismo que en el inciso a) más la diferencia en horas por arriba de 40 a una tasa por hora 10% más alta de la tarifa básica\n",
    "    \n",
    "    c) Si el número de horas trabajadas es mayor a 50, el monto a pagar es el mismo que en el inciso b) más la diferencia en horas por arriba de 50 a una tasa por hora 20% más alta de la tarifa básica.\n",
    "    \n",
    "    d) En caso de que alguno de los valores capturados inicialmente (número de horas trabajadas por semana o tarifa de pago por hora) sea errónea (ya sea debido a la captura de valores negativos o de texto), deberá imprimirse un mensaje que diga “Parámetros incorrectos”.\n",
    "\n",
    "\n",
    "### Problemas a resolver con el programa:\n",
    "\n",
    "    Caso 1:\n",
    "        Número de horas trabajadas: 35\n",
    "        Tarifa por hora: 10\n",
    "\n",
    "    Caso 2:\n",
    "        Número de horas trabajadas: 47\n",
    "        Tarifa por hora: 8\n",
    "        \n",
    "    Caso 3:\n",
    "        Número de horas trabajadas: 65\n",
    "        Tarifa por hora: 15"
   ]
  },
  {
   "cell_type": "code",
   "execution_count": 2,
   "metadata": {},
   "outputs": [
    {
     "name": "stdout",
     "output_type": "stream",
     "text": [
      "Con 35.0 horas de trabajo a una tarifa de $10.0, el total a pagar es de $350.0\n",
      "Con 47.0 horas de trabajo a una tarifa de $8.0, el total a pagar es de $381.6\n",
      "Con 65.0 horas de trabajo a una tarifa de $15.0, el total a pagar es de $1035.0\n"
     ]
    }
   ],
   "source": [
    "# Correr ejercicio en un loop para tener todas las respuestas en el mismo output\n",
    "for i in range(3):\n",
    "    # Pedir los valores para horas laboradas y tarifa por hora de pago del trabajador\n",
    "    horas_cadena = input('Escribe el número de horas que trabajó en la semana el trabajador (número positivo): ')\n",
    "    tarifa_cadena = input('Escribe la tarifa por hora del trabajador (número positivo): ')\n",
    "\n",
    "    # Validar cadenas que el usuario dió como input\n",
    "    try:\n",
    "        horas = float(horas_cadena)\n",
    "        tarifa = float(tarifa_cadena)\n",
    "    except:\n",
    "        horas = tarifa = -1\n",
    "\n",
    "    if horas < 0 or tarifa < 0:\n",
    "        print('Parámetros incorrectos')\n",
    "    else:\n",
    "\n",
    "        # Calcular total a pagar al trabajador:\n",
    "        total = min([horas, 40]) * tarifa\n",
    "        if horas > 40:\n",
    "            total += min([horas-40,10]) * (tarifa*1.1)\n",
    "        if horas > 50:\n",
    "            total += (horas-50) * (tarifa*1.2)\n",
    "\n",
    "        #Imprimir resultado\n",
    "        print (f'Con {horas} horas de trabajo a una tarifa de ${tarifa}, el total a pagar es de ${total}')\n",
    "\n",
    "        "
   ]
  }
 ],
 "metadata": {
  "kernelspec": {
   "display_name": "py",
   "language": "python",
   "name": "myenv"
  },
  "language_info": {
   "codemirror_mode": {
    "name": "ipython",
    "version": 3
   },
   "file_extension": ".py",
   "mimetype": "text/x-python",
   "name": "python",
   "nbconvert_exporter": "python",
   "pygments_lexer": "ipython3",
   "version": "3.10.4"
  },
  "vscode": {
   "interpreter": {
    "hash": "427b8541cfc07e6fbe7ab4a5298567b1b3022ff2b70fdb07d029f33f0434686a"
   }
  }
 },
 "nbformat": 4,
 "nbformat_minor": 2
}
