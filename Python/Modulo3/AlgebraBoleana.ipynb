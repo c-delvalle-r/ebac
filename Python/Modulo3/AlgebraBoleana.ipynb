{
 "cells": [
  {
   "cell_type": "markdown",
   "metadata": {},
   "source": [
    "# Operaciones lógicas"
   ]
  },
  {
   "cell_type": "code",
   "execution_count": 1,
   "metadata": {},
   "outputs": [
    {
     "name": "stdout",
     "output_type": "stream",
     "text": [
      "True\n",
      "True\n",
      "True\n",
      "True\n",
      "True\n"
     ]
    }
   ],
   "source": [
    "print(4==4)         # Tambien se usa la palabra reservada \"is\" para revisar una igualdad\n",
    "print(3<4)\n",
    "print(4<=4)\n",
    "print(5>4)\n",
    "print(\"Vargas\"!=\"La\")"
   ]
  },
  {
   "cell_type": "markdown",
   "metadata": {},
   "source": [
    "# Tablas de verdad\n",
    "\n",
    "|Operador de confusión | Descripción   | Prioridad|\n",
    "|---------|---------------|----|\n",
    "|and      |Regresa True solamente si todos los argumentos evaluan a True|Segundo|\n",
    "|or       |Regresa True cuando por lo menos uno de los argumentos evalua a True|Tercero|\n",
    "|not      |Regresa lo contrario a lo que haya evaluado el argumento|Primero|\n"
   ]
  },
  {
   "cell_type": "code",
   "execution_count": 6,
   "metadata": {},
   "outputs": [
    {
     "data": {
      "text/plain": [
       "False"
      ]
     },
     "execution_count": 6,
     "metadata": {},
     "output_type": "execute_result"
    }
   ],
   "source": [
    "not 5==5 and 4==5 or 3==2 #Es lo mismo que \n",
    "(not(5==5) and 4==5) or 3==2"
   ]
  },
  {
   "cell_type": "code",
   "execution_count": 7,
   "metadata": {},
   "outputs": [
    {
     "name": "stderr",
     "output_type": "stream",
     "text": [
      "<>:1: SyntaxWarning: \"is\" with a literal. Did you mean \"==\"?\n",
      "<>:1: SyntaxWarning: \"is\" with a literal. Did you mean \"==\"?\n",
      "C:\\Users\\CARLOS~1\\AppData\\Local\\Temp/ipykernel_18612/1783323536.py:1: SyntaxWarning: \"is\" with a literal. Did you mean \"==\"?\n",
      "  5 is 5\n"
     ]
    },
    {
     "data": {
      "text/plain": [
       "True"
      ]
     },
     "execution_count": 7,
     "metadata": {},
     "output_type": "execute_result"
    }
   ],
   "source": [
    "5 is 5"
   ]
  },
  {
   "cell_type": "markdown",
   "metadata": {},
   "source": [
    "# Manejo de Condicionales if, else, elif"
   ]
  },
  {
   "cell_type": "code",
   "execution_count": 3,
   "metadata": {},
   "outputs": [
    {
     "name": "stdout",
     "output_type": "stream",
     "text": [
      "\"fo\" is in foo\n"
     ]
    }
   ],
   "source": [
    "# Tambien se puede revisar si un string esta dentro de otro string\n",
    "\n",
    "if 'fo' in 'foo':\n",
    "    print('\"fo\" is in foo')"
   ]
  },
  {
   "cell_type": "markdown",
   "metadata": {},
   "source": [
    "# Otros casos para escribir if"
   ]
  },
  {
   "cell_type": "code",
   "execution_count": 5,
   "metadata": {},
   "outputs": [
    {
     "name": "stdout",
     "output_type": "stream",
     "text": [
      "10\n",
      "a menor que b\n"
     ]
    }
   ],
   "source": [
    "a = 10\n",
    "b = 15\n",
    "\n",
    "print(a) if a < b else print (b)        # primero dice lo que se hace si la siguiente condicion es verdadero, desdpues el else y lo que se hace si la condicion no es verdadera\n",
    "# se puede hacer en una sola linea muchas condiciones:\n",
    "print('a igual a b') if a == b else print('a menor que b') if a < b  else print ('a mayor que b')"
   ]
  },
  {
   "cell_type": "code",
   "execution_count": 3,
   "metadata": {},
   "outputs": [],
   "source": [
    "if a < b:\n",
    "    pass            # con pass lo que se hace es que en caso de que la condición se cumpla, no se corre ningún bloque de código\n",
    "else:\n",
    "    print ('Vargas')"
   ]
  },
  {
   "cell_type": "markdown",
   "metadata": {},
   "source": [
    "### try-except\n",
    "\n",
    "Le dices que intente correr un bloque de codigo, si arroja un error, corre el bloque de codigo bajo el except"
   ]
  },
  {
   "cell_type": "code",
   "execution_count": 8,
   "metadata": {},
   "outputs": [
    {
     "name": "stdout",
     "output_type": "stream",
     "text": [
      "Valor incorrecto, \"vargas\" no es un número\n"
     ]
    }
   ],
   "source": [
    "cadena = input('Dame un número: ')\n",
    "try:\n",
    "    float(cadena)\n",
    "except:\n",
    "    print(f'Valor incorrecto, \"{cadena}\" no es un número')"
   ]
  },
  {
   "cell_type": "markdown",
   "metadata": {},
   "source": [
    "# Usos avanzados de if"
   ]
  },
  {
   "cell_type": "code",
   "execution_count": 11,
   "metadata": {},
   "outputs": [
    {
     "name": "stdout",
     "output_type": "stream",
     "text": [
      "Vamos a la playa\n"
     ]
    }
   ],
   "source": [
    "# ifs dentro de un print\n",
    "lluvia = False\n",
    "print('Vamos a', 'la playa' if not lluvia else 'la biblioteca')"
   ]
  },
  {
   "cell_type": "code",
   "execution_count": 14,
   "metadata": {},
   "outputs": [
    {
     "data": {
      "text/plain": [
       "42"
      ]
     },
     "execution_count": 14,
     "metadata": {},
     "output_type": "execute_result"
    }
   ],
   "source": [
    "# if para asignar el valor a una variabla\n",
    "x = y = 40 #tanto x como y se les asigna el valor de 40\n",
    "z = x + 1 if x < y else y + 2\n",
    "z"
   ]
  },
  {
   "cell_type": "code",
   "execution_count": 15,
   "metadata": {},
   "outputs": [],
   "source": [
    "# Caminos múltiples\n",
    "x = 3\n",
    "s = ('abc' if (x==1) else\n",
    "    'def' if (x==2) else \n",
    "    'ghi' if (x==3) else\n",
    "    'mno')"
   ]
  }
 ],
 "metadata": {
  "kernelspec": {
   "display_name": "Python 3.10.0 64-bit",
   "language": "python",
   "name": "python3"
  },
  "language_info": {
   "codemirror_mode": {
    "name": "ipython",
    "version": 3
   },
   "file_extension": ".py",
   "mimetype": "text/x-python",
   "name": "python",
   "nbconvert_exporter": "python",
   "pygments_lexer": "ipython3",
   "version": "3.10.0"
  },
  "orig_nbformat": 4,
  "vscode": {
   "interpreter": {
    "hash": "6037bd2d30708e017a51e55f8b5e171bfa5b535cee312ced134e6013b304e57c"
   }
  }
 },
 "nbformat": 4,
 "nbformat_minor": 2
}
