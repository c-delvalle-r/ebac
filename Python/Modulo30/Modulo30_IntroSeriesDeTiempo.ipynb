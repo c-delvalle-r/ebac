{
 "cells": [
  {
   "cell_type": "markdown",
   "metadata": {},
   "source": [
    "# Módulo 30: Intruducción a las Series de Tiempo: Parte 1\n",
    "- Una serie de tiempo es un conjunto de puntos ordenados con relación al tiempo\n",
    "- Los putnos de datos están ordenados en unidades equidistantes de tiempo\n",
    "- Las series de tiempo se visualizan con una gráfica llamada serie de tiempo (gráfico de lineas con el eje x siendo el tiempo transcurrido)\n",
    "- Aplicaciones: finanzas, agricultura, econometría, predicción de clima, control de procesos, procesamiento de señales, etc.\n",
    "- Componentes de una serie de tiempo:\n",
    "    - Tendencia: Componente de base que indica si la serie es ascendente o descendente. Es un componente de largo plazo, menos abrupto en su movimiento\n",
    "    - Estacionalidad: Ciclos repetitivos en la serie, identificados por patrones en su comportamiento. Por ejemplo ventas altas en mayo y bajas en diciembre\n",
    "    - Componente Cíclico: Es la parte de la serie de tiempo que puede ser explicada por movimientos cíclicos en otras variables de base (sistémicas), como la economía\n",
    "    - Ruido: Variación aleatoria en la serie de tiempo. No puede ser explicada por movimientos de base o patrones\n",
    "- Otros componentes que se usan para modelos de ML de series de tiempo (predicciones):\n",
    "    - Residuo: Usado en procesos de fit de series de tiempo, el resifuo es lo que queda al final del proceso. Es la diferencia entre la predicción y lo observado\n",
    "    - Nivel: El valor promedio de una serie de tiempo\n"
   ]
  }
 ],
 "metadata": {
  "language_info": {
   "name": "python"
  },
  "orig_nbformat": 4
 },
 "nbformat": 4,
 "nbformat_minor": 2
}
