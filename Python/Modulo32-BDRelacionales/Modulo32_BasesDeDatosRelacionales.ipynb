{
 "cells": [
  {
   "cell_type": "markdown",
   "metadata": {},
   "source": [
    "# Modulo 32: Bases de Datos Relacionales (RDBMS - Relational Data Base Management System)\n",
    "## ¿Qué es una base de datos relacionales?\n",
    "- Una representación de entidades de un modelo a través de tablas y relaciones entre ellas. A este modelo también se lo llama Entidad-Relación\n",
    "- El primer paso para modelar una base de datos de este tipo es pensar en las Entidades a alto nivel: Cleintes, Transacciones, Cuentas, etc.\n",
    "- Un motor de base de datos es el encargado de manejar las entidades y relaciones\n",
    "\n",
    "## Relaciones\n",
    "- Las relaciones entre las entidades siempre se acompañan con su cardinalidad 1:1, 1:n, 0:n, 1:3 (en caso de que limites a tres)\n",
    "- También existen entidades que no se conectan a otras\n",
    "- Se usa una mínima redundancia de datosp ara establecer las relaciones entre las entidades, entre PKs (Primary Keys) y FKs (Foreign Keys)\n",
    "\n",
    "## Tablas\n",
    "- Cada Tabla tiene una serie de campos o columnas con nombres únicos\n",
    "- Cada Columna debe tener un tipo de información\n",
    "- Cada uno de los registros de las tablas de las Entidades tiene que tener un identificador único (**Clave Primaria**)\n",
    "- Cada tabla deja su clave primaria en ottra tabla para poder relacionarla, en esas tablas se convierten en claves foráneas\n",
    "- La redundancia y relacionamiento de esta manera es una particularidad del modelo relacional\n",
    "\n",
    "## Terminología\n",
    "- Entidad --- Algo de interés para la base de datos\n",
    "- Columna --- Un campo en la entidad que guarda información de interés para la entidad\n",
    "- Fila --- Un conjunto de columnas de una tabla que describe completamente una entidad o una acción de la misma (registro)\n",
    "- Tabla --- Un conjunto de filas\n",
    "- Resultado --- Un subconjunto de valores de entidades correspondiente a un query SQL\n",
    "- Clave Primaria --- Una o más columnas usadas para identificar cada fila en una tabla\n",
    "- Clave Foránea --- Una o más columnas que pueden ser usadas juntas para identificar una fila en una tabla externa\n",
    "\n",
    "\n"
   ]
  }
 ],
 "metadata": {
  "language_info": {
   "name": "python"
  }
 },
 "nbformat": 4,
 "nbformat_minor": 2
}
