{
 "cells": [
  {
   "cell_type": "markdown",
   "metadata": {},
   "source": [
    "## Ejercicio 1\n",
    "Desarrolle un programa que mediante el uso de un ciclo \"while\" determine el número de veces que un número entero n (proporcionado por el usuario) es divisible entre 2. "
   ]
  },
  {
   "cell_type": "code",
   "execution_count": 10,
   "metadata": {},
   "outputs": [
    {
     "name": "stdout",
     "output_type": "stream",
     "text": [
      "El número 8 es divisible entre dos 3 veces\n"
     ]
    }
   ],
   "source": [
    "# Try para validar el input\n",
    "try:\n",
    "    num = int(input('Proporciona un número entero'))\n",
    "    # Num origial para guardar la variable de entrada original para el print del final\n",
    "    num_original = num\n",
    "\n",
    "    # Contador para mantener registro de las veces que el número puede ser divisible entre 2\n",
    "    contador = 0\n",
    "\n",
    "    # While loop; si el número ya no es divisible entre 2, el residuo dará algo diferente a 0, ahi saldrá del loop\n",
    "    while num//2 != 0:\n",
    "        contador += 1\n",
    "        num /= 2\n",
    "\n",
    "    print(f'El número {num_original} es divisible entre dos {contador} veces')\n",
    "\n",
    "except:\n",
    "    print('Error de captura')\n"
   ]
  },
  {
   "cell_type": "markdown",
   "metadata": {},
   "source": [
    "## Ejercicio 2\n",
    "Desarrolle un programa que mediante el uso de ciclos calcule el factorial del número que indique el usuario. En caso de que el valor proporcionado sea inválido, deberá devolver un mensaje de \"Error de caputura\""
   ]
  },
  {
   "cell_type": "code",
   "execution_count": 16,
   "metadata": {},
   "outputs": [
    {
     "name": "stdout",
     "output_type": "stream",
     "text": [
      "El factorial del número 4 es 24\n"
     ]
    }
   ],
   "source": [
    "# Obtener input y validar que sea un número\n",
    "try:\n",
    "    num = float(input('Escribe un número entero positivo: '))\n",
    "except:\n",
    "    num = -1\n",
    "\n",
    "# Inicializar la variable donde se va a guardar el número factorial y el dummy para guardar la varialbe de entrada original\n",
    "factorial = 1\n",
    "num_original = num\n",
    "\n",
    "# Validar que el input sea un número válido (que sea positivo y que no tenga decimales)\n",
    "if num >= 0 and num.is_integer:\n",
    "    # Ciclo while que itera desde el número dado hasta cero multiplicando el factorial actual por el contador en el que va la iteración\n",
    "    while num > 0:\n",
    "        factorial *= num\n",
    "        num -= 1\n",
    "    print(f'El factorial del número {int(num_original)} es {int(factorial)}')\n",
    "else:\n",
    "    print('Error de captura')\n"
   ]
  }
 ],
 "metadata": {
  "kernelspec": {
   "display_name": "Python 3.10.4 ('py')",
   "language": "python",
   "name": "python3"
  },
  "language_info": {
   "codemirror_mode": {
    "name": "ipython",
    "version": 3
   },
   "file_extension": ".py",
   "mimetype": "text/x-python",
   "name": "python",
   "nbconvert_exporter": "python",
   "pygments_lexer": "ipython3",
   "version": "3.10.4"
  },
  "orig_nbformat": 4,
  "vscode": {
   "interpreter": {
    "hash": "5658e072d19a425ca9e6764fa85c0d23f211eb7b160e028d224862d13390dc19"
   }
  }
 },
 "nbformat": 4,
 "nbformat_minor": 2
}
