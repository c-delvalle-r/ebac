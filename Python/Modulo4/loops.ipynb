{
 "cells": [
  {
   "cell_type": "markdown",
   "metadata": {},
   "source": [
    "# Ciclos While\n",
    "\n",
    "El bloque de código puesto dentro del ciclo de while se seguirá corriendo mientras la condición establecida en el statement while **sea cierta**. Cuidado porque si siempre es cierta la condición, el programa seguirá corriendo y se tendrá que interrumpir el kernel"
   ]
  },
  {
   "cell_type": "code",
   "execution_count": 1,
   "metadata": {},
   "outputs": [
    {
     "name": "stdout",
     "output_type": "stream",
     "text": [
      "5\n",
      "4\n",
      "3\n",
      "2\n",
      "1\n"
     ]
    }
   ],
   "source": [
    "x=5\n",
    "while (x>0):\n",
    "    print(x)\n",
    "    x-=1"
   ]
  },
  {
   "cell_type": "markdown",
   "metadata": {},
   "source": [
    "## Comandos break y continue\n",
    "\n",
    "break(): Te saca del ciclo for / while\n",
    "\n",
    "continue(): Termina la iteración del ciclo y continúa con la siguiente iteración (no te saca del ciclo, solamente la iteración en curso)"
   ]
  },
  {
   "cell_type": "code",
   "execution_count": 2,
   "metadata": {},
   "outputs": [
    {
     "name": "stdout",
     "output_type": "stream",
     "text": [
      "Vargas la come\n",
      "Vargas la super come\n",
      "Fi\n"
     ]
    }
   ],
   "source": [
    "while(True):\n",
    "    texto = input('Escribe un texto: ')\n",
    "    if texto == \"Fin\":\n",
    "        break\n",
    "    print(texto)"
   ]
  },
  {
   "cell_type": "markdown",
   "metadata": {},
   "source": [
    "Otros usos:\n",
    "\n",
    "while (lista): - evaluará como true siempre que la lista tenga por lo meno algún elemento"
   ]
  },
  {
   "cell_type": "markdown",
   "metadata": {},
   "source": [
    "## Ejercicios"
   ]
  },
  {
   "cell_type": "markdown",
   "metadata": {},
   "source": [
    "Determinar la suma de los primeros n números naturales. n debe ser un número proporcionado por el usuario"
   ]
  },
  {
   "cell_type": "code",
   "execution_count": 2,
   "metadata": {},
   "outputs": [
    {
     "name": "stdout",
     "output_type": "stream",
     "text": [
      "La suma de los primeros 3 números naturales es 6\n"
     ]
    }
   ],
   "source": [
    "# Inicializar las variables a usar\n",
    "n = ''\n",
    "suma = 0\n",
    "\n",
    "# Ciclo para preguntar por el valor de n hasta que se escriba un valor numérico\n",
    "while not(n.isnumeric()):\n",
    "    n = input('Escribe un número: ')\n",
    "\n",
    "    # Revisar que n sea un valor numérico\n",
    "    try:\n",
    "        # La variable dummy como contenedor para el cambio de valor de n y guardar n original para el print\n",
    "        n_dummy = int(n)\n",
    "        \n",
    "        # Crear la suma a partir de n_dummy contando hacia abajo hasta cero\n",
    "        while n_dummy>0:\n",
    "            suma += n_dummy\n",
    "            n_dummy -= 1\n",
    "\n",
    "        # Imprimir el valor de la suma\n",
    "        print(f'La suma de los primeros {n} números naturales es {suma}')\n",
    "\n",
    "    except:\n",
    "        print(f'{n} no es un valor numérico')\n",
    "    \n",
    "    \n",
    "\n"
   ]
  },
  {
   "cell_type": "markdown",
   "metadata": {},
   "source": [
    "Para el conjunto de números de 1 al 9, determinar mediante un while loop qué elementos son pares y qué elementos son impares"
   ]
  },
  {
   "cell_type": "code",
   "execution_count": 7,
   "metadata": {},
   "outputs": [
    {
     "name": "stdout",
     "output_type": "stream",
     "text": [
      "Los elementos impares son: 5\n",
      "Los elementos pares son: 4\n"
     ]
    }
   ],
   "source": [
    "# Crear lista de números del 1 al 9\n",
    "lista = list(range(1,10))\n",
    "\n",
    "# Crear contador de números pares s impares\n",
    "pares = 0\n",
    "impares = 0\n",
    "\n",
    "# Ciclo While: mientras haya elementos en la lista, iterar\n",
    "while lista:\n",
    "    # Obtener el último elemento de la lista y eliminarlo\n",
    "    elemento = lista.pop()\n",
    "    # Evaluar si l número es par o no y aumentar el contador correspondiente\n",
    "    if elemento%2 == 0:\n",
    "        pares += 1\n",
    "    else:\n",
    "        impares += 1\n",
    "\n",
    "# Imprimir resultados\n",
    "print(f'Los elementos impares son: {impares}')\n",
    "print(f'Los elementos pares son: {pares}')"
   ]
  },
  {
   "cell_type": "markdown",
   "metadata": {},
   "source": [
    "Desarrolla un programa en python que que encuentre los números de la secuencia de Fibbonacci entre el número 0 y 50"
   ]
  },
  {
   "cell_type": "code",
   "execution_count": 10,
   "metadata": {},
   "outputs": [
    {
     "data": {
      "text/plain": [
       "[0, 1, 1, 2, 3, 5, 8, 13, 21, 34]"
      ]
     },
     "execution_count": 10,
     "metadata": {},
     "output_type": "execute_result"
    }
   ],
   "source": [
    "# Inicializar variables: lista de números de la serie de fibonacci con los primeros dos números 1 y 1 y el límite hasta el cual queremos evaluar\n",
    "fib = [0,1]\n",
    "fin = 50\n",
    "\n",
    "# Iniciar un contador para saber en donde va la iteración\n",
    "contador = 0\n",
    "\n",
    "# Iniciar while loop: mientras el contador sea menor que el limite al cual queremos evaluar, seguir iterando\n",
    "while contador <= fin:\n",
    "    # Evaluar si el número del contador corresponde al siguiente número de la serie de fibonacci (que sea igual a la suma de los últimos dos números)\n",
    "    if contador == fib[-1] + fib[-2]:\n",
    "        fib.append(contador)\n",
    "    \n",
    "    contador += 1\n",
    "\n",
    "# Imprimir la serie completa de números\n",
    "fib"
   ]
  },
  {
   "cell_type": "code",
   "execution_count": 12,
   "metadata": {},
   "outputs": [
    {
     "name": "stdout",
     "output_type": "stream",
     "text": [
      "1\n",
      "1\n",
      "2\n",
      "3\n",
      "5\n",
      "8\n",
      "13\n",
      "21\n",
      "34\n"
     ]
    }
   ],
   "source": [
    "# Guardar valores pr\n",
    "x, y = 0, 1\n",
    "\n",
    "print(y)\n",
    "\n",
    "while x + y < 50:\n",
    "    # Recorrer par de valores\n",
    "    x, y = y, x + y\n",
    "    print(y)"
   ]
  },
  {
   "cell_type": "markdown",
   "metadata": {},
   "source": [
    "# For Loops\n",
    "\n",
    "Para acciones a realizar sobre un objeto iterable, es decir un número de veces determiando por algo más, puede ser un rango que solamente genera una serie de números, listas, tuplas, diccionarios, etc.\n",
    "\n",
    "También se puede usar tanto la instrucción break como continue.\n",
    "\n",
    "También se puede poner un \"else:\" al final del ciclo. Ese bloque de código se corre desupués de haber corrido la última iteración del loop. Si se hace un break, el else no se correrá."
   ]
  },
  {
   "cell_type": "markdown",
   "metadata": {},
   "source": [
    "### Ejercicios"
   ]
  },
  {
   "cell_type": "markdown",
   "metadata": {},
   "source": [
    "Determinar mediante un ciclo for el número más grande en la lista dada"
   ]
  },
  {
   "cell_type": "code",
   "execution_count": 4,
   "metadata": {},
   "outputs": [
    {
     "name": "stdout",
     "output_type": "stream",
     "text": [
      "El número más grande de la lista es 74\n"
     ]
    }
   ],
   "source": [
    "# Definir lista y una variable donde se estará guardando el número más grande que se haya encontrado\n",
    "lista = [9,41,12,3,74,15]\n",
    "max = -1000\n",
    "\n",
    "# Hacer for loop para recorrer toda la lista y mantener el número más grande\n",
    "for num in lista:\n",
    "    if num > max:\n",
    "        max = num\n",
    "\n",
    "print(f'El número más grande de la lista es {max}')"
   ]
  },
  {
   "cell_type": "markdown",
   "metadata": {},
   "source": [
    "Desarrolle un programa quye sea capaz de consultar la calificación de un estudiante que el usuario determine"
   ]
  },
  {
   "cell_type": "code",
   "execution_count": 12,
   "metadata": {},
   "outputs": [
    {
     "name": "stdout",
     "output_type": "stream",
     "text": [
      "La calificación de Jose fue 85\n"
     ]
    }
   ],
   "source": [
    "calificaciones = {'Jose': 85,\n",
    "                'Ángela' : 92,\n",
    "                'Miguel' : 75,\n",
    "                'Ana': 98}\n",
    "\n",
    "nombre_consultado = input('Escribe el nombre del estudiante del cual quieres conocer la calificación: ')\n",
    "\n",
    "for nombre in calificaciones:\n",
    "    if nombre == nombre_consultado:\n",
    "        print(f'La calificación de {nombre} fue {calificaciones[nombre]}')\n",
    "        break\n",
    "else: \n",
    "    print(f'{nombre_consultado} no se encuentra en la base de datos')"
   ]
  },
  {
   "cell_type": "markdown",
   "metadata": {},
   "source": [
    "Escriba un código que permita escribir tantas tablas de multiplicar como desee el usuario"
   ]
  },
  {
   "cell_type": "code",
   "execution_count": 17,
   "metadata": {},
   "outputs": [
    {
     "name": "stdout",
     "output_type": "stream",
     "text": [
      "Número de tablas a cálcular: 3\n",
      "Tabla de multiplicar del 1\n",
      "1 2 3 4 5 6 7 8 9 10 \n",
      "\n",
      "Tabla de multiplicar del 2\n",
      "2 4 6 8 10 12 14 16 18 20 \n",
      "\n",
      "Tabla de multiplicar del 3\n",
      "3 6 9 12 15 18 21 24 27 30 \n",
      "\n"
     ]
    }
   ],
   "source": [
    "# Pedir input al usuario y validar que sea un número\n",
    "try:\n",
    "    num = int(input('¿Cuántas tablas desea calcular?'))\n",
    "except:\n",
    "    print('Input no válido')\n",
    "\n",
    "# Imprimir primer línea en donde se dice el número de tablas de multiplicar que se van a mostrar\n",
    "print(f'Número de tablas a cálcular: {num}')\n",
    "\n",
    "# Primer for loop para la cantidad de tablas de multiplicar que indico el usuario\n",
    "for x in range(1,num+1):\n",
    "    print(f'Tabla de multiplicar del {x}')\n",
    "\n",
    "    # For loop anidado para calcular cada una de los resultados al multiplicar el número de la tabla en la que vamos por todos los números del 1 al 10\n",
    "    for y in range(1,11):\n",
    "        print(x*y, end=' ')\n",
    "    else:\n",
    "        print('\\n')"
   ]
  },
  {
   "cell_type": "code",
   "execution_count": null,
   "metadata": {},
   "outputs": [],
   "source": []
  }
 ],
 "metadata": {
  "kernelspec": {
   "display_name": "Python 3.10.4 ('py')",
   "language": "python",
   "name": "python3"
  },
  "language_info": {
   "codemirror_mode": {
    "name": "ipython",
    "version": 3
   },
   "file_extension": ".py",
   "mimetype": "text/x-python",
   "name": "python",
   "nbconvert_exporter": "python",
   "pygments_lexer": "ipython3",
   "version": "3.10.4"
  },
  "orig_nbformat": 4,
  "vscode": {
   "interpreter": {
    "hash": "5658e072d19a425ca9e6764fa85c0d23f211eb7b160e028d224862d13390dc19"
   }
  }
 },
 "nbformat": 4,
 "nbformat_minor": 2
}
