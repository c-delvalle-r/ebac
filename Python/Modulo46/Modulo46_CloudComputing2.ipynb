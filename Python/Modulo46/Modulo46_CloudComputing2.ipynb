{
 "cells": [
  {
   "cell_type": "markdown",
   "metadata": {},
   "source": [
    "# Módulo 46: Cloud Computing 2\n",
    "- Preparación para un proceso de ETL en la nube\n",
    "\n",
    "## AWS Glue\n",
    "- Glue es un servicio de integración de data que sirve para preparar, mover y transfromar información\n",
    "- Es un servicio serverless, no tiene un server propio que configurar, sino presenta como un servicio configurable directamente\n",
    "- Glue requiere que los elementos que se han  preparado (S3, RDS) sean catalogados para que luego puedan ser utilizados\n",
    "- Para catalogar los elementos (S3, Tabla RDS) utiliza \"Crawlers\", que exploran las estructuras y las declara dentro de una base de datos Glue (no es la misma que RDS)\n",
    "- Los elementos se vuelven Tablas Glue\n",
    "\n",
    "### Crawlers\n",
    "1. Para los archivos de S3\n",
    "    1. Lee el csv y lo guarda en una Tabla Glue\n",
    "    2. Se le da un nombre al crawler y se escoge la fuente de datos como S3\n",
    "    3. Se genera un nuevo rol llamado AWSGlueServiceRole-s3-climasp\n",
    "    4. Se genera una base de datos de destino en glue llamada crawldb-climasp\n",
    "    5. Se ejecuta el crawler\n",
    "2. Para la tabla de RDS"
   ]
  }
 ],
 "metadata": {
  "language_info": {
   "name": "python"
  }
 },
 "nbformat": 4,
 "nbformat_minor": 2
}
