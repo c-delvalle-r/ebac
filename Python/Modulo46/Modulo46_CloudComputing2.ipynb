{
 "cells": [
  {
   "cell_type": "markdown",
   "metadata": {},
   "source": [
    "# Módulo 46: Cloud Computing 2\n",
    "- Preparación para un proceso de ETL en la nube\n",
    "\n",
    "## AWS Glue\n",
    "- Glue es un servicio de integración de data que sirve para preparar, mover y transfromar información\n",
    "- Es un servicio serverless, no tiene un server propio que configurar, sino presenta como un servicio configurable directamente\n",
    "- Glue requiere que los elementos que se han  preparado (S3, RDS) sean catalogados para que luego puedan ser utilizados\n",
    "- Para catalogar los elementos (S3, Tabla RDS) utiliza \"Crawlers\", que exploran las estructuras y las declara dentro de una base de datos Glue (no es la misma que RDS)\n",
    "- Los elementos se vuelven Tablas Glue\n",
    "\n",
    "### Crawlers\n",
    "1. Para los archivos de S3\n",
    "    1. Lee el csv y lo guarda en una Tabla Glue\n",
    "    2. Se le da un nombre al crawler y se escoge la fuente de datos como S3\n",
    "    3. Se genera un nuevo rol llamado AWSGlueServiceRole-s3-climasp\n",
    "    4. Se genera una base de datos de destino en glue llamada crawldb-climasp\n",
    "    5. Se ejecuta el crawler\n",
    "2. Para la tabla de RDS"
   ]
  },
  {
   "cell_type": "code",
   "execution_count": 7,
   "metadata": {},
   "outputs": [],
   "source": [
    "# Transformar dataset \n",
    "# Transformar dataset \"kc_house_data.csv\" al formato necesario para la actividad del módulo dado que se necesita código de pyspark para hacerlo directamente en glue\n",
    "\n",
    "import pandas as pd\n",
    "df = pd.read_csv('D:\\Documentos\\Documentos\\DataAnalysis\\ebac\\Python\\Modulo44\\kc_house_data.csv')\n",
    "new_dataset = df.pivot_table(index=['yr_built', 'zipcode'], values='price', aggfunc='mean')\n",
    "\n",
    "# Export dataset\n",
    "new_dataset.to_csv('Avg Price by Year Zip.csv')"
   ]
  }
 ],
 "metadata": {
  "kernelspec": {
   "display_name": "Python 3",
   "language": "python",
   "name": "python3"
  },
  "language_info": {
   "codemirror_mode": {
    "name": "ipython",
    "version": 3
   },
   "file_extension": ".py",
   "mimetype": "text/x-python",
   "name": "python",
   "nbconvert_exporter": "python",
   "pygments_lexer": "ipython3",
   "version": "3.11.1"
  }
 },
 "nbformat": 4,
 "nbformat_minor": 2
}
