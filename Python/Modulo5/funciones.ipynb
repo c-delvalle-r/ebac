{
 "cells": [
  {
   "cell_type": "markdown",
   "metadata": {},
   "source": [
    "# Funciones de python\n",
    "\n",
    "Una función es una subrutina que dados ciertos parámetros da un resultado de salida. Sirven para encapsular parte del código y poder reutilizarlo sin tener que volver a escribir todo el código"
   ]
  },
  {
   "cell_type": "code",
   "execution_count": 1,
   "metadata": {},
   "outputs": [],
   "source": [
    "# Función ejemplo. Se define con la palabra def seguido del nombre de la función y entre paréntesis los parámetros necesarios para correr\n",
    "# el bloque de código de en medio\n",
    "def mi_funcion(param1, param2):\n",
    "    #Aqui va el código que se quiera ejecutar cuando se corre la función\n",
    "    #El return regresa un valor de respuesta que puede ser asigando a una variable cuando la función se corre. Para regresar más de un valor se\n",
    "    # recomienda regresar tuplas o listas\n",
    "    return param1"
   ]
  },
  {
   "cell_type": "markdown",
   "metadata": {},
   "source": [
    "Normalmente, el órden en el que se definen los parámetros es el orden con el que va asignando los valores que se les pasan a la funcion al momento de correrla. Si se desea escribir los parámetros en un órden diferente al que tienen en la definición de la función, se puede pasar el nombre del parámetro \"=\" y el valor que se le va a dar al parámetro\n",
    "\n",
    "Con la funcion anterior: mi_funcion(param2 = 2 , param1 = 30)"
   ]
  },
  {
   "cell_type": "code",
   "execution_count": 3,
   "metadata": {},
   "outputs": [
    {
     "name": "stdout",
     "output_type": "stream",
     "text": [
      "Hola Juan\n",
      "Hola Carlos\n"
     ]
    }
   ],
   "source": [
    " # Tambien se pueden asignar valores predeterminados que pueden ser dados en la función o pueden ser omitidos al correr la función y tomarán el valor\n",
    " # predeterminado, para declarar el valor predeterminado, al definir la función asignar el valore predeterminado del parámetro con un igual:\n",
    "\n",
    "def saludo(nombre='Juan'):\n",
    "    print(f'Hola {nombre}')\n",
    "\n",
    "saludo()\n",
    "saludo('Carlos')"
   ]
  },
  {
   "cell_type": "markdown",
   "metadata": {},
   "source": [
    "Recordar que las variables delaradas dentro de las funciones son variables locales que **solamente sirven dentro de la función**"
   ]
  },
  {
   "cell_type": "code",
   "execution_count": 6,
   "metadata": {},
   "outputs": [
    {
     "name": "stdout",
     "output_type": "stream",
     "text": [
      "Mi mejor amigo es Santi\n"
     ]
    }
   ],
   "source": [
    "# Para un número de argumentos variables (cuando no se saben desde un principio cuántos argumentos se van a recibir) se puede usar un asterísco\n",
    "# estos argumentos se pasarán como una lista con el nombre del argumento\n",
    "def funcion_amigos(*amigos):\n",
    "    # En este caso los argumentos se pasarán como una lista llamada 'amigos'\n",
    "    print(f'Mi mejor amigo es {amigos[2]}')\n",
    "\n",
    "funcion_amigos('Andre', 'Vargas', 'Santi', 'Arturo')"
   ]
  },
  {
   "cell_type": "code",
   "execution_count": 10,
   "metadata": {},
   "outputs": [
    {
     "name": "stdout",
     "output_type": "stream",
     "text": [
      "El apellido de la persona es Del Valle\n"
     ]
    }
   ],
   "source": [
    "# Se puede pasar una serie de parámetros indefinidos que la función tome como diccionario en lugar de lista usando dos asteríscos:\n",
    "def apellido(**persona):\n",
    "    print(f'El apellido de la persona es {persona[\"apellido\"]}')\n",
    "\n",
    "apellido(nombre='Carlos', apellido='Del Valle', edad=23)"
   ]
  },
  {
   "cell_type": "markdown",
   "metadata": {},
   "source": [
    "## Ejercicios"
   ]
  },
  {
   "cell_type": "markdown",
   "metadata": {},
   "source": [
    "Desarrolle una función que le permita la usuario obtener la tabla de multiplicar del número que éste desee"
   ]
  },
  {
   "cell_type": "code",
   "execution_count": 12,
   "metadata": {},
   "outputs": [
    {
     "data": {
      "text/plain": [
       "[3, 6, 9, 12, 15, 18, 21, 24, 27, 30]"
      ]
     },
     "execution_count": 12,
     "metadata": {},
     "output_type": "execute_result"
    }
   ],
   "source": [
    "def tabla_de_multiplicar(num):\n",
    "    lista = []\n",
    "    for x in range(1,11):\n",
    "        lista.append(num*x)\n",
    "    return lista\n",
    "\n",
    "tabla_de_multiplicar(3)"
   ]
  },
  {
   "cell_type": "markdown",
   "metadata": {},
   "source": [
    "Escribe una función en python que compruebe si una cadena recibida es un palíndromo o no"
   ]
  },
  {
   "cell_type": "code",
   "execution_count": 28,
   "metadata": {},
   "outputs": [
    {
     "data": {
      "text/plain": [
       "True"
      ]
     },
     "execution_count": 28,
     "metadata": {},
     "output_type": "execute_result"
    }
   ],
   "source": [
    "# Para definir el tipo de dato que tiene que ser el parámetro se puede usar : y el tipo de dato, en este caso str de string\n",
    "def palindromo(palabra:str):\n",
    "    palabra = palabra.lower()\n",
    "    if palabra == palabra[::-1]:\n",
    "        return True\n",
    "    else:\n",
    "        return False\n",
    "\n",
    "palindromo('Salas')"
   ]
  },
  {
   "cell_type": "markdown",
   "metadata": {},
   "source": [
    "## Funciones lamda\n",
    "\n",
    "Son funciones cortas y anónimas. A las funciones lambda se les puede quitar lo anónimo asignandole un nombre al asignar la función a una variable"
   ]
  },
  {
   "cell_type": "code",
   "execution_count": 29,
   "metadata": {},
   "outputs": [
    {
     "name": "stdout",
     "output_type": "stream",
     "text": [
      "4\n"
     ]
    }
   ],
   "source": [
    "cuadrado = lambda x: x**2\n",
    "\n",
    "print(cuadrado(2))"
   ]
  },
  {
   "cell_type": "code",
   "execution_count": 30,
   "metadata": {},
   "outputs": [
    {
     "data": {
      "text/plain": [
       "6"
      ]
     },
     "execution_count": 30,
     "metadata": {},
     "output_type": "execute_result"
    }
   ],
   "source": [
    "# Tambien se pueden correr sin asignarles un nombre\n",
    "(lambda x,y: x + y)(2,4)"
   ]
  },
  {
   "cell_type": "markdown",
   "metadata": {},
   "source": [
    "Este tipo de funciones pueden ser útiles en ciertos casos para escribir menos o, en otras ocasiones pueden formar parte de los argumentos de una función, por ejemplo la función u operación que se le va a aplicar al crear una columna en un pandas dataframe"
   ]
  },
  {
   "cell_type": "code",
   "execution_count": 34,
   "metadata": {},
   "outputs": [
    {
     "data": {
      "text/plain": [
       "14"
      ]
     },
     "execution_count": 34,
     "metadata": {},
     "output_type": "execute_result"
    }
   ],
   "source": [
    "#Ejemplo de uso\n",
    "def calcula(n):\n",
    "    return lambda x: x * n\n",
    "\n",
    "# En este caso, la funcion calcula regresa como resultado una función, no un valor. Por eso despues puedo llamar a resultado con un parámetro x=7\n",
    "resultado = calcula(2)\n",
    "resultado(7)"
   ]
  },
  {
   "cell_type": "markdown",
   "metadata": {},
   "source": [
    "### Ejercicio Funciones lambda\n",
    "Escribe un programa para encontrar si una cadena dada comienza con un carácter dado usando una función lambda denominada inicia_con"
   ]
  },
  {
   "cell_type": "code",
   "execution_count": 43,
   "metadata": {},
   "outputs": [
    {
     "name": "stdout",
     "output_type": "stream",
     "text": [
      "test 1 True\n",
      "test 2 False\n"
     ]
    }
   ],
   "source": [
    "inicia_con = lambda texto, char: texto.startswith(char)\n",
    "print('test 1', inicia_con('Python', 'P'))\n",
    "\n",
    "\n",
    "# Version alternativa con Lists comprehension\n",
    "\n",
    "inicia_con_2 = lambda texto, char : True if texto.startswith(char) else False\n",
    "print('test 2', inicia_con_2('Python','V'))"
   ]
  },
  {
   "cell_type": "code",
   "execution_count": 39,
   "metadata": {},
   "outputs": [
    {
     "data": {
      "text/plain": [
       "True"
      ]
     },
     "execution_count": 39,
     "metadata": {},
     "output_type": "execute_result"
    }
   ],
   "source": [
    "def inicia_con(cadena:str):\n",
    "    return lambda char: char == cadena[0]\n",
    "\n",
    "test = inicia_con('vargas')\n",
    "test('v')"
   ]
  }
 ],
 "metadata": {
  "kernelspec": {
   "display_name": "Python 3.10.4 ('py')",
   "language": "python",
   "name": "python3"
  },
  "language_info": {
   "codemirror_mode": {
    "name": "ipython",
    "version": 3
   },
   "file_extension": ".py",
   "mimetype": "text/x-python",
   "name": "python",
   "nbconvert_exporter": "python",
   "pygments_lexer": "ipython3",
   "version": "3.10.4"
  },
  "orig_nbformat": 4,
  "vscode": {
   "interpreter": {
    "hash": "5658e072d19a425ca9e6764fa85c0d23f211eb7b160e028d224862d13390dc19"
   }
  }
 },
 "nbformat": 4,
 "nbformat_minor": 2
}
