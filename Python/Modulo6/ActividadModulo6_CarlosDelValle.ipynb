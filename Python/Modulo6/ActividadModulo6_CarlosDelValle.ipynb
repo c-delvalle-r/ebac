{
 "cells": [
  {
   "cell_type": "markdown",
   "metadata": {},
   "source": [
    "# Actividad Modulo 6"
   ]
  },
  {
   "cell_type": "markdown",
   "metadata": {},
   "source": [
    "### Ejercicio 1\n",
    "Escriba una clase en Python denominada \"Conversion\" que permita la converín de un número romano a un número entero a través de un método llamado \"romano_entero\""
   ]
  },
  {
   "cell_type": "markdown",
   "metadata": {},
   "source": [
    "Limitaciones del programa:\n",
    "- Solamente se pueden usar números romanos hasta la M (1000), no se puede poner 5000 en adelante\n",
    "- No valida que si el número se resta, sea el de orden inmediato anterior. Ejemplo: XM arrojaría 990, no un error"
   ]
  },
  {
   "cell_type": "code",
   "execution_count": 69,
   "metadata": {},
   "outputs": [
    {
     "data": {
      "text/plain": [
       "3986"
      ]
     },
     "execution_count": 69,
     "metadata": {},
     "output_type": "execute_result"
    }
   ],
   "source": [
    "class Conversion():\n",
    "    def romano_entero(self, num_romano:str):\n",
    "        # Definir diccionario con la conversión de Simbolo romano a número decimal\n",
    "        lookup = {'i':1, 'v':5, 'x':10, 'l':50, 'c':100, 'd':500, 'm':1000}\n",
    "        num_romano = list(num_romano.lower())     # Convertir el número a minúscula y a una lista para poder iterar sobre él\n",
    "        contador = 0\n",
    "        total = 0\n",
    "        last_letter_counter = ['',0]        # Este contador servirá para guardar que la última letra que se utilizó y el número de veces seguidas que ha salido en la cadena\n",
    "\n",
    "        while contador < len(num_romano):\n",
    "            # Try para el momento en el que el contador llegue al ultimo lugar y no se pueda evaluar la posicion contador+1\n",
    "            try:\n",
    "                #Si el valor en la posicion del contador es igual o mayor al de la siguiente posición, se suma el valor y se aumenta el contador\n",
    "                if lookup[num_romano[contador]] >= lookup[num_romano[contador+1]]:\n",
    "                    total += lookup[num_romano[contador]]\n",
    "                    contador += 1\n",
    "                # Si el valor de la posición del contador es menor al de la siguiente posición, se le resta el valor de la posición \n",
    "                # actual al valor de la posición siguiente y se aumenta el contador en dos\n",
    "                else:\n",
    "                    # Test si el número es múltiplo de 5 para detectar error\n",
    "                    if num_romano[contador] in ['v', 'l', 'd']:\n",
    "                        return 'Número no válido'\n",
    "                    else:\n",
    "                        total += lookup[num_romano[contador+1]] - lookup[num_romano[contador]]\n",
    "                        contador += 2\n",
    "            except:\n",
    "                total += lookup[num_romano[contador]]\n",
    "                contador += 1\n",
    "            # Condicional para corroborar que el número de caracteres iguales continuos no sea superior a 4, marcar error si es superior a 4\n",
    "            if last_letter_counter[0] != num_romano[contador-1]:\n",
    "                last_letter_counter[0] = num_romano[contador-1]\n",
    "                last_letter_counter[1] = 1\n",
    "            else:\n",
    "                if last_letter_counter[1] == 4:\n",
    "                    return 'Número no válido 1'\n",
    "                else:\n",
    "                    last_letter_counter[1] += 1\n",
    "\n",
    "                    \n",
    "        return total\n",
    "\n",
    "test = Conversion()\n",
    "test.romano_entero('MMMCMLXXXVI')"
   ]
  },
  {
   "cell_type": "code",
   "execution_count": null,
   "metadata": {},
   "outputs": [],
   "source": []
  }
 ],
 "metadata": {
  "kernelspec": {
   "display_name": "Python 3.10.4 ('py')",
   "language": "python",
   "name": "python3"
  },
  "language_info": {
   "codemirror_mode": {
    "name": "ipython",
    "version": 3
   },
   "file_extension": ".py",
   "mimetype": "text/x-python",
   "name": "python",
   "nbconvert_exporter": "python",
   "pygments_lexer": "ipython3",
   "version": "3.10.4"
  },
  "orig_nbformat": 4,
  "vscode": {
   "interpreter": {
    "hash": "5658e072d19a425ca9e6764fa85c0d23f211eb7b160e028d224862d13390dc19"
   }
  }
 },
 "nbformat": 4,
 "nbformat_minor": 2
}
