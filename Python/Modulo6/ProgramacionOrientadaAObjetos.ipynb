{
 "cells": [
  {
   "cell_type": "markdown",
   "metadata": {},
   "source": [
    "# Módulo 6: Programación Orientada a Objetos: Objetos y clases"
   ]
  },
  {
   "cell_type": "markdown",
   "metadata": {},
   "source": [
    "## Definición de clases, objetos y constructores en python"
   ]
  },
  {
   "cell_type": "markdown",
   "metadata": {},
   "source": [
    "¿Qué es una clase?\n",
    "Es un contructor para crear objetos. Los atributos son las variables que pertenecen a una clase. Los atributos son públicos, por lo que siempre se puede acceder a ellos. Se puede acceder a los atributos escribiendo el nommbre de la clase o instancia seguido de un punto y el nombre del atributo"
   ]
  },
  {
   "cell_type": "code",
   "execution_count": 2,
   "metadata": {},
   "outputs": [],
   "source": [
    "# Creación de una clase\n",
    "class MiClase:\n",
    "    pass"
   ]
  },
  {
   "cell_type": "code",
   "execution_count": 16,
   "metadata": {},
   "outputs": [
    {
     "name": "stdout",
     "output_type": "stream",
     "text": [
      "5\n",
      "10\n"
     ]
    }
   ],
   "source": [
    "# Crear un objeto que pertenezca a la clase MiClase\n",
    "objeto = MiClase()\n",
    "objeto.x = 5\n",
    "objeto.y = 10\n",
    "\n",
    "print(objeto.x)\n",
    "print(objeto.y)"
   ]
  },
  {
   "cell_type": "code",
   "execution_count": 15,
   "metadata": {},
   "outputs": [
    {
     "data": {
      "text/plain": [
       "5"
      ]
     },
     "execution_count": 15,
     "metadata": {},
     "output_type": "execute_result"
    }
   ],
   "source": [
    "# Creación de una clase con atributos iniciales\n",
    "class MiClase:\n",
    "    x = 5\n",
    "    y = 10\n",
    "\n",
    "objeto = MiClase()\n",
    "objeto.x"
   ]
  },
  {
   "cell_type": "code",
   "execution_count": 17,
   "metadata": {},
   "outputs": [
    {
     "name": "stdout",
     "output_type": "stream",
     "text": [
      "Hola!\n"
     ]
    }
   ],
   "source": [
    "# Definición de un método para una clase\n",
    "\n",
    "class Aviso:\n",
    "    def saludar(self):\n",
    "        print('Hola!')\n",
    "\n",
    "objeto = Aviso()\n",
    "objeto.saludar()"
   ]
  },
  {
   "cell_type": "code",
   "execution_count": 20,
   "metadata": {},
   "outputs": [
    {
     "data": {
      "text/plain": [
       "True"
      ]
     },
     "execution_count": 20,
     "metadata": {},
     "output_type": "execute_result"
    }
   ],
   "source": [
    "# Definición de una clase para alamcenar datos de estudiantes\n",
    "class Estudiante():\n",
    "    def aprovado(self):\n",
    "        if self.calificacion >= 60:\n",
    "            return True\n",
    "        else:\n",
    "            return False\n",
    "\n",
    "estudiante1 = Estudiante()\n",
    "estudiante1.calificacion = 70\n",
    "estudiante1.nombre = 'Juan'\n",
    "\n",
    "aprobo1 = estudiante1.aprovado()\n",
    "aprobo1"
   ]
  },
  {
   "cell_type": "code",
   "execution_count": 21,
   "metadata": {},
   "outputs": [
    {
     "data": {
      "text/plain": [
       "True"
      ]
     },
     "execution_count": 21,
     "metadata": {},
     "output_type": "execute_result"
    }
   ],
   "source": [
    "# Manejo de contructores\n",
    "class Estudiante():\n",
    "    def aprovado(self):\n",
    "        if self.calificacion >= 60:\n",
    "            return True\n",
    "        else:\n",
    "            return False\n",
    "\n",
    "    def __init__(self, nombre, calificacion):\n",
    "        self.nombre = nombre\n",
    "        self.calificacion = calificacion\n",
    "\n",
    "estudiante1 = Estudiante(nombre='Juan', calificacion=70)\n",
    "estudiante1.aprovado()"
   ]
  },
  {
   "cell_type": "markdown",
   "metadata": {},
   "source": [
    "### Ejercicios"
   ]
  },
  {
   "cell_type": "markdown",
   "metadata": {},
   "source": [
    "Ejercicio 1\n",
    "\n",
    "Desarrolla una clase en python que le permita la usuario calcular la suma de dos números complejos"
   ]
  },
  {
   "cell_type": "code",
   "execution_count": 28,
   "metadata": {},
   "outputs": [],
   "source": [
    "class Complejo():\n",
    "    def __init__(self, real, imaginario):\n",
    "        self.real = real\n",
    "        self.imaginario = imaginario\n",
    "\n",
    "    def suma(self, numero):\n",
    "        real = self.real + numero.real\n",
    "        imaginario = self.imaginario + numero.imaginario\n",
    "        return Complejo(real, imaginario)\n"
   ]
  },
  {
   "cell_type": "code",
   "execution_count": 30,
   "metadata": {},
   "outputs": [
    {
     "name": "stdout",
     "output_type": "stream",
     "text": [
      "5 + 7i\n"
     ]
    },
    {
     "ename": "NameError",
     "evalue": "name 'num1' is not defined",
     "output_type": "error",
     "traceback": [
      "\u001b[1;31m---------------------------------------------------------------------------\u001b[0m",
      "\u001b[1;31mNameError\u001b[0m                                 Traceback (most recent call last)",
      "\u001b[1;32md:\\Documentos\\DataAnalysis\\EBAC\\Python\\Modulo6\\ProgramacionOrientadaAObjetos.ipynb Celda 13\u001b[0m in \u001b[0;36m<cell line: 8>\u001b[1;34m()\u001b[0m\n\u001b[0;32m      <a href='vscode-notebook-cell:/d%3A/Documentos/DataAnalysis/EBAC/Python/Modulo6/ProgramacionOrientadaAObjetos.ipynb#X30sZmlsZQ%3D%3D?line=5'>6</a>\u001b[0m \u001b[39m# Para eliminar una instancia de un objeto, se puede utilizar la palabra reservada del\u001b[39;00m\n\u001b[0;32m      <a href='vscode-notebook-cell:/d%3A/Documentos/DataAnalysis/EBAC/Python/Modulo6/ProgramacionOrientadaAObjetos.ipynb#X30sZmlsZQ%3D%3D?line=6'>7</a>\u001b[0m \u001b[39mdel\u001b[39;00m num1\n\u001b[1;32m----> <a href='vscode-notebook-cell:/d%3A/Documentos/DataAnalysis/EBAC/Python/Modulo6/ProgramacionOrientadaAObjetos.ipynb#X30sZmlsZQ%3D%3D?line=7'>8</a>\u001b[0m num1\u001b[39m.\u001b[39mreal\n",
      "\u001b[1;31mNameError\u001b[0m: name 'num1' is not defined"
     ]
    }
   ],
   "source": [
    "num1 = Complejo(2,3)\n",
    "num2 = Complejo(3,4)\n",
    "num3 = num1.suma(num2)\n",
    "print(f'{num3.real} + {num3.imaginario}i')\n",
    "\n",
    "# Para eliminar una instancia de un objeto, se puede utilizar la palabra reservada del\n",
    "del num1\n",
    "num1.real"
   ]
  },
  {
   "cell_type": "markdown",
   "metadata": {},
   "source": [
    "Ejercicio 2\n",
    "\n",
    "Crea una clase denominada triángulo. Crea un objeto a partir de dicha clase, el cual deberá tener los atributos a, b y c que representan los lados de dicho triángulo\n",
    "\n",
    "La clase triángulo deberá tener 2 métodos:\n",
    "- Contructor init para inicializar los lados del triangulo\n",
    "- perim que deberá usarse para calcular el perímetro total del triángulo. El perímetro del triángulo deberá ser impreso desde fuera de la clase"
   ]
  },
  {
   "cell_type": "code",
   "execution_count": 35,
   "metadata": {},
   "outputs": [],
   "source": [
    "class Triangulo():\n",
    "    # Esto es un constructor parametrizado\n",
    "    def __init__(self, a, b, c):\n",
    "        self.a = a\n",
    "        self.b = b\n",
    "        self.c = c\n",
    "\n",
    "    def perim(self):\n",
    "        return self.a + self.b + self.c"
   ]
  },
  {
   "cell_type": "code",
   "execution_count": 37,
   "metadata": {},
   "outputs": [
    {
     "name": "stdout",
     "output_type": "stream",
     "text": [
      "9\n"
     ]
    }
   ],
   "source": [
    "triangulo1 = Triangulo(2,3,4)\n",
    "print(triangulo1.perim())"
   ]
  },
  {
   "cell_type": "markdown",
   "metadata": {},
   "source": [
    "## Aplicaciones abanzadas de constructores en Python"
   ]
  },
  {
   "cell_type": "markdown",
   "metadata": {},
   "source": [
    "Herencias: Proceso mediante el cual se puede crear una clase hija que hereda de una clase padre compartiendo sus métodos y atributos. Dichos métodos y atributos se pueden sobreescribir o se pueden definir nuevos. Existen dos tipos de herencia:\n",
    "- Herencia simple: cuando la clase hija hereda los atributos y métodos de una única clase padre\n",
    "- Herencia múltiple cuando la clase hija hereda atributos y métodos de más de una clase padre"
   ]
  },
  {
   "cell_type": "code",
   "execution_count": 5,
   "metadata": {},
   "outputs": [
    {
     "name": "stdout",
     "output_type": "stream",
     "text": [
      "Soy Manuel Gomez, y tengo 26 años de edad\n"
     ]
    }
   ],
   "source": [
    "# Ejemplo de herencia simple. El \"object\" dentro del paréntesis denota que será la clase padre de otra clase\n",
    "\n",
    "# Clase Padre\n",
    "class Estudiante(object):\n",
    "    def __init__(self, edad, nombre):\n",
    "        self.edad = edad\n",
    "        self.nombre = nombre\n",
    "\n",
    "#Clase hija\n",
    "class Derecho(Estudiante):\n",
    "    def presentarse(self):\n",
    "        print(f'Soy {self.nombre}, y tengo {self.edad} años de edad')\n",
    "\n",
    "manuel = Derecho(26, 'Manuel Gomez')\n",
    "manuel.presentarse()"
   ]
  },
  {
   "cell_type": "code",
   "execution_count": 7,
   "metadata": {},
   "outputs": [
    {
     "name": "stdout",
     "output_type": "stream",
     "text": [
      "Soy Pablo, y tengo 24 años de edad\n",
      "Estudio en el Instituto de Leyes\n"
     ]
    }
   ],
   "source": [
    "# Ejemplo de herencia múltiple\n",
    "# Usaremos la clase Estudiante, definida en el bloque de código anterior\n",
    "\n",
    "class Instituto(object):        # Clase padre #2\n",
    "    def presentar_instituto(self):\n",
    "        print(f'Estudio en el Instituto de Leyes')\n",
    "\n",
    "# Basta con separar con una coma las clases padre que heredará la clase hija\n",
    "class Derecho(Estudiante, Instituto):       #Clase hija\n",
    "    def presentarse(self):\n",
    "        print(f'Soy {self.nombre}, y tengo {self.edad} años de edad')\n",
    "\n",
    "pablo = Derecho(24, \"Pablo\")\n",
    "pablo.presentarse()\n",
    "pablo.presentar_instituto()"
   ]
  },
  {
   "cell_type": "markdown",
   "metadata": {},
   "source": [
    "### Ejercicio\n",
    "\n",
    "Defina una clase padre denominada \"Figura\". A partir de ella desarrolle dos clases hijas denominadas \"Circulo\" y \"Triangulo\", las cuales deben ser capaces de calcular el área en cada caso a partir de los parámetros requeridos por cada figura "
   ]
  },
  {
   "cell_type": "code",
   "execution_count": 10,
   "metadata": {},
   "outputs": [
    {
     "data": {
      "text/plain": [
       "7.5"
      ]
     },
     "execution_count": 10,
     "metadata": {},
     "output_type": "execute_result"
    }
   ],
   "source": [
    "class Figura(object):\n",
    "    def area(self):\n",
    "        pass\n",
    "\n",
    "class Circulo(Figura):\n",
    "    \"\"\"Esto es un comentario que sirve para poderlo ver como documentación\n",
    "    Tambien tomar en cuenta que es un comentario de varias líneas\"\"\"\n",
    "    def __init__(self, radio=0):\n",
    "        self.radio = radio\n",
    "    \n",
    "    def area(self):\n",
    "        return 3.1416 * (self.radio**2)\n",
    "\n",
    "class Triangulo(Figura):\n",
    "    def __init__(self, base = 0, altura = 0):\n",
    "        self.base = base\n",
    "        self.altura = altura\n",
    "\n",
    "    def area(self):\n",
    "        return self.base * self.altura / 2\n",
    "\n",
    "t = Triangulo(3,5)\n",
    "t.area()"
   ]
  }
 ],
 "metadata": {
  "kernelspec": {
   "display_name": "Python 3.10.4 ('py')",
   "language": "python",
   "name": "python3"
  },
  "language_info": {
   "codemirror_mode": {
    "name": "ipython",
    "version": 3
   },
   "file_extension": ".py",
   "mimetype": "text/x-python",
   "name": "python",
   "nbconvert_exporter": "python",
   "pygments_lexer": "ipython3",
   "version": "3.10.4"
  },
  "orig_nbformat": 4,
  "vscode": {
   "interpreter": {
    "hash": "5658e072d19a425ca9e6764fa85c0d23f211eb7b160e028d224862d13390dc19"
   }
  }
 },
 "nbformat": 4,
 "nbformat_minor": 2
}
