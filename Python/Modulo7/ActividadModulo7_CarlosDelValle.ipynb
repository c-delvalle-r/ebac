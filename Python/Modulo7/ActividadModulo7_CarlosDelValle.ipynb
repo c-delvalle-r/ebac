{
 "cells": [
  {
   "cell_type": "markdown",
   "metadata": {},
   "source": [
    "### Actividad Módulo 7: Pandas: Dataframes, lectura y exportación de archivos\n",
    "\n",
    "Descargar archivo Iris.csv y contestar las siguientes preguntas:\n",
    "1. Determinar en una sola tabla: Media, desviación estándar y mediana para el ancho del petalo de cada tipo de flor para aquellos registros cuyo ancho de sépalo es mayor o igual a 3.5 y el largo del sépalo es mayor que 5\n",
    "2. Calcule el número de registros que se utilizaron para obtener los resultados del problema 1\n",
    "3. Agregar una nueva columna al DF generado al problema 1 que sea resultado de estandarizar los valores del ancho del pétalo para cada registros. Denorminar \"petal.width.st\" y calcularla como (petal.width - media(petal.width)) / Desv. Estándar(petal.width)\n",
    "4. Renombrar las columnas del DF \"variety\" y \"petal.width.st\" a \"Variedad\" y \"Ancho Est. Pétalo\"\n",
    "5. Exporte el resultado del DF obtenido del problema 4 a un archivo \"Iris2.csv\"\n",
    "6. Investigue cómo generar un gráfico de disperción para la base original Iris que relacione la variable \"petal.width\" y \"petal.length\""
   ]
  },
  {
   "cell_type": "code",
   "execution_count": 34,
   "metadata": {},
   "outputs": [],
   "source": [
    "import numpy as np\n",
    "import pandas as pd\n",
    "\n",
    "iris_df = pd.read_csv('D:\\Documentos\\DataAnalysis\\EBAC\\Python\\Modulo7\\iris.csv')\n",
    "# iris_df.head(3)"
   ]
  },
  {
   "cell_type": "code",
   "execution_count": 35,
   "metadata": {},
   "outputs": [
    {
     "data": {
      "text/html": [
       "<div>\n",
       "<style scoped>\n",
       "    .dataframe tbody tr th:only-of-type {\n",
       "        vertical-align: middle;\n",
       "    }\n",
       "\n",
       "    .dataframe tbody tr th {\n",
       "        vertical-align: top;\n",
       "    }\n",
       "\n",
       "    .dataframe thead th {\n",
       "        text-align: right;\n",
       "    }\n",
       "</style>\n",
       "<table border=\"1\" class=\"dataframe\">\n",
       "  <thead>\n",
       "    <tr style=\"text-align: right;\">\n",
       "      <th></th>\n",
       "      <th>mean</th>\n",
       "      <th>std_dev</th>\n",
       "      <th>median</th>\n",
       "    </tr>\n",
       "    <tr>\n",
       "      <th>variety</th>\n",
       "      <th></th>\n",
       "      <th></th>\n",
       "      <th></th>\n",
       "    </tr>\n",
       "  </thead>\n",
       "  <tbody>\n",
       "    <tr>\n",
       "      <th>Setosa</th>\n",
       "      <td>0.270588</td>\n",
       "      <td>0.098518</td>\n",
       "      <td>0.2</td>\n",
       "    </tr>\n",
       "    <tr>\n",
       "      <th>Virginica</th>\n",
       "      <td>2.233333</td>\n",
       "      <td>0.251661</td>\n",
       "      <td>2.2</td>\n",
       "    </tr>\n",
       "  </tbody>\n",
       "</table>\n",
       "</div>"
      ],
      "text/plain": [
       "               mean   std_dev  median\n",
       "variety                              \n",
       "Setosa     0.270588  0.098518     0.2\n",
       "Virginica  2.233333  0.251661     2.2"
      ]
     },
     "execution_count": 35,
     "metadata": {},
     "output_type": "execute_result"
    }
   ],
   "source": [
    "# 1.\n",
    "# Definir funciones a utilizar\n",
    "def mean(x): return x.mean()\n",
    "def std_dev(x): return x.std()\n",
    "def median(x): return x.quantile(.5)\n",
    "\n",
    "# Slice the df\n",
    "iris_ejercicio1 = iris_df[(iris_df['sepal.width'] >= 3.5) & (iris_df['sepal.length'] > 5)]\n",
    "\n",
    "# Group by variety y aplicar las funciones\n",
    "iris_ejercicio1.groupby('variety')['petal.width'].agg([mean, std_dev, median])"
   ]
  },
  {
   "cell_type": "code",
   "execution_count": 36,
   "metadata": {},
   "outputs": [
    {
     "data": {
      "text/plain": [
       "20"
      ]
     },
     "execution_count": 36,
     "metadata": {},
     "output_type": "execute_result"
    }
   ],
   "source": [
    "# 2. Conseguir longitud del df del inciso anterior\n",
    "len(iris_ejercicio1)"
   ]
  },
  {
   "cell_type": "code",
   "execution_count": 37,
   "metadata": {},
   "outputs": [
    {
     "data": {
      "text/html": [
       "<div>\n",
       "<style scoped>\n",
       "    .dataframe tbody tr th:only-of-type {\n",
       "        vertical-align: middle;\n",
       "    }\n",
       "\n",
       "    .dataframe tbody tr th {\n",
       "        vertical-align: top;\n",
       "    }\n",
       "\n",
       "    .dataframe thead th {\n",
       "        text-align: right;\n",
       "    }\n",
       "</style>\n",
       "<table border=\"1\" class=\"dataframe\">\n",
       "  <thead>\n",
       "    <tr style=\"text-align: right;\">\n",
       "      <th></th>\n",
       "      <th>sepal.length</th>\n",
       "      <th>sepal.width</th>\n",
       "      <th>petal.length</th>\n",
       "      <th>petal.width</th>\n",
       "      <th>variety</th>\n",
       "      <th>petal.width.st</th>\n",
       "    </tr>\n",
       "  </thead>\n",
       "  <tbody>\n",
       "    <tr>\n",
       "      <th>0</th>\n",
       "      <td>5.1</td>\n",
       "      <td>3.5</td>\n",
       "      <td>1.4</td>\n",
       "      <td>0.2</td>\n",
       "      <td>Setosa</td>\n",
       "      <td>-1.311052</td>\n",
       "    </tr>\n",
       "    <tr>\n",
       "      <th>1</th>\n",
       "      <td>4.9</td>\n",
       "      <td>3.0</td>\n",
       "      <td>1.4</td>\n",
       "      <td>0.2</td>\n",
       "      <td>Setosa</td>\n",
       "      <td>-1.311052</td>\n",
       "    </tr>\n",
       "    <tr>\n",
       "      <th>2</th>\n",
       "      <td>4.7</td>\n",
       "      <td>3.2</td>\n",
       "      <td>1.3</td>\n",
       "      <td>0.2</td>\n",
       "      <td>Setosa</td>\n",
       "      <td>-1.311052</td>\n",
       "    </tr>\n",
       "  </tbody>\n",
       "</table>\n",
       "</div>"
      ],
      "text/plain": [
       "   sepal.length  sepal.width  petal.length  petal.width variety  \\\n",
       "0           5.1          3.5           1.4          0.2  Setosa   \n",
       "1           4.9          3.0           1.4          0.2  Setosa   \n",
       "2           4.7          3.2           1.3          0.2  Setosa   \n",
       "\n",
       "   petal.width.st  \n",
       "0       -1.311052  \n",
       "1       -1.311052  \n",
       "2       -1.311052  "
      ]
     },
     "execution_count": 37,
     "metadata": {},
     "output_type": "execute_result"
    }
   ],
   "source": [
    "# 3. Generar nueva columna\n",
    "iris_ejercicio3 = iris_df\n",
    "iris_ejercicio3['petal.width.st'] = (iris_ejercicio3['petal.width']-iris_ejercicio3['petal.width'].mean()) / iris_ejercicio3['petal.width'].std()\n",
    "iris_ejercicio3.head(3)"
   ]
  },
  {
   "cell_type": "code",
   "execution_count": 38,
   "metadata": {},
   "outputs": [
    {
     "data": {
      "text/html": [
       "<div>\n",
       "<style scoped>\n",
       "    .dataframe tbody tr th:only-of-type {\n",
       "        vertical-align: middle;\n",
       "    }\n",
       "\n",
       "    .dataframe tbody tr th {\n",
       "        vertical-align: top;\n",
       "    }\n",
       "\n",
       "    .dataframe thead th {\n",
       "        text-align: right;\n",
       "    }\n",
       "</style>\n",
       "<table border=\"1\" class=\"dataframe\">\n",
       "  <thead>\n",
       "    <tr style=\"text-align: right;\">\n",
       "      <th></th>\n",
       "      <th>sepal.length</th>\n",
       "      <th>sepal.width</th>\n",
       "      <th>petal.length</th>\n",
       "      <th>petal.width</th>\n",
       "      <th>Variedad</th>\n",
       "      <th>Ancho Est. Pétalo</th>\n",
       "    </tr>\n",
       "  </thead>\n",
       "  <tbody>\n",
       "    <tr>\n",
       "      <th>0</th>\n",
       "      <td>5.1</td>\n",
       "      <td>3.5</td>\n",
       "      <td>1.4</td>\n",
       "      <td>0.2</td>\n",
       "      <td>Setosa</td>\n",
       "      <td>-1.311052</td>\n",
       "    </tr>\n",
       "    <tr>\n",
       "      <th>1</th>\n",
       "      <td>4.9</td>\n",
       "      <td>3.0</td>\n",
       "      <td>1.4</td>\n",
       "      <td>0.2</td>\n",
       "      <td>Setosa</td>\n",
       "      <td>-1.311052</td>\n",
       "    </tr>\n",
       "    <tr>\n",
       "      <th>2</th>\n",
       "      <td>4.7</td>\n",
       "      <td>3.2</td>\n",
       "      <td>1.3</td>\n",
       "      <td>0.2</td>\n",
       "      <td>Setosa</td>\n",
       "      <td>-1.311052</td>\n",
       "    </tr>\n",
       "  </tbody>\n",
       "</table>\n",
       "</div>"
      ],
      "text/plain": [
       "   sepal.length  sepal.width  petal.length  petal.width Variedad  \\\n",
       "0           5.1          3.5           1.4          0.2   Setosa   \n",
       "1           4.9          3.0           1.4          0.2   Setosa   \n",
       "2           4.7          3.2           1.3          0.2   Setosa   \n",
       "\n",
       "   Ancho Est. Pétalo  \n",
       "0          -1.311052  \n",
       "1          -1.311052  \n",
       "2          -1.311052  "
      ]
     },
     "execution_count": 38,
     "metadata": {},
     "output_type": "execute_result"
    }
   ],
   "source": [
    "# 4. Renombrar columnas\n",
    "iris_ejercicio4 = iris_ejercicio3\n",
    "iris_ejercicio4.rename(columns={'variety':'Variedad', 'petal.width.st':'Ancho Est. Pétalo'}, inplace=True)\n",
    "iris_ejercicio4.head(3)"
   ]
  },
  {
   "cell_type": "code",
   "execution_count": 39,
   "metadata": {},
   "outputs": [],
   "source": [
    "# 5. Exportar DF a un csv\n",
    "iris_ejercicio4.to_csv('Iris2.csv')"
   ]
  },
  {
   "cell_type": "code",
   "execution_count": 40,
   "metadata": {},
   "outputs": [
    {
     "data": {
      "text/plain": [
       "<AxesSubplot: xlabel='petal.width', ylabel='petal.length'>"
      ]
     },
     "execution_count": 40,
     "metadata": {},
     "output_type": "execute_result"
    },
    {
     "data": {
      "image/png": "[encoded data removed]",
      "text/plain": [
       "<Figure size 432x288 with 1 Axes>"
      ]
     },
     "metadata": {
      "needs_background": "light"
     },
     "output_type": "display_data"
    }
   ],
   "source": [
    "#6 Scatter plot\n",
    "\n",
    "iris_ejercicio4.plot(x='petal.width', y='petal.length', kind='scatter')"
   ]
  }
 ],
 "metadata": {
  "kernelspec": {
   "display_name": "Python 3.10.4 ('py')",
   "language": "python",
   "name": "python3"
  },
  "language_info": {
   "codemirror_mode": {
    "name": "ipython",
    "version": 3
   },
   "file_extension": ".py",
   "mimetype": "text/x-python",
   "name": "python",
   "nbconvert_exporter": "python",
   "pygments_lexer": "ipython3",
   "version": "3.10.4"
  },
  "orig_nbformat": 4,
  "vscode": {
   "interpreter": {
    "hash": "5658e072d19a425ca9e6764fa85c0d23f211eb7b160e028d224862d13390dc19"
   }
  }
 },
 "nbformat": 4,
 "nbformat_minor": 2
}
