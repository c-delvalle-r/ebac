{
 "cells": [
  {
   "cell_type": "markdown",
   "metadata": {},
   "source": [
    "# 1. Arreglos de Numpy\n",
    "\n",
    "Maneja matrices y sirve para realizar operaciones matriciales. Sirve para hacer clustering, agrupar entidades para identificar grupos de entidades que tienen ciertas características en común.\n",
    "\n",
    "Es una biblioteca de python sumamente importante pues de esta se desprenden muchas otras bibliotecas importantes más complejas como:\n",
    "- Pandas\n",
    "- Tensor Flow\n",
    "- SciPy\n",
    "- Matplotlib\n",
    "- SciKitLearn\n",
    "\n",
    "El elemento básico de trabajo de Numpy es el arreglo, puede ser de una o más dimensiones"
   ]
  },
  {
   "cell_type": "code",
   "execution_count": 1,
   "metadata": {},
   "outputs": [],
   "source": [
    "import numpy as np"
   ]
  },
  {
   "cell_type": "code",
   "execution_count": 2,
   "metadata": {},
   "outputs": [
    {
     "data": {
      "text/plain": [
       "numpy.ndarray"
      ]
     },
     "execution_count": 2,
     "metadata": {},
     "output_type": "execute_result"
    }
   ],
   "source": [
    "lista1 = [1,2,3,4,5]\n",
    "arreglo1 = np.array(lista1)\n",
    "type(arreglo1)"
   ]
  },
  {
   "cell_type": "code",
   "execution_count": 3,
   "metadata": {},
   "outputs": [
    {
     "data": {
      "text/plain": [
       "array([[1, 2, 3],\n",
       "       [4, 5, 6],\n",
       "       [7, 8, 9]])"
      ]
     },
     "execution_count": 3,
     "metadata": {},
     "output_type": "execute_result"
    }
   ],
   "source": [
    "lista2 = [\n",
    "    [1,2,3],\n",
    "    [4,5,6],\n",
    "    [7,8,9]\n",
    "]\n",
    "arreglo2 = np.array(lista2)\n",
    "arreglo2"
   ]
  },
  {
   "cell_type": "code",
   "execution_count": 4,
   "metadata": {},
   "outputs": [
    {
     "data": {
      "text/plain": [
       "array(['Vargas', 'True', '0'], dtype='<U11')"
      ]
     },
     "execution_count": 4,
     "metadata": {},
     "output_type": "execute_result"
    }
   ],
   "source": [
    "\"\"\" Una de las principales limitaciones de los arreglos de Numpy es que todo el arreglo tiene que contener elementos con un solo tipo de datos. Numpy automáticamente transformará los\n",
    "elementos dentro del arreglo al tipo en el que todos pueden ser procesados\"\"\"\n",
    "\n",
    "# En el siguiente ejemplo, todos los datos son convertidos a cadena\n",
    "np.array(['Vargas', True, 0])\n"
   ]
  },
  {
   "cell_type": "code",
   "execution_count": 5,
   "metadata": {},
   "outputs": [
    {
     "data": {
      "text/plain": [
       "array([-2, -1,  0,  1,  2,  3,  4,  5,  6])"
      ]
     },
     "execution_count": 5,
     "metadata": {},
     "output_type": "execute_result"
    }
   ],
   "source": [
    "# Operaciones de generacíón de arreglos\n",
    "np.zeros((5,4))\n",
    "np.random.random((3,2))     # Valores aleatorios entre 0 y 1\n",
    "np.arange(-2,7)             # Arreglo unidimensional con números que van dentro de un rango"
   ]
  },
  {
   "cell_type": "code",
   "execution_count": 6,
   "metadata": {},
   "outputs": [
    {
     "data": {
      "text/plain": [
       "(3, 2, 2)"
      ]
     },
     "execution_count": 6,
     "metadata": {},
     "output_type": "execute_result"
    }
   ],
   "source": [
    "# Ejercicio\n",
    "\n",
    "arreglo1  = np.array([[1,2],[5,7]])\n",
    "arreglo2 = np.array([[8,9], [5,7]])\n",
    "arreglo3 = np.array([[1,2],[5,7]])\n",
    "\n",
    "arreglo_final = np.array([arreglo1, arreglo2, arreglo3])\n",
    "arreglo_final.shape\n"
   ]
  },
  {
   "cell_type": "code",
   "execution_count": 7,
   "metadata": {},
   "outputs": [
    {
     "data": {
      "text/plain": [
       "array([[1, 2, 5],\n",
       "       [7, 8, 9],\n",
       "       [5, 7, 1],\n",
       "       [2, 5, 7]])"
      ]
     },
     "execution_count": 7,
     "metadata": {},
     "output_type": "execute_result"
    }
   ],
   "source": [
    "# Conversiones de arreglos\n",
    "arreglo_final.flatten()     # Aplana el arreglo a una sola dimensión\n",
    "arreglo_final.reshape(4,3)  # Cambia la forma del arreglo, el número total de elementos tiene que coincidir"
   ]
  },
  {
   "cell_type": "code",
   "execution_count": 8,
   "metadata": {},
   "outputs": [
    {
     "data": {
      "text/plain": [
       "array([  1,   2, 200])"
      ]
     },
     "execution_count": 8,
     "metadata": {},
     "output_type": "execute_result"
    }
   ],
   "source": [
    "# numpy puede utilizar más tipos de datos: int de 32 y 64 bits, floats de 32 y 64, esto optimiza memoria\n",
    "arreglo4 = np.array([1.25,2.43,200.88], dtype=np.float32)\n",
    "\n",
    "#se puede cambiar el tipo de dato con el que trabaja el arreglo, nota que en este caso no sería conveniente porque pedrería la parte decimal de los elementos del arreglo\n",
    "arreglo4 = arreglo4.astype(np.int32)\n",
    "arreglo4"
   ]
  },
  {
   "cell_type": "markdown",
   "metadata": {},
   "source": [
    "## Métodos de Numpy"
   ]
  },
  {
   "cell_type": "code",
   "execution_count": 24,
   "metadata": {},
   "outputs": [
    {
     "data": {
      "text/plain": [
       "array([[0, 1, 1],\n",
       "       [1, 0, 1],\n",
       "       [1, 3, 2],\n",
       "       [2, 2, 0]])"
      ]
     },
     "execution_count": 24,
     "metadata": {},
     "output_type": "execute_result"
    }
   ],
   "source": [
    "# Ejercicio: Considere los siguientes datos\n",
    "\n",
    "arreglo_ejercicio1 = np.array(\n",
    "    [[0,1,1],\n",
    "    [1,0,1],\n",
    "    [1,3,2],\n",
    "    [2,2,0]]\n",
    ")\n",
    "\n",
    "#El arreglo representa el número de accidentes en 3 área (columnas) en 4 años (renglo9nes)\n",
    "arreglo_ejercicio1"
   ]
  },
  {
   "cell_type": "code",
   "execution_count": 10,
   "metadata": {},
   "outputs": [
    {
     "name": "stdout",
     "output_type": "stream",
     "text": [
      "14\n",
      "[4 6 4]\n",
      "[[2]\n",
      " [2]\n",
      " [6]\n",
      " [4]]\n",
      "[2 3 2]\n",
      "[[1]\n",
      " [1]\n",
      " [3]\n",
      " [2]]\n",
      "[0 0 0]\n",
      "[[0]\n",
      " [0]\n",
      " [1]\n",
      " [0]]\n",
      "[1.  1.5 1. ]\n",
      "[[0.66666667]\n",
      " [0.66666667]\n",
      " [2.        ]\n",
      " [1.33333333]]\n"
     ]
    }
   ],
   "source": [
    "# Suma de accidentes\n",
    "print(arreglo_ejercicio1.sum())\n",
    "\n",
    "# El número total de accidentes por área (columna)\n",
    "print(arreglo_ejercicio1.sum(axis=0))\n",
    "\n",
    "# El número total de accdientes por año (renglón)\n",
    "print(arreglo_ejercicio1.sum(axis=1, keepdims=True))\n",
    "\n",
    "# El número máximo y mínomo de accidentes por área y año\n",
    "print(arreglo_ejercicio1.max(axis=0))\n",
    "print(arreglo_ejercicio1.max(axis=1, keepdims=True))\n",
    "print(arreglo_ejercicio1.min(axis=0))\n",
    "print(arreglo_ejercicio1.min(axis=1, keepdims=True))\n",
    "\n",
    "\n",
    "# El número promedio de accidentes por área y año\n",
    "print(arreglo_ejercicio1.mean(axis=0))\n",
    "print(arreglo_ejercicio1.mean(axis=1, keepdims=True))"
   ]
  },
  {
   "cell_type": "code",
   "execution_count": 15,
   "metadata": {},
   "outputs": [
    {
     "name": "stdout",
     "output_type": "stream",
     "text": [
      "El tiempo final es de: 0.0\n"
     ]
    }
   ],
   "source": [
    "# Operaciones vectorizadas: permiten realizar operaciones rápidamente. Como .sum, .mean, .max, .min, etc.\n",
    "import time\n",
    "\n",
    "# Ejercicio con np\n",
    "inicio = time.time()\n",
    "arreglo5 = np.array([[1,2,3],[4,5,6]])\n",
    "arreglo5 + 3\n",
    "\n",
    "fin = time.time()\n",
    "\n",
    "print('El tiempo final es de:', fin-inicio)"
   ]
  },
  {
   "cell_type": "markdown",
   "metadata": {},
   "source": [
    "## Broadcasting\n",
    "\n",
    "El broadcasting permite replicar el elemento de numpy para poder hacer la operación deseada, eso es lo que permite sumar tres a todos los números del ejercicio pasado, hace que ese 3 se vuelva una matriz completa llena de 3 que se pueda sumar con la matriz 4x3\n",
    "\n",
    "La condición para que se pueda dar el broadcasting es que por lo menos una de las dimensiones del arreglo sea 1. Por ejemplo, para la matriz 4x3 del ejercicio, puedo yo sumar una matriz 1x3 la cual se va a replicar para formar una matriz 4x3 en donde cada uno de los renglones sea esa matriz  1x3:\n"
   ]
  },
  {
   "cell_type": "code",
   "execution_count": 17,
   "metadata": {},
   "outputs": [
    {
     "data": {
      "text/plain": [
       "array([[1, 3, 4],\n",
       "       [2, 2, 4],\n",
       "       [2, 5, 5],\n",
       "       [3, 4, 3]])"
      ]
     },
     "execution_count": 17,
     "metadata": {},
     "output_type": "execute_result"
    }
   ],
   "source": [
    "\n",
    "arreglo_ejercicio1 + np.array([1,2,3])\n"
   ]
  },
  {
   "cell_type": "code",
   "execution_count": 26,
   "metadata": {},
   "outputs": [
    {
     "data": {
      "text/plain": [
       "array([[1, 2, 2],\n",
       "       [3, 2, 3],\n",
       "       [4, 6, 5],\n",
       "       [6, 6, 4]])"
      ]
     },
     "execution_count": 26,
     "metadata": {},
     "output_type": "execute_result"
    }
   ],
   "source": [
    "# Al hacerlo con la segunda dimensión se vuelve un poco mas complejo pues hay que ajustar para que las dimensiones coincidan\n",
    "arreglo_ejercicio1 + np.array([1,2,3,4]).reshape(4,1)"
   ]
  },
  {
   "cell_type": "code",
   "execution_count": 27,
   "metadata": {},
   "outputs": [
    {
     "data": {
      "text/plain": [
       "array([[0, 1, 1, 2],\n",
       "       [1, 0, 3, 2],\n",
       "       [1, 1, 2, 0]])"
      ]
     },
     "execution_count": 27,
     "metadata": {},
     "output_type": "execute_result"
    }
   ],
   "source": [
    "# También se pueden hacer transposiciones de matriz\n",
    "arreglo_ejercicio1.transpose()"
   ]
  },
  {
   "cell_type": "markdown",
   "metadata": {},
   "source": [
    "## Indexación y asignaciones con Numpy\n",
    "\n",
    "El objetivo es aprender a indexar, extrar, cortar y unir arreglos en numpy"
   ]
  },
  {
   "cell_type": "code",
   "execution_count": 29,
   "metadata": {},
   "outputs": [
    {
     "data": {
      "text/plain": [
       "array([0, 1, 2, 3, 4, 5, 6, 7, 8, 9])"
      ]
     },
     "execution_count": 29,
     "metadata": {},
     "output_type": "execute_result"
    }
   ],
   "source": [
    "x = np.arange(10)\n",
    "x"
   ]
  },
  {
   "cell_type": "code",
   "execution_count": 33,
   "metadata": {},
   "outputs": [
    {
     "name": "stdout",
     "output_type": "stream",
     "text": [
      "2\n",
      "8\n"
     ]
    }
   ],
   "source": [
    "print(x[2])            # Se extraen de la misma manera que las listas\n",
    "print(x[-2])"
   ]
  },
  {
   "cell_type": "code",
   "execution_count": 36,
   "metadata": {},
   "outputs": [
    {
     "data": {
      "text/plain": [
       "array([[0, 1, 2, 3, 4],\n",
       "       [5, 6, 7, 8, 9]])"
      ]
     },
     "execution_count": 36,
     "metadata": {},
     "output_type": "execute_result"
    }
   ],
   "source": [
    "x.shape = (2,5)\n",
    "x"
   ]
  },
  {
   "cell_type": "code",
   "execution_count": 41,
   "metadata": {},
   "outputs": [
    {
     "name": "stdout",
     "output_type": "stream",
     "text": [
      "8\n",
      "8\n",
      "4\n",
      "[0 1 2 3 4]\n"
     ]
    }
   ],
   "source": [
    "print(x[1,3])\n",
    "print(x[1][3])\n",
    "print(x[0,-1])\n",
    "print(x[0])"
   ]
  },
  {
   "cell_type": "code",
   "execution_count": 44,
   "metadata": {},
   "outputs": [
    {
     "name": "stdout",
     "output_type": "stream",
     "text": [
      "[[1 2]\n",
      " [6 7]]\n"
     ]
    }
   ],
   "source": [
    "# Cortes / Slicing\n",
    "print(x[::,1:3])"
   ]
  },
  {
   "cell_type": "code",
   "execution_count": 48,
   "metadata": {},
   "outputs": [
    {
     "data": {
      "text/plain": [
       "array([0, 4, 8, 1])"
      ]
     },
     "execution_count": 48,
     "metadata": {},
     "output_type": "execute_result"
    }
   ],
   "source": [
    "# Extracción por indices - Dándole una lista de los índices que queremos obtener\n",
    "x = np.arange(10)\n",
    "x[[0,4,8,1]]"
   ]
  },
  {
   "cell_type": "code",
   "execution_count": 49,
   "metadata": {},
   "outputs": [
    {
     "data": {
      "text/plain": [
       "array([[ 0,  1,  2,  3,  4,  5,  6],\n",
       "       [ 7,  8,  9, 10, 11, 12, 13],\n",
       "       [14, 15, 16, 17, 18, 19, 20],\n",
       "       [21, 22, 23, 24, 25, 26, 27],\n",
       "       [28, 29, 30, 31, 32, 33, 34]])"
      ]
     },
     "execution_count": 49,
     "metadata": {},
     "output_type": "execute_result"
    }
   ],
   "source": [
    "# Extraccion en pares\n",
    "y = np.arange(35).reshape(5,7)\n",
    "y"
   ]
  },
  {
   "cell_type": "code",
   "execution_count": 51,
   "metadata": {},
   "outputs": [
    {
     "data": {
      "text/plain": [
       "array([ 4, 19, 22])"
      ]
     },
     "execution_count": 51,
     "metadata": {},
     "output_type": "execute_result"
    }
   ],
   "source": [
    "y[np.array([0,2,3]),np.array([4,5,1])]          # Se extraen los elementos (0,4), (2,5) y (3,1)"
   ]
  },
  {
   "cell_type": "markdown",
   "metadata": {},
   "source": [
    "### Unión de arreglos"
   ]
  },
  {
   "cell_type": "code",
   "execution_count": 53,
   "metadata": {},
   "outputs": [
    {
     "data": {
      "text/plain": [
       "array([1, 2, 3, 4, 5, 6])"
      ]
     },
     "execution_count": 53,
     "metadata": {},
     "output_type": "execute_result"
    }
   ],
   "source": [
    "z = np.concatenate(([1,2,3],[4,5,6]))\n",
    "z"
   ]
  },
  {
   "cell_type": "code",
   "execution_count": 54,
   "metadata": {},
   "outputs": [
    {
     "data": {
      "text/plain": [
       "array([[1, 2, 3],\n",
       "       [4, 5, 6]])"
      ]
     },
     "execution_count": 54,
     "metadata": {},
     "output_type": "execute_result"
    }
   ],
   "source": [
    "# tambien se pueden apilar sobre una nueva diemnsion\n",
    "np.stack(([1,2,3],[4,5,6]))"
   ]
  }
 ],
 "metadata": {
  "kernelspec": {
   "display_name": "Python 3.10.4 ('py')",
   "language": "python",
   "name": "python3"
  },
  "language_info": {
   "codemirror_mode": {
    "name": "ipython",
    "version": 3
   },
   "file_extension": ".py",
   "mimetype": "text/x-python",
   "name": "python",
   "nbconvert_exporter": "python",
   "pygments_lexer": "ipython3",
   "version": "3.10.4"
  },
  "orig_nbformat": 4,
  "vscode": {
   "interpreter": {
    "hash": "5658e072d19a425ca9e6764fa85c0d23f211eb7b160e028d224862d13390dc19"
   }
  }
 },
 "nbformat": 4,
 "nbformat_minor": 2
}
