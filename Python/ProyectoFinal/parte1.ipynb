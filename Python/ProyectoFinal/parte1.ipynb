{
 "cells": [
  {
   "cell_type": "markdown",
   "metadata": {},
   "source": [
    "# Data Lake\n",
    "## Conceptos preeliminares\n",
    "- Un data lake es un repositorio central donde se pueden guardar datos estructurados y no estructurados. \n",
    "- Sobre  este repositorio se pueden generar analíticas de negocio, dashboards, visualizaciones, hasta procesamiento de big data\n",
    "- En un data lake se puede guardar la data como viene, sin ningun tipo de procesamiento\n",
    "- Luego vienen diferentes tipos de calidades en el data lake como Bronce (con posibles erroes, no limpia, con variaciones, etc., aqui están sin ningún procesamiento), Plata y Oro (ya completamente estructurada, mas facil de consumir)\n",
    "\n",
    "## Diferencias entre Data Lake y Data Warehouse \n",
    "Data - En data lae hay bases de datos relacionales, no relacionales, sitios web, data de IoT, de moviles, etc. En un Warehouse son bases de datos operacionales, sistemas transaccionales\n",
    "Esquemas - En DL se escriben al momento del análisis. En DW se diseñan antes de implementar el DW\n",
    "Precio / Performance - DL low cost muy rápido. DW resultados con performance de alto costo\n",
    "Calidad de datos - DL la data puede o no estar curada. El DW es el source of truth, ya todo está diseñado con más intención\n",
    "Usuarios - DL Analistas de negocio y cientificos de datos. DW analistas de negocio\n",
    "Analítica - Del DL puedes hacer ML, analitica predictiva, profiling, etc. Del DW puedes hacer visualizaciones y BI\n",
    "\n",
    "El DL es menos estructurado, más flexible. El DW es más estructurada, pensada para algunas aplicaciones en concreto, sin errores, etc.\n",
    "\n",
    "## Elementos de un Data Lake\n",
    "- Movimiento de datos - Se puede importar cualquier cantidad de datos en tiempo real. La data se obtiene de múltiples fuentes y se la puede mover a su formato original\n",
    "- Guardado seguro - Se puede guardar información relacional y no-relacional (como IoT, apps, redes sociales)\n",
    "- Machine Learning - Capacidades para empresas que quieren realizar este tipo de análisis de manera nativa\n",
    "- Analítica - Se obtiene además capacidades de analytics como Spark y otras tecnologías\n",
    "\n",
    "## Generando un Data Lake\n",
    "- AWS Glue - permite recoger datos de diferentes fuentes de manera segura\n",
    "- Amazon S3 - actúa como el storage priamrio de los elementos de las diferentes fuentas\n",
    "- Amazon Athena - Tecnología que se conecta a S3 y permite ver la información que se ha guardado\n",
    "- AWS Lake Formation (no lo vamos a ver por simplicidad)\n"
   ]
  },
  {
   "cell_type": "code",
   "execution_count": 4,
   "metadata": {},
   "outputs": [
    {
     "name": "stdout",
     "output_type": "stream",
     "text": [
      "<class 'pandas.core.frame.DataFrame'>\n",
      "RangeIndex: 21613 entries, 0 to 21612\n",
      "Data columns (total 21 columns):\n",
      " #   Column         Non-Null Count  Dtype  \n",
      "---  ------         --------------  -----  \n",
      " 0   id             21613 non-null  int64  \n",
      " 1   date           21613 non-null  object \n",
      " 2   price          21613 non-null  float64\n",
      " 3   bedrooms       21613 non-null  int64  \n",
      " 4   bathrooms      21613 non-null  float64\n",
      " 5   sqft_living    21613 non-null  int64  \n",
      " 6   sqft_lot       21613 non-null  int64  \n",
      " 7   floors         21613 non-null  float64\n",
      " 8   waterfront     21613 non-null  int64  \n",
      " 9   view           21613 non-null  int64  \n",
      " 10  condition      21613 non-null  int64  \n",
      " 11  grade          21613 non-null  int64  \n",
      " 12  sqft_above     21613 non-null  int64  \n",
      " 13  sqft_basement  21613 non-null  int64  \n",
      " 14  yr_built       21613 non-null  int64  \n",
      " 15  yr_renovated   21613 non-null  int64  \n",
      " 16  zipcode        21613 non-null  int64  \n",
      " 17  lat            21613 non-null  float64\n",
      " 18  long           21613 non-null  float64\n",
      " 19  sqft_living15  21613 non-null  int64  \n",
      " 20  sqft_lot15     21613 non-null  int64  \n",
      "dtypes: float64(5), int64(15), object(1)\n",
      "memory usage: 3.5+ MB\n"
     ]
    }
   ],
   "source": [
    "import pandas as pd\n",
    "df = pd.read_csv('D:\\DataAnalysis_EBAC\\ebac\\Python\\Modulo44\\kc_house_data.csv')\n",
    "df.info()"
   ]
  },
  {
   "cell_type": "code",
   "execution_count": 6,
   "metadata": {},
   "outputs": [],
   "source": [
    "df.to_csv('kc_house_data_fixed.csv', index=False)"
   ]
  }
 ],
 "metadata": {
  "kernelspec": {
   "display_name": "Python 3",
   "language": "python",
   "name": "python3"
  },
  "language_info": {
   "codemirror_mode": {
    "name": "ipython",
    "version": 3
   },
   "file_extension": ".py",
   "mimetype": "text/x-python",
   "name": "python",
   "nbconvert_exporter": "python",
   "pygments_lexer": "ipython3",
   "version": "3.11.7"
  }
 },
 "nbformat": 4,
 "nbformat_minor": 2
}
