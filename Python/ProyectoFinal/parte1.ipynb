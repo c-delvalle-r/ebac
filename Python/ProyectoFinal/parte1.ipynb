{
 "cells": [
  {
   "cell_type": "markdown",
   "metadata": {},
   "source": [
    "# Data Lake\n",
    "## Conceptos preeliminares\n",
    "- Un data lake es un repositorio central donde se pueden guardar datos estructurados y no estructurados. \n",
    "- Sobre  este repositorio se pueden generar analíticas de negocio, dashboards, visualizaciones, hasta procesamiento de big data\n",
    "- En un data lake se puede guardar la data como viene, sin ningun tipo de procesamiento\n",
    "- Luego vienen diferentes tipos de calidades en el data lake como Bronce (con posibles erroes, no limpia, con variaciones, etc., aqui están sin ningún procesamiento), Plata y Oro (ya completamente estructurada, mas facil de consumir)\n",
    "\n",
    "## Diferencias entre Data Lake y Data Warehouse \n",
    "Data - En data lae hay bases de datos relacionales, no relacionales, sitios web, data de IoT, de moviles, etc. En un Warehouse son bases de datos operacionales, sistemas transaccionales\n",
    "Esquemas - En DL se escriben al momento del análisis. En DW se diseñan antes de implementar el DW\n",
    "Precio / Performance - DL low cost muy rápido. DW resultados con performance de alto costo\n",
    "Calidad de datos - DL la data puede o no estar curada. El DW es el source of truth, ya todo está diseñado con más intención\n",
    "Usuarios - DL Analistas de negocio y cientificos de datos. DW analistas de negocio\n",
    "Analítica - Del DL puedes hacer ML, analitica predictiva, profiling, etc. Del DW puedes hacer visualizaciones y BI\n",
    "\n",
    "El DL es menos estructurado, más flexible. El DW es más estructurada, pensada para algunas aplicaciones en concreto, sin errores, etc.\n",
    "\n",
    "## Elementos de un Data Lake\n",
    "- Movimiento de datos - Se puede importar cualquier cantidad de datos en tiempo real. La data se obtiene de múltiples fuentes y se la puede mover a su formato original\n",
    "- Guardado seguro - Se puede guardar información relacional y no-relacional (como IoT, apps, redes sociales)\n",
    "- Machine Learning - Capacidades para empresas que quieren realizar este tipo de análisis de manera nativa\n",
    "- Analítica - Se obtiene además capacidades de analytics como Spark y otras tecnologías\n",
    "\n",
    "## Generando un Data Lake\n",
    "- AWS Glue - permite recoger datos de diferentes fuentes de manera segura\n",
    "- Amazon S3 - actúa como el storage priamrio de los elementos de las diferentes fuentas\n",
    "- Amazon Athena - Tecnología que se conecta a S3 y permite ver la información que se ha guardado\n",
    "- AWS Lake Formation (no lo vamos a ver por simplicidad)\n"
   ]
  },
  {
   "cell_type": "code",
   "execution_count": null,
   "metadata": {},
   "outputs": [],
   "source": []
  }
 ],
 "metadata": {
  "language_info": {
   "name": "python"
  }
 },
 "nbformat": 4,
 "nbformat_minor": 2
}
